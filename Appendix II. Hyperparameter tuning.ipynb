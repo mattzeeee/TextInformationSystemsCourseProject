{
  "nbformat": 4,
  "nbformat_minor": 0,
  "metadata": {
    "accelerator": "GPU",
    "colab": {
      "name": "GoogleColab_RobertaLarge_HyperparameterTuning_Context.ipynb",
      "provenance": [],
      "collapsed_sections": []
    },
    "kernelspec": {
      "display_name": "Python 3",
      "name": "python3"
    },
    "widgets": {
      "application/vnd.jupyter.widget-state+json": {
        "c7240589ece349268aba5627298a621e": {
          "model_module": "@jupyter-widgets/controls",
          "model_name": "HBoxModel",
          "state": {
            "_view_name": "HBoxView",
            "_dom_classes": [],
            "_model_name": "HBoxModel",
            "_view_module": "@jupyter-widgets/controls",
            "_model_module_version": "1.5.0",
            "_view_count": null,
            "_view_module_version": "1.5.0",
            "box_style": "",
            "layout": "IPY_MODEL_1f27764972be469ca135f3db4742feca",
            "_model_module": "@jupyter-widgets/controls",
            "children": [
              "IPY_MODEL_388a49c1ba5e41c4bd11074545b9693d",
              "IPY_MODEL_5c3b52e9fcef4a5986a3b066d7dc2f7c",
              "IPY_MODEL_0150fbaab6574d648e460f10b67e2186"
            ]
          }
        },
        "1f27764972be469ca135f3db4742feca": {
          "model_module": "@jupyter-widgets/base",
          "model_name": "LayoutModel",
          "state": {
            "_view_name": "LayoutView",
            "grid_template_rows": null,
            "right": null,
            "justify_content": null,
            "_view_module": "@jupyter-widgets/base",
            "overflow": null,
            "_model_module_version": "1.2.0",
            "_view_count": null,
            "flex_flow": null,
            "width": null,
            "min_width": null,
            "border": null,
            "align_items": null,
            "bottom": null,
            "_model_module": "@jupyter-widgets/base",
            "top": null,
            "grid_column": null,
            "overflow_y": null,
            "overflow_x": null,
            "grid_auto_flow": null,
            "grid_area": null,
            "grid_template_columns": null,
            "flex": null,
            "_model_name": "LayoutModel",
            "justify_items": null,
            "grid_row": null,
            "max_height": null,
            "align_content": null,
            "visibility": null,
            "align_self": null,
            "height": null,
            "min_height": null,
            "padding": null,
            "grid_auto_rows": null,
            "grid_gap": null,
            "max_width": null,
            "order": null,
            "_view_module_version": "1.2.0",
            "grid_template_areas": null,
            "object_position": null,
            "object_fit": null,
            "grid_auto_columns": null,
            "margin": null,
            "display": null,
            "left": null
          }
        },
        "388a49c1ba5e41c4bd11074545b9693d": {
          "model_module": "@jupyter-widgets/controls",
          "model_name": "HTMLModel",
          "state": {
            "_view_name": "HTMLView",
            "style": "IPY_MODEL_295cd3e5d52d4d03bf6df408f5f0e565",
            "_dom_classes": [],
            "description": "",
            "_model_name": "HTMLModel",
            "placeholder": "​",
            "_view_module": "@jupyter-widgets/controls",
            "_model_module_version": "1.5.0",
            "value": "Downloading: 100%",
            "_view_count": null,
            "_view_module_version": "1.5.0",
            "description_tooltip": null,
            "_model_module": "@jupyter-widgets/controls",
            "layout": "IPY_MODEL_0233031a8c7a4107afc93032905bd1cd"
          }
        },
        "5c3b52e9fcef4a5986a3b066d7dc2f7c": {
          "model_module": "@jupyter-widgets/controls",
          "model_name": "FloatProgressModel",
          "state": {
            "_view_name": "ProgressView",
            "style": "IPY_MODEL_11d25615415142e2b5a88256a482ee8f",
            "_dom_classes": [],
            "description": "",
            "_model_name": "FloatProgressModel",
            "bar_style": "success",
            "max": 481,
            "_view_module": "@jupyter-widgets/controls",
            "_model_module_version": "1.5.0",
            "value": 481,
            "_view_count": null,
            "_view_module_version": "1.5.0",
            "orientation": "horizontal",
            "min": 0,
            "description_tooltip": null,
            "_model_module": "@jupyter-widgets/controls",
            "layout": "IPY_MODEL_133c1e352ea8450a8c5a89d5d6d1c8be"
          }
        },
        "0150fbaab6574d648e460f10b67e2186": {
          "model_module": "@jupyter-widgets/controls",
          "model_name": "HTMLModel",
          "state": {
            "_view_name": "HTMLView",
            "style": "IPY_MODEL_aed165f86d914ad0bed77587fe86327f",
            "_dom_classes": [],
            "description": "",
            "_model_name": "HTMLModel",
            "placeholder": "​",
            "_view_module": "@jupyter-widgets/controls",
            "_model_module_version": "1.5.0",
            "value": " 481/481 [00:00&lt;00:00, 1.42kB/s]",
            "_view_count": null,
            "_view_module_version": "1.5.0",
            "description_tooltip": null,
            "_model_module": "@jupyter-widgets/controls",
            "layout": "IPY_MODEL_1b58b1eceece49fe90b794aae48a184d"
          }
        },
        "295cd3e5d52d4d03bf6df408f5f0e565": {
          "model_module": "@jupyter-widgets/controls",
          "model_name": "DescriptionStyleModel",
          "state": {
            "_view_name": "StyleView",
            "_model_name": "DescriptionStyleModel",
            "description_width": "",
            "_view_module": "@jupyter-widgets/base",
            "_model_module_version": "1.5.0",
            "_view_count": null,
            "_view_module_version": "1.2.0",
            "_model_module": "@jupyter-widgets/controls"
          }
        },
        "0233031a8c7a4107afc93032905bd1cd": {
          "model_module": "@jupyter-widgets/base",
          "model_name": "LayoutModel",
          "state": {
            "_view_name": "LayoutView",
            "grid_template_rows": null,
            "right": null,
            "justify_content": null,
            "_view_module": "@jupyter-widgets/base",
            "overflow": null,
            "_model_module_version": "1.2.0",
            "_view_count": null,
            "flex_flow": null,
            "width": null,
            "min_width": null,
            "border": null,
            "align_items": null,
            "bottom": null,
            "_model_module": "@jupyter-widgets/base",
            "top": null,
            "grid_column": null,
            "overflow_y": null,
            "overflow_x": null,
            "grid_auto_flow": null,
            "grid_area": null,
            "grid_template_columns": null,
            "flex": null,
            "_model_name": "LayoutModel",
            "justify_items": null,
            "grid_row": null,
            "max_height": null,
            "align_content": null,
            "visibility": null,
            "align_self": null,
            "height": null,
            "min_height": null,
            "padding": null,
            "grid_auto_rows": null,
            "grid_gap": null,
            "max_width": null,
            "order": null,
            "_view_module_version": "1.2.0",
            "grid_template_areas": null,
            "object_position": null,
            "object_fit": null,
            "grid_auto_columns": null,
            "margin": null,
            "display": null,
            "left": null
          }
        },
        "11d25615415142e2b5a88256a482ee8f": {
          "model_module": "@jupyter-widgets/controls",
          "model_name": "ProgressStyleModel",
          "state": {
            "_view_name": "StyleView",
            "_model_name": "ProgressStyleModel",
            "description_width": "",
            "_view_module": "@jupyter-widgets/base",
            "_model_module_version": "1.5.0",
            "_view_count": null,
            "_view_module_version": "1.2.0",
            "bar_color": null,
            "_model_module": "@jupyter-widgets/controls"
          }
        },
        "133c1e352ea8450a8c5a89d5d6d1c8be": {
          "model_module": "@jupyter-widgets/base",
          "model_name": "LayoutModel",
          "state": {
            "_view_name": "LayoutView",
            "grid_template_rows": null,
            "right": null,
            "justify_content": null,
            "_view_module": "@jupyter-widgets/base",
            "overflow": null,
            "_model_module_version": "1.2.0",
            "_view_count": null,
            "flex_flow": null,
            "width": null,
            "min_width": null,
            "border": null,
            "align_items": null,
            "bottom": null,
            "_model_module": "@jupyter-widgets/base",
            "top": null,
            "grid_column": null,
            "overflow_y": null,
            "overflow_x": null,
            "grid_auto_flow": null,
            "grid_area": null,
            "grid_template_columns": null,
            "flex": null,
            "_model_name": "LayoutModel",
            "justify_items": null,
            "grid_row": null,
            "max_height": null,
            "align_content": null,
            "visibility": null,
            "align_self": null,
            "height": null,
            "min_height": null,
            "padding": null,
            "grid_auto_rows": null,
            "grid_gap": null,
            "max_width": null,
            "order": null,
            "_view_module_version": "1.2.0",
            "grid_template_areas": null,
            "object_position": null,
            "object_fit": null,
            "grid_auto_columns": null,
            "margin": null,
            "display": null,
            "left": null
          }
        },
        "aed165f86d914ad0bed77587fe86327f": {
          "model_module": "@jupyter-widgets/controls",
          "model_name": "DescriptionStyleModel",
          "state": {
            "_view_name": "StyleView",
            "_model_name": "DescriptionStyleModel",
            "description_width": "",
            "_view_module": "@jupyter-widgets/base",
            "_model_module_version": "1.5.0",
            "_view_count": null,
            "_view_module_version": "1.2.0",
            "_model_module": "@jupyter-widgets/controls"
          }
        },
        "1b58b1eceece49fe90b794aae48a184d": {
          "model_module": "@jupyter-widgets/base",
          "model_name": "LayoutModel",
          "state": {
            "_view_name": "LayoutView",
            "grid_template_rows": null,
            "right": null,
            "justify_content": null,
            "_view_module": "@jupyter-widgets/base",
            "overflow": null,
            "_model_module_version": "1.2.0",
            "_view_count": null,
            "flex_flow": null,
            "width": null,
            "min_width": null,
            "border": null,
            "align_items": null,
            "bottom": null,
            "_model_module": "@jupyter-widgets/base",
            "top": null,
            "grid_column": null,
            "overflow_y": null,
            "overflow_x": null,
            "grid_auto_flow": null,
            "grid_area": null,
            "grid_template_columns": null,
            "flex": null,
            "_model_name": "LayoutModel",
            "justify_items": null,
            "grid_row": null,
            "max_height": null,
            "align_content": null,
            "visibility": null,
            "align_self": null,
            "height": null,
            "min_height": null,
            "padding": null,
            "grid_auto_rows": null,
            "grid_gap": null,
            "max_width": null,
            "order": null,
            "_view_module_version": "1.2.0",
            "grid_template_areas": null,
            "object_position": null,
            "object_fit": null,
            "grid_auto_columns": null,
            "margin": null,
            "display": null,
            "left": null
          }
        },
        "a673bb86227849438409a179b5703ed5": {
          "model_module": "@jupyter-widgets/controls",
          "model_name": "HBoxModel",
          "state": {
            "_view_name": "HBoxView",
            "_dom_classes": [],
            "_model_name": "HBoxModel",
            "_view_module": "@jupyter-widgets/controls",
            "_model_module_version": "1.5.0",
            "_view_count": null,
            "_view_module_version": "1.5.0",
            "box_style": "",
            "layout": "IPY_MODEL_eab04e7b2c174306a1a4a7fd062aece8",
            "_model_module": "@jupyter-widgets/controls",
            "children": [
              "IPY_MODEL_9dccb00ae16e4aa5bc7df2b157e53640",
              "IPY_MODEL_7ebb2c79d9994005b4be2286f7933e96",
              "IPY_MODEL_0143bf2fe22040b9b58eb64b26abc3b0"
            ]
          }
        },
        "eab04e7b2c174306a1a4a7fd062aece8": {
          "model_module": "@jupyter-widgets/base",
          "model_name": "LayoutModel",
          "state": {
            "_view_name": "LayoutView",
            "grid_template_rows": null,
            "right": null,
            "justify_content": null,
            "_view_module": "@jupyter-widgets/base",
            "overflow": null,
            "_model_module_version": "1.2.0",
            "_view_count": null,
            "flex_flow": null,
            "width": null,
            "min_width": null,
            "border": null,
            "align_items": null,
            "bottom": null,
            "_model_module": "@jupyter-widgets/base",
            "top": null,
            "grid_column": null,
            "overflow_y": null,
            "overflow_x": null,
            "grid_auto_flow": null,
            "grid_area": null,
            "grid_template_columns": null,
            "flex": null,
            "_model_name": "LayoutModel",
            "justify_items": null,
            "grid_row": null,
            "max_height": null,
            "align_content": null,
            "visibility": null,
            "align_self": null,
            "height": null,
            "min_height": null,
            "padding": null,
            "grid_auto_rows": null,
            "grid_gap": null,
            "max_width": null,
            "order": null,
            "_view_module_version": "1.2.0",
            "grid_template_areas": null,
            "object_position": null,
            "object_fit": null,
            "grid_auto_columns": null,
            "margin": null,
            "display": null,
            "left": null
          }
        },
        "9dccb00ae16e4aa5bc7df2b157e53640": {
          "model_module": "@jupyter-widgets/controls",
          "model_name": "HTMLModel",
          "state": {
            "_view_name": "HTMLView",
            "style": "IPY_MODEL_6b92a672467743f6bda69c62da53c697",
            "_dom_classes": [],
            "description": "",
            "_model_name": "HTMLModel",
            "placeholder": "​",
            "_view_module": "@jupyter-widgets/controls",
            "_model_module_version": "1.5.0",
            "value": "Downloading: 100%",
            "_view_count": null,
            "_view_module_version": "1.5.0",
            "description_tooltip": null,
            "_model_module": "@jupyter-widgets/controls",
            "layout": "IPY_MODEL_a36821e2bd1f46c5a9fa287b36d19010"
          }
        },
        "7ebb2c79d9994005b4be2286f7933e96": {
          "model_module": "@jupyter-widgets/controls",
          "model_name": "FloatProgressModel",
          "state": {
            "_view_name": "ProgressView",
            "style": "IPY_MODEL_92d760c43796405ea0d15a1d8e1e856e",
            "_dom_classes": [],
            "description": "",
            "_model_name": "FloatProgressModel",
            "bar_style": "success",
            "max": 501200538,
            "_view_module": "@jupyter-widgets/controls",
            "_model_module_version": "1.5.0",
            "value": 501200538,
            "_view_count": null,
            "_view_module_version": "1.5.0",
            "orientation": "horizontal",
            "min": 0,
            "description_tooltip": null,
            "_model_module": "@jupyter-widgets/controls",
            "layout": "IPY_MODEL_bbde5cb7633e4c27911dd6ee76cb0a78"
          }
        },
        "0143bf2fe22040b9b58eb64b26abc3b0": {
          "model_module": "@jupyter-widgets/controls",
          "model_name": "HTMLModel",
          "state": {
            "_view_name": "HTMLView",
            "style": "IPY_MODEL_e5fdc30407dd4ea2abec5404c8a581d2",
            "_dom_classes": [],
            "description": "",
            "_model_name": "HTMLModel",
            "placeholder": "​",
            "_view_module": "@jupyter-widgets/controls",
            "_model_module_version": "1.5.0",
            "value": " 501M/501M [00:35&lt;00:00, 14.1MB/s]",
            "_view_count": null,
            "_view_module_version": "1.5.0",
            "description_tooltip": null,
            "_model_module": "@jupyter-widgets/controls",
            "layout": "IPY_MODEL_d2ebd87983ae41ab885644bb611e6e44"
          }
        },
        "6b92a672467743f6bda69c62da53c697": {
          "model_module": "@jupyter-widgets/controls",
          "model_name": "DescriptionStyleModel",
          "state": {
            "_view_name": "StyleView",
            "_model_name": "DescriptionStyleModel",
            "description_width": "",
            "_view_module": "@jupyter-widgets/base",
            "_model_module_version": "1.5.0",
            "_view_count": null,
            "_view_module_version": "1.2.0",
            "_model_module": "@jupyter-widgets/controls"
          }
        },
        "a36821e2bd1f46c5a9fa287b36d19010": {
          "model_module": "@jupyter-widgets/base",
          "model_name": "LayoutModel",
          "state": {
            "_view_name": "LayoutView",
            "grid_template_rows": null,
            "right": null,
            "justify_content": null,
            "_view_module": "@jupyter-widgets/base",
            "overflow": null,
            "_model_module_version": "1.2.0",
            "_view_count": null,
            "flex_flow": null,
            "width": null,
            "min_width": null,
            "border": null,
            "align_items": null,
            "bottom": null,
            "_model_module": "@jupyter-widgets/base",
            "top": null,
            "grid_column": null,
            "overflow_y": null,
            "overflow_x": null,
            "grid_auto_flow": null,
            "grid_area": null,
            "grid_template_columns": null,
            "flex": null,
            "_model_name": "LayoutModel",
            "justify_items": null,
            "grid_row": null,
            "max_height": null,
            "align_content": null,
            "visibility": null,
            "align_self": null,
            "height": null,
            "min_height": null,
            "padding": null,
            "grid_auto_rows": null,
            "grid_gap": null,
            "max_width": null,
            "order": null,
            "_view_module_version": "1.2.0",
            "grid_template_areas": null,
            "object_position": null,
            "object_fit": null,
            "grid_auto_columns": null,
            "margin": null,
            "display": null,
            "left": null
          }
        },
        "92d760c43796405ea0d15a1d8e1e856e": {
          "model_module": "@jupyter-widgets/controls",
          "model_name": "ProgressStyleModel",
          "state": {
            "_view_name": "StyleView",
            "_model_name": "ProgressStyleModel",
            "description_width": "",
            "_view_module": "@jupyter-widgets/base",
            "_model_module_version": "1.5.0",
            "_view_count": null,
            "_view_module_version": "1.2.0",
            "bar_color": null,
            "_model_module": "@jupyter-widgets/controls"
          }
        },
        "bbde5cb7633e4c27911dd6ee76cb0a78": {
          "model_module": "@jupyter-widgets/base",
          "model_name": "LayoutModel",
          "state": {
            "_view_name": "LayoutView",
            "grid_template_rows": null,
            "right": null,
            "justify_content": null,
            "_view_module": "@jupyter-widgets/base",
            "overflow": null,
            "_model_module_version": "1.2.0",
            "_view_count": null,
            "flex_flow": null,
            "width": null,
            "min_width": null,
            "border": null,
            "align_items": null,
            "bottom": null,
            "_model_module": "@jupyter-widgets/base",
            "top": null,
            "grid_column": null,
            "overflow_y": null,
            "overflow_x": null,
            "grid_auto_flow": null,
            "grid_area": null,
            "grid_template_columns": null,
            "flex": null,
            "_model_name": "LayoutModel",
            "justify_items": null,
            "grid_row": null,
            "max_height": null,
            "align_content": null,
            "visibility": null,
            "align_self": null,
            "height": null,
            "min_height": null,
            "padding": null,
            "grid_auto_rows": null,
            "grid_gap": null,
            "max_width": null,
            "order": null,
            "_view_module_version": "1.2.0",
            "grid_template_areas": null,
            "object_position": null,
            "object_fit": null,
            "grid_auto_columns": null,
            "margin": null,
            "display": null,
            "left": null
          }
        },
        "e5fdc30407dd4ea2abec5404c8a581d2": {
          "model_module": "@jupyter-widgets/controls",
          "model_name": "DescriptionStyleModel",
          "state": {
            "_view_name": "StyleView",
            "_model_name": "DescriptionStyleModel",
            "description_width": "",
            "_view_module": "@jupyter-widgets/base",
            "_model_module_version": "1.5.0",
            "_view_count": null,
            "_view_module_version": "1.2.0",
            "_model_module": "@jupyter-widgets/controls"
          }
        },
        "d2ebd87983ae41ab885644bb611e6e44": {
          "model_module": "@jupyter-widgets/base",
          "model_name": "LayoutModel",
          "state": {
            "_view_name": "LayoutView",
            "grid_template_rows": null,
            "right": null,
            "justify_content": null,
            "_view_module": "@jupyter-widgets/base",
            "overflow": null,
            "_model_module_version": "1.2.0",
            "_view_count": null,
            "flex_flow": null,
            "width": null,
            "min_width": null,
            "border": null,
            "align_items": null,
            "bottom": null,
            "_model_module": "@jupyter-widgets/base",
            "top": null,
            "grid_column": null,
            "overflow_y": null,
            "overflow_x": null,
            "grid_auto_flow": null,
            "grid_area": null,
            "grid_template_columns": null,
            "flex": null,
            "_model_name": "LayoutModel",
            "justify_items": null,
            "grid_row": null,
            "max_height": null,
            "align_content": null,
            "visibility": null,
            "align_self": null,
            "height": null,
            "min_height": null,
            "padding": null,
            "grid_auto_rows": null,
            "grid_gap": null,
            "max_width": null,
            "order": null,
            "_view_module_version": "1.2.0",
            "grid_template_areas": null,
            "object_position": null,
            "object_fit": null,
            "grid_auto_columns": null,
            "margin": null,
            "display": null,
            "left": null
          }
        },
        "9678c6b02ba740b99f4a04d3eeaf5bb9": {
          "model_module": "@jupyter-widgets/controls",
          "model_name": "HBoxModel",
          "state": {
            "_view_name": "HBoxView",
            "_dom_classes": [],
            "_model_name": "HBoxModel",
            "_view_module": "@jupyter-widgets/controls",
            "_model_module_version": "1.5.0",
            "_view_count": null,
            "_view_module_version": "1.5.0",
            "box_style": "",
            "layout": "IPY_MODEL_b897cd4f3d1e4e07ad4c27586a6ff7a4",
            "_model_module": "@jupyter-widgets/controls",
            "children": [
              "IPY_MODEL_6cbcd43e775e41e7a9a3b624eff0abdd",
              "IPY_MODEL_3ce30dbbd3524df0b9319077c0eca685",
              "IPY_MODEL_33b26e2e1ea44e28b702a4a82ad42614"
            ]
          }
        },
        "b897cd4f3d1e4e07ad4c27586a6ff7a4": {
          "model_module": "@jupyter-widgets/base",
          "model_name": "LayoutModel",
          "state": {
            "_view_name": "LayoutView",
            "grid_template_rows": null,
            "right": null,
            "justify_content": null,
            "_view_module": "@jupyter-widgets/base",
            "overflow": null,
            "_model_module_version": "1.2.0",
            "_view_count": null,
            "flex_flow": null,
            "width": null,
            "min_width": null,
            "border": null,
            "align_items": null,
            "bottom": null,
            "_model_module": "@jupyter-widgets/base",
            "top": null,
            "grid_column": null,
            "overflow_y": null,
            "overflow_x": null,
            "grid_auto_flow": null,
            "grid_area": null,
            "grid_template_columns": null,
            "flex": null,
            "_model_name": "LayoutModel",
            "justify_items": null,
            "grid_row": null,
            "max_height": null,
            "align_content": null,
            "visibility": null,
            "align_self": null,
            "height": null,
            "min_height": null,
            "padding": null,
            "grid_auto_rows": null,
            "grid_gap": null,
            "max_width": null,
            "order": null,
            "_view_module_version": "1.2.0",
            "grid_template_areas": null,
            "object_position": null,
            "object_fit": null,
            "grid_auto_columns": null,
            "margin": null,
            "display": null,
            "left": null
          }
        },
        "6cbcd43e775e41e7a9a3b624eff0abdd": {
          "model_module": "@jupyter-widgets/controls",
          "model_name": "HTMLModel",
          "state": {
            "_view_name": "HTMLView",
            "style": "IPY_MODEL_7d4ed0e6034245bbb0ed760c2cd47593",
            "_dom_classes": [],
            "description": "",
            "_model_name": "HTMLModel",
            "placeholder": "​",
            "_view_module": "@jupyter-widgets/controls",
            "_model_module_version": "1.5.0",
            "value": "Downloading: 100%",
            "_view_count": null,
            "_view_module_version": "1.5.0",
            "description_tooltip": null,
            "_model_module": "@jupyter-widgets/controls",
            "layout": "IPY_MODEL_92260bd496924e5caf772d6f94731141"
          }
        },
        "3ce30dbbd3524df0b9319077c0eca685": {
          "model_module": "@jupyter-widgets/controls",
          "model_name": "FloatProgressModel",
          "state": {
            "_view_name": "ProgressView",
            "style": "IPY_MODEL_fac6276d36e84420811206fb9910e981",
            "_dom_classes": [],
            "description": "",
            "_model_name": "FloatProgressModel",
            "bar_style": "success",
            "max": 898823,
            "_view_module": "@jupyter-widgets/controls",
            "_model_module_version": "1.5.0",
            "value": 898823,
            "_view_count": null,
            "_view_module_version": "1.5.0",
            "orientation": "horizontal",
            "min": 0,
            "description_tooltip": null,
            "_model_module": "@jupyter-widgets/controls",
            "layout": "IPY_MODEL_737394f82f3641878cf8ceb946517fb0"
          }
        },
        "33b26e2e1ea44e28b702a4a82ad42614": {
          "model_module": "@jupyter-widgets/controls",
          "model_name": "HTMLModel",
          "state": {
            "_view_name": "HTMLView",
            "style": "IPY_MODEL_f7504809813b4c7b91d46825228b3c63",
            "_dom_classes": [],
            "description": "",
            "_model_name": "HTMLModel",
            "placeholder": "​",
            "_view_module": "@jupyter-widgets/controls",
            "_model_module_version": "1.5.0",
            "value": " 899k/899k [00:01&lt;00:00, 702kB/s]",
            "_view_count": null,
            "_view_module_version": "1.5.0",
            "description_tooltip": null,
            "_model_module": "@jupyter-widgets/controls",
            "layout": "IPY_MODEL_18b73f53d6fe497ca8deb19050a899c4"
          }
        },
        "7d4ed0e6034245bbb0ed760c2cd47593": {
          "model_module": "@jupyter-widgets/controls",
          "model_name": "DescriptionStyleModel",
          "state": {
            "_view_name": "StyleView",
            "_model_name": "DescriptionStyleModel",
            "description_width": "",
            "_view_module": "@jupyter-widgets/base",
            "_model_module_version": "1.5.0",
            "_view_count": null,
            "_view_module_version": "1.2.0",
            "_model_module": "@jupyter-widgets/controls"
          }
        },
        "92260bd496924e5caf772d6f94731141": {
          "model_module": "@jupyter-widgets/base",
          "model_name": "LayoutModel",
          "state": {
            "_view_name": "LayoutView",
            "grid_template_rows": null,
            "right": null,
            "justify_content": null,
            "_view_module": "@jupyter-widgets/base",
            "overflow": null,
            "_model_module_version": "1.2.0",
            "_view_count": null,
            "flex_flow": null,
            "width": null,
            "min_width": null,
            "border": null,
            "align_items": null,
            "bottom": null,
            "_model_module": "@jupyter-widgets/base",
            "top": null,
            "grid_column": null,
            "overflow_y": null,
            "overflow_x": null,
            "grid_auto_flow": null,
            "grid_area": null,
            "grid_template_columns": null,
            "flex": null,
            "_model_name": "LayoutModel",
            "justify_items": null,
            "grid_row": null,
            "max_height": null,
            "align_content": null,
            "visibility": null,
            "align_self": null,
            "height": null,
            "min_height": null,
            "padding": null,
            "grid_auto_rows": null,
            "grid_gap": null,
            "max_width": null,
            "order": null,
            "_view_module_version": "1.2.0",
            "grid_template_areas": null,
            "object_position": null,
            "object_fit": null,
            "grid_auto_columns": null,
            "margin": null,
            "display": null,
            "left": null
          }
        },
        "fac6276d36e84420811206fb9910e981": {
          "model_module": "@jupyter-widgets/controls",
          "model_name": "ProgressStyleModel",
          "state": {
            "_view_name": "StyleView",
            "_model_name": "ProgressStyleModel",
            "description_width": "",
            "_view_module": "@jupyter-widgets/base",
            "_model_module_version": "1.5.0",
            "_view_count": null,
            "_view_module_version": "1.2.0",
            "bar_color": null,
            "_model_module": "@jupyter-widgets/controls"
          }
        },
        "737394f82f3641878cf8ceb946517fb0": {
          "model_module": "@jupyter-widgets/base",
          "model_name": "LayoutModel",
          "state": {
            "_view_name": "LayoutView",
            "grid_template_rows": null,
            "right": null,
            "justify_content": null,
            "_view_module": "@jupyter-widgets/base",
            "overflow": null,
            "_model_module_version": "1.2.0",
            "_view_count": null,
            "flex_flow": null,
            "width": null,
            "min_width": null,
            "border": null,
            "align_items": null,
            "bottom": null,
            "_model_module": "@jupyter-widgets/base",
            "top": null,
            "grid_column": null,
            "overflow_y": null,
            "overflow_x": null,
            "grid_auto_flow": null,
            "grid_area": null,
            "grid_template_columns": null,
            "flex": null,
            "_model_name": "LayoutModel",
            "justify_items": null,
            "grid_row": null,
            "max_height": null,
            "align_content": null,
            "visibility": null,
            "align_self": null,
            "height": null,
            "min_height": null,
            "padding": null,
            "grid_auto_rows": null,
            "grid_gap": null,
            "max_width": null,
            "order": null,
            "_view_module_version": "1.2.0",
            "grid_template_areas": null,
            "object_position": null,
            "object_fit": null,
            "grid_auto_columns": null,
            "margin": null,
            "display": null,
            "left": null
          }
        },
        "f7504809813b4c7b91d46825228b3c63": {
          "model_module": "@jupyter-widgets/controls",
          "model_name": "DescriptionStyleModel",
          "state": {
            "_view_name": "StyleView",
            "_model_name": "DescriptionStyleModel",
            "description_width": "",
            "_view_module": "@jupyter-widgets/base",
            "_model_module_version": "1.5.0",
            "_view_count": null,
            "_view_module_version": "1.2.0",
            "_model_module": "@jupyter-widgets/controls"
          }
        },
        "18b73f53d6fe497ca8deb19050a899c4": {
          "model_module": "@jupyter-widgets/base",
          "model_name": "LayoutModel",
          "state": {
            "_view_name": "LayoutView",
            "grid_template_rows": null,
            "right": null,
            "justify_content": null,
            "_view_module": "@jupyter-widgets/base",
            "overflow": null,
            "_model_module_version": "1.2.0",
            "_view_count": null,
            "flex_flow": null,
            "width": null,
            "min_width": null,
            "border": null,
            "align_items": null,
            "bottom": null,
            "_model_module": "@jupyter-widgets/base",
            "top": null,
            "grid_column": null,
            "overflow_y": null,
            "overflow_x": null,
            "grid_auto_flow": null,
            "grid_area": null,
            "grid_template_columns": null,
            "flex": null,
            "_model_name": "LayoutModel",
            "justify_items": null,
            "grid_row": null,
            "max_height": null,
            "align_content": null,
            "visibility": null,
            "align_self": null,
            "height": null,
            "min_height": null,
            "padding": null,
            "grid_auto_rows": null,
            "grid_gap": null,
            "max_width": null,
            "order": null,
            "_view_module_version": "1.2.0",
            "grid_template_areas": null,
            "object_position": null,
            "object_fit": null,
            "grid_auto_columns": null,
            "margin": null,
            "display": null,
            "left": null
          }
        },
        "e267eb2a2c1a430ea502a63a2e476aa8": {
          "model_module": "@jupyter-widgets/controls",
          "model_name": "HBoxModel",
          "state": {
            "_view_name": "HBoxView",
            "_dom_classes": [],
            "_model_name": "HBoxModel",
            "_view_module": "@jupyter-widgets/controls",
            "_model_module_version": "1.5.0",
            "_view_count": null,
            "_view_module_version": "1.5.0",
            "box_style": "",
            "layout": "IPY_MODEL_93036157b6104c678baa26c7774933f9",
            "_model_module": "@jupyter-widgets/controls",
            "children": [
              "IPY_MODEL_02768d4987404da49492d551b73901bf",
              "IPY_MODEL_e7fea75ef1e84a799d3eda16cb9aa8cb",
              "IPY_MODEL_308ffd489d454e06b7edaa20f8fde64b"
            ]
          }
        },
        "93036157b6104c678baa26c7774933f9": {
          "model_module": "@jupyter-widgets/base",
          "model_name": "LayoutModel",
          "state": {
            "_view_name": "LayoutView",
            "grid_template_rows": null,
            "right": null,
            "justify_content": null,
            "_view_module": "@jupyter-widgets/base",
            "overflow": null,
            "_model_module_version": "1.2.0",
            "_view_count": null,
            "flex_flow": null,
            "width": null,
            "min_width": null,
            "border": null,
            "align_items": null,
            "bottom": null,
            "_model_module": "@jupyter-widgets/base",
            "top": null,
            "grid_column": null,
            "overflow_y": null,
            "overflow_x": null,
            "grid_auto_flow": null,
            "grid_area": null,
            "grid_template_columns": null,
            "flex": null,
            "_model_name": "LayoutModel",
            "justify_items": null,
            "grid_row": null,
            "max_height": null,
            "align_content": null,
            "visibility": null,
            "align_self": null,
            "height": null,
            "min_height": null,
            "padding": null,
            "grid_auto_rows": null,
            "grid_gap": null,
            "max_width": null,
            "order": null,
            "_view_module_version": "1.2.0",
            "grid_template_areas": null,
            "object_position": null,
            "object_fit": null,
            "grid_auto_columns": null,
            "margin": null,
            "display": null,
            "left": null
          }
        },
        "02768d4987404da49492d551b73901bf": {
          "model_module": "@jupyter-widgets/controls",
          "model_name": "HTMLModel",
          "state": {
            "_view_name": "HTMLView",
            "style": "IPY_MODEL_1ceb6645997547ccba9ef7f4eb2c3896",
            "_dom_classes": [],
            "description": "",
            "_model_name": "HTMLModel",
            "placeholder": "​",
            "_view_module": "@jupyter-widgets/controls",
            "_model_module_version": "1.5.0",
            "value": "Downloading: 100%",
            "_view_count": null,
            "_view_module_version": "1.5.0",
            "description_tooltip": null,
            "_model_module": "@jupyter-widgets/controls",
            "layout": "IPY_MODEL_351d3498641646f2a0a87b079558520c"
          }
        },
        "e7fea75ef1e84a799d3eda16cb9aa8cb": {
          "model_module": "@jupyter-widgets/controls",
          "model_name": "FloatProgressModel",
          "state": {
            "_view_name": "ProgressView",
            "style": "IPY_MODEL_8e57e2eaef794ff3901c7cf219c6e577",
            "_dom_classes": [],
            "description": "",
            "_model_name": "FloatProgressModel",
            "bar_style": "success",
            "max": 456318,
            "_view_module": "@jupyter-widgets/controls",
            "_model_module_version": "1.5.0",
            "value": 456318,
            "_view_count": null,
            "_view_module_version": "1.5.0",
            "orientation": "horizontal",
            "min": 0,
            "description_tooltip": null,
            "_model_module": "@jupyter-widgets/controls",
            "layout": "IPY_MODEL_0e9e9ae1034f44e79b340ff52167aab6"
          }
        },
        "308ffd489d454e06b7edaa20f8fde64b": {
          "model_module": "@jupyter-widgets/controls",
          "model_name": "HTMLModel",
          "state": {
            "_view_name": "HTMLView",
            "style": "IPY_MODEL_fed786d6dbd744298c5893e4bac46833",
            "_dom_classes": [],
            "description": "",
            "_model_name": "HTMLModel",
            "placeholder": "​",
            "_view_module": "@jupyter-widgets/controls",
            "_model_module_version": "1.5.0",
            "value": " 456k/456k [00:00&lt;00:00, 1.11MB/s]",
            "_view_count": null,
            "_view_module_version": "1.5.0",
            "description_tooltip": null,
            "_model_module": "@jupyter-widgets/controls",
            "layout": "IPY_MODEL_5d0bcafdf8384676bf1df08294f56b58"
          }
        },
        "1ceb6645997547ccba9ef7f4eb2c3896": {
          "model_module": "@jupyter-widgets/controls",
          "model_name": "DescriptionStyleModel",
          "state": {
            "_view_name": "StyleView",
            "_model_name": "DescriptionStyleModel",
            "description_width": "",
            "_view_module": "@jupyter-widgets/base",
            "_model_module_version": "1.5.0",
            "_view_count": null,
            "_view_module_version": "1.2.0",
            "_model_module": "@jupyter-widgets/controls"
          }
        },
        "351d3498641646f2a0a87b079558520c": {
          "model_module": "@jupyter-widgets/base",
          "model_name": "LayoutModel",
          "state": {
            "_view_name": "LayoutView",
            "grid_template_rows": null,
            "right": null,
            "justify_content": null,
            "_view_module": "@jupyter-widgets/base",
            "overflow": null,
            "_model_module_version": "1.2.0",
            "_view_count": null,
            "flex_flow": null,
            "width": null,
            "min_width": null,
            "border": null,
            "align_items": null,
            "bottom": null,
            "_model_module": "@jupyter-widgets/base",
            "top": null,
            "grid_column": null,
            "overflow_y": null,
            "overflow_x": null,
            "grid_auto_flow": null,
            "grid_area": null,
            "grid_template_columns": null,
            "flex": null,
            "_model_name": "LayoutModel",
            "justify_items": null,
            "grid_row": null,
            "max_height": null,
            "align_content": null,
            "visibility": null,
            "align_self": null,
            "height": null,
            "min_height": null,
            "padding": null,
            "grid_auto_rows": null,
            "grid_gap": null,
            "max_width": null,
            "order": null,
            "_view_module_version": "1.2.0",
            "grid_template_areas": null,
            "object_position": null,
            "object_fit": null,
            "grid_auto_columns": null,
            "margin": null,
            "display": null,
            "left": null
          }
        },
        "8e57e2eaef794ff3901c7cf219c6e577": {
          "model_module": "@jupyter-widgets/controls",
          "model_name": "ProgressStyleModel",
          "state": {
            "_view_name": "StyleView",
            "_model_name": "ProgressStyleModel",
            "description_width": "",
            "_view_module": "@jupyter-widgets/base",
            "_model_module_version": "1.5.0",
            "_view_count": null,
            "_view_module_version": "1.2.0",
            "bar_color": null,
            "_model_module": "@jupyter-widgets/controls"
          }
        },
        "0e9e9ae1034f44e79b340ff52167aab6": {
          "model_module": "@jupyter-widgets/base",
          "model_name": "LayoutModel",
          "state": {
            "_view_name": "LayoutView",
            "grid_template_rows": null,
            "right": null,
            "justify_content": null,
            "_view_module": "@jupyter-widgets/base",
            "overflow": null,
            "_model_module_version": "1.2.0",
            "_view_count": null,
            "flex_flow": null,
            "width": null,
            "min_width": null,
            "border": null,
            "align_items": null,
            "bottom": null,
            "_model_module": "@jupyter-widgets/base",
            "top": null,
            "grid_column": null,
            "overflow_y": null,
            "overflow_x": null,
            "grid_auto_flow": null,
            "grid_area": null,
            "grid_template_columns": null,
            "flex": null,
            "_model_name": "LayoutModel",
            "justify_items": null,
            "grid_row": null,
            "max_height": null,
            "align_content": null,
            "visibility": null,
            "align_self": null,
            "height": null,
            "min_height": null,
            "padding": null,
            "grid_auto_rows": null,
            "grid_gap": null,
            "max_width": null,
            "order": null,
            "_view_module_version": "1.2.0",
            "grid_template_areas": null,
            "object_position": null,
            "object_fit": null,
            "grid_auto_columns": null,
            "margin": null,
            "display": null,
            "left": null
          }
        },
        "fed786d6dbd744298c5893e4bac46833": {
          "model_module": "@jupyter-widgets/controls",
          "model_name": "DescriptionStyleModel",
          "state": {
            "_view_name": "StyleView",
            "_model_name": "DescriptionStyleModel",
            "description_width": "",
            "_view_module": "@jupyter-widgets/base",
            "_model_module_version": "1.5.0",
            "_view_count": null,
            "_view_module_version": "1.2.0",
            "_model_module": "@jupyter-widgets/controls"
          }
        },
        "5d0bcafdf8384676bf1df08294f56b58": {
          "model_module": "@jupyter-widgets/base",
          "model_name": "LayoutModel",
          "state": {
            "_view_name": "LayoutView",
            "grid_template_rows": null,
            "right": null,
            "justify_content": null,
            "_view_module": "@jupyter-widgets/base",
            "overflow": null,
            "_model_module_version": "1.2.0",
            "_view_count": null,
            "flex_flow": null,
            "width": null,
            "min_width": null,
            "border": null,
            "align_items": null,
            "bottom": null,
            "_model_module": "@jupyter-widgets/base",
            "top": null,
            "grid_column": null,
            "overflow_y": null,
            "overflow_x": null,
            "grid_auto_flow": null,
            "grid_area": null,
            "grid_template_columns": null,
            "flex": null,
            "_model_name": "LayoutModel",
            "justify_items": null,
            "grid_row": null,
            "max_height": null,
            "align_content": null,
            "visibility": null,
            "align_self": null,
            "height": null,
            "min_height": null,
            "padding": null,
            "grid_auto_rows": null,
            "grid_gap": null,
            "max_width": null,
            "order": null,
            "_view_module_version": "1.2.0",
            "grid_template_areas": null,
            "object_position": null,
            "object_fit": null,
            "grid_auto_columns": null,
            "margin": null,
            "display": null,
            "left": null
          }
        },
        "694805029a74450e9dd51d11ce66c905": {
          "model_module": "@jupyter-widgets/controls",
          "model_name": "HBoxModel",
          "state": {
            "_view_name": "HBoxView",
            "_dom_classes": [],
            "_model_name": "HBoxModel",
            "_view_module": "@jupyter-widgets/controls",
            "_model_module_version": "1.5.0",
            "_view_count": null,
            "_view_module_version": "1.5.0",
            "box_style": "",
            "layout": "IPY_MODEL_74007683d8514933ba1d7ad4c38db0ed",
            "_model_module": "@jupyter-widgets/controls",
            "children": [
              "IPY_MODEL_a566193914de48b6a3cfd321eb3ad9bf",
              "IPY_MODEL_d51fd458955b4e7b84065ed172e89ff0",
              "IPY_MODEL_906f234cebd2418682d784b554b640f0"
            ]
          }
        },
        "74007683d8514933ba1d7ad4c38db0ed": {
          "model_module": "@jupyter-widgets/base",
          "model_name": "LayoutModel",
          "state": {
            "_view_name": "LayoutView",
            "grid_template_rows": null,
            "right": null,
            "justify_content": null,
            "_view_module": "@jupyter-widgets/base",
            "overflow": null,
            "_model_module_version": "1.2.0",
            "_view_count": null,
            "flex_flow": null,
            "width": null,
            "min_width": null,
            "border": null,
            "align_items": null,
            "bottom": null,
            "_model_module": "@jupyter-widgets/base",
            "top": null,
            "grid_column": null,
            "overflow_y": null,
            "overflow_x": null,
            "grid_auto_flow": null,
            "grid_area": null,
            "grid_template_columns": null,
            "flex": null,
            "_model_name": "LayoutModel",
            "justify_items": null,
            "grid_row": null,
            "max_height": null,
            "align_content": null,
            "visibility": null,
            "align_self": null,
            "height": null,
            "min_height": null,
            "padding": null,
            "grid_auto_rows": null,
            "grid_gap": null,
            "max_width": null,
            "order": null,
            "_view_module_version": "1.2.0",
            "grid_template_areas": null,
            "object_position": null,
            "object_fit": null,
            "grid_auto_columns": null,
            "margin": null,
            "display": null,
            "left": null
          }
        },
        "a566193914de48b6a3cfd321eb3ad9bf": {
          "model_module": "@jupyter-widgets/controls",
          "model_name": "HTMLModel",
          "state": {
            "_view_name": "HTMLView",
            "style": "IPY_MODEL_61bee739a12945b7ae58149f5bfabdca",
            "_dom_classes": [],
            "description": "",
            "_model_name": "HTMLModel",
            "placeholder": "​",
            "_view_module": "@jupyter-widgets/controls",
            "_model_module_version": "1.5.0",
            "value": "100%",
            "_view_count": null,
            "_view_module_version": "1.5.0",
            "description_tooltip": null,
            "_model_module": "@jupyter-widgets/controls",
            "layout": "IPY_MODEL_e237f5ac6cea4f7e9c48649f5671080f"
          }
        },
        "d51fd458955b4e7b84065ed172e89ff0": {
          "model_module": "@jupyter-widgets/controls",
          "model_name": "FloatProgressModel",
          "state": {
            "_view_name": "ProgressView",
            "style": "IPY_MODEL_5ef20b3cdd204a5998c0097190e35eba",
            "_dom_classes": [],
            "description": "",
            "_model_name": "FloatProgressModel",
            "bar_style": "success",
            "max": 4500,
            "_view_module": "@jupyter-widgets/controls",
            "_model_module_version": "1.5.0",
            "value": 4500,
            "_view_count": null,
            "_view_module_version": "1.5.0",
            "orientation": "horizontal",
            "min": 0,
            "description_tooltip": null,
            "_model_module": "@jupyter-widgets/controls",
            "layout": "IPY_MODEL_10b91d92e2b446cfacaeb8567c4bd4d6"
          }
        },
        "906f234cebd2418682d784b554b640f0": {
          "model_module": "@jupyter-widgets/controls",
          "model_name": "HTMLModel",
          "state": {
            "_view_name": "HTMLView",
            "style": "IPY_MODEL_84642e6a900746498d16126f2f76b7ad",
            "_dom_classes": [],
            "description": "",
            "_model_name": "HTMLModel",
            "placeholder": "​",
            "_view_module": "@jupyter-widgets/controls",
            "_model_module_version": "1.5.0",
            "value": " 4500/4500 [28:51&lt;00:00,  2.60it/s]",
            "_view_count": null,
            "_view_module_version": "1.5.0",
            "description_tooltip": null,
            "_model_module": "@jupyter-widgets/controls",
            "layout": "IPY_MODEL_dd83b01e70bc4c25b89eeb543653a6d3"
          }
        },
        "61bee739a12945b7ae58149f5bfabdca": {
          "model_module": "@jupyter-widgets/controls",
          "model_name": "DescriptionStyleModel",
          "state": {
            "_view_name": "StyleView",
            "_model_name": "DescriptionStyleModel",
            "description_width": "",
            "_view_module": "@jupyter-widgets/base",
            "_model_module_version": "1.5.0",
            "_view_count": null,
            "_view_module_version": "1.2.0",
            "_model_module": "@jupyter-widgets/controls"
          }
        },
        "e237f5ac6cea4f7e9c48649f5671080f": {
          "model_module": "@jupyter-widgets/base",
          "model_name": "LayoutModel",
          "state": {
            "_view_name": "LayoutView",
            "grid_template_rows": null,
            "right": null,
            "justify_content": null,
            "_view_module": "@jupyter-widgets/base",
            "overflow": null,
            "_model_module_version": "1.2.0",
            "_view_count": null,
            "flex_flow": null,
            "width": null,
            "min_width": null,
            "border": null,
            "align_items": null,
            "bottom": null,
            "_model_module": "@jupyter-widgets/base",
            "top": null,
            "grid_column": null,
            "overflow_y": null,
            "overflow_x": null,
            "grid_auto_flow": null,
            "grid_area": null,
            "grid_template_columns": null,
            "flex": null,
            "_model_name": "LayoutModel",
            "justify_items": null,
            "grid_row": null,
            "max_height": null,
            "align_content": null,
            "visibility": null,
            "align_self": null,
            "height": null,
            "min_height": null,
            "padding": null,
            "grid_auto_rows": null,
            "grid_gap": null,
            "max_width": null,
            "order": null,
            "_view_module_version": "1.2.0",
            "grid_template_areas": null,
            "object_position": null,
            "object_fit": null,
            "grid_auto_columns": null,
            "margin": null,
            "display": null,
            "left": null
          }
        },
        "5ef20b3cdd204a5998c0097190e35eba": {
          "model_module": "@jupyter-widgets/controls",
          "model_name": "ProgressStyleModel",
          "state": {
            "_view_name": "StyleView",
            "_model_name": "ProgressStyleModel",
            "description_width": "",
            "_view_module": "@jupyter-widgets/base",
            "_model_module_version": "1.5.0",
            "_view_count": null,
            "_view_module_version": "1.2.0",
            "bar_color": null,
            "_model_module": "@jupyter-widgets/controls"
          }
        },
        "10b91d92e2b446cfacaeb8567c4bd4d6": {
          "model_module": "@jupyter-widgets/base",
          "model_name": "LayoutModel",
          "state": {
            "_view_name": "LayoutView",
            "grid_template_rows": null,
            "right": null,
            "justify_content": null,
            "_view_module": "@jupyter-widgets/base",
            "overflow": null,
            "_model_module_version": "1.2.0",
            "_view_count": null,
            "flex_flow": null,
            "width": null,
            "min_width": null,
            "border": null,
            "align_items": null,
            "bottom": null,
            "_model_module": "@jupyter-widgets/base",
            "top": null,
            "grid_column": null,
            "overflow_y": null,
            "overflow_x": null,
            "grid_auto_flow": null,
            "grid_area": null,
            "grid_template_columns": null,
            "flex": null,
            "_model_name": "LayoutModel",
            "justify_items": null,
            "grid_row": null,
            "max_height": null,
            "align_content": null,
            "visibility": null,
            "align_self": null,
            "height": null,
            "min_height": null,
            "padding": null,
            "grid_auto_rows": null,
            "grid_gap": null,
            "max_width": null,
            "order": null,
            "_view_module_version": "1.2.0",
            "grid_template_areas": null,
            "object_position": null,
            "object_fit": null,
            "grid_auto_columns": null,
            "margin": null,
            "display": null,
            "left": null
          }
        },
        "84642e6a900746498d16126f2f76b7ad": {
          "model_module": "@jupyter-widgets/controls",
          "model_name": "DescriptionStyleModel",
          "state": {
            "_view_name": "StyleView",
            "_model_name": "DescriptionStyleModel",
            "description_width": "",
            "_view_module": "@jupyter-widgets/base",
            "_model_module_version": "1.5.0",
            "_view_count": null,
            "_view_module_version": "1.2.0",
            "_model_module": "@jupyter-widgets/controls"
          }
        },
        "dd83b01e70bc4c25b89eeb543653a6d3": {
          "model_module": "@jupyter-widgets/base",
          "model_name": "LayoutModel",
          "state": {
            "_view_name": "LayoutView",
            "grid_template_rows": null,
            "right": null,
            "justify_content": null,
            "_view_module": "@jupyter-widgets/base",
            "overflow": null,
            "_model_module_version": "1.2.0",
            "_view_count": null,
            "flex_flow": null,
            "width": null,
            "min_width": null,
            "border": null,
            "align_items": null,
            "bottom": null,
            "_model_module": "@jupyter-widgets/base",
            "top": null,
            "grid_column": null,
            "overflow_y": null,
            "overflow_x": null,
            "grid_auto_flow": null,
            "grid_area": null,
            "grid_template_columns": null,
            "flex": null,
            "_model_name": "LayoutModel",
            "justify_items": null,
            "grid_row": null,
            "max_height": null,
            "align_content": null,
            "visibility": null,
            "align_self": null,
            "height": null,
            "min_height": null,
            "padding": null,
            "grid_auto_rows": null,
            "grid_gap": null,
            "max_width": null,
            "order": null,
            "_view_module_version": "1.2.0",
            "grid_template_areas": null,
            "object_position": null,
            "object_fit": null,
            "grid_auto_columns": null,
            "margin": null,
            "display": null,
            "left": null
          }
        },
        "3df599abacbf4be9beee32d7f05bbcce": {
          "model_module": "@jupyter-widgets/controls",
          "model_name": "HBoxModel",
          "state": {
            "_view_name": "HBoxView",
            "_dom_classes": [],
            "_model_name": "HBoxModel",
            "_view_module": "@jupyter-widgets/controls",
            "_model_module_version": "1.5.0",
            "_view_count": null,
            "_view_module_version": "1.5.0",
            "box_style": "",
            "layout": "IPY_MODEL_f7563376371c40e7ad10b1011e149586",
            "_model_module": "@jupyter-widgets/controls",
            "children": [
              "IPY_MODEL_6afafc1666ca4301b22f5dd27dfa018d",
              "IPY_MODEL_c092efa956d648e1bbe10d85727ab6da",
              "IPY_MODEL_76c516f271dd4b1eb719cbe7d5baee9b"
            ]
          }
        },
        "f7563376371c40e7ad10b1011e149586": {
          "model_module": "@jupyter-widgets/base",
          "model_name": "LayoutModel",
          "state": {
            "_view_name": "LayoutView",
            "grid_template_rows": null,
            "right": null,
            "justify_content": null,
            "_view_module": "@jupyter-widgets/base",
            "overflow": null,
            "_model_module_version": "1.2.0",
            "_view_count": null,
            "flex_flow": null,
            "width": null,
            "min_width": null,
            "border": null,
            "align_items": null,
            "bottom": null,
            "_model_module": "@jupyter-widgets/base",
            "top": null,
            "grid_column": null,
            "overflow_y": null,
            "overflow_x": null,
            "grid_auto_flow": null,
            "grid_area": null,
            "grid_template_columns": null,
            "flex": null,
            "_model_name": "LayoutModel",
            "justify_items": null,
            "grid_row": null,
            "max_height": null,
            "align_content": null,
            "visibility": null,
            "align_self": null,
            "height": null,
            "min_height": null,
            "padding": null,
            "grid_auto_rows": null,
            "grid_gap": null,
            "max_width": null,
            "order": null,
            "_view_module_version": "1.2.0",
            "grid_template_areas": null,
            "object_position": null,
            "object_fit": null,
            "grid_auto_columns": null,
            "margin": null,
            "display": null,
            "left": null
          }
        },
        "6afafc1666ca4301b22f5dd27dfa018d": {
          "model_module": "@jupyter-widgets/controls",
          "model_name": "HTMLModel",
          "state": {
            "_view_name": "HTMLView",
            "style": "IPY_MODEL_8ceb352737a543a999e8a82ffce86035",
            "_dom_classes": [],
            "description": "",
            "_model_name": "HTMLModel",
            "placeholder": "​",
            "_view_module": "@jupyter-widgets/controls",
            "_model_module_version": "1.5.0",
            "value": "Epoch 13 of 16:  75%",
            "_view_count": null,
            "_view_module_version": "1.5.0",
            "description_tooltip": null,
            "_model_module": "@jupyter-widgets/controls",
            "layout": "IPY_MODEL_4ba790ac48644aadbe4758de94a1a097"
          }
        },
        "c092efa956d648e1bbe10d85727ab6da": {
          "model_module": "@jupyter-widgets/controls",
          "model_name": "FloatProgressModel",
          "state": {
            "_view_name": "ProgressView",
            "style": "IPY_MODEL_372ae0c6f3c54d129faab9cb6fb0eed1",
            "_dom_classes": [],
            "description": "",
            "_model_name": "FloatProgressModel",
            "bar_style": "danger",
            "max": 16,
            "_view_module": "@jupyter-widgets/controls",
            "_model_module_version": "1.5.0",
            "value": 12,
            "_view_count": null,
            "_view_module_version": "1.5.0",
            "orientation": "horizontal",
            "min": 0,
            "description_tooltip": null,
            "_model_module": "@jupyter-widgets/controls",
            "layout": "IPY_MODEL_b4778586017f436cb9867a1e17a57a0f"
          }
        },
        "76c516f271dd4b1eb719cbe7d5baee9b": {
          "model_module": "@jupyter-widgets/controls",
          "model_name": "HTMLModel",
          "state": {
            "_view_name": "HTMLView",
            "style": "IPY_MODEL_21f38a869d0e44b58fa04c177108675d",
            "_dom_classes": [],
            "description": "",
            "_model_name": "HTMLModel",
            "placeholder": "​",
            "_view_module": "@jupyter-widgets/controls",
            "_model_module_version": "1.5.0",
            "value": " 12/16 [28:48&lt;09:36, 144.01s/it]",
            "_view_count": null,
            "_view_module_version": "1.5.0",
            "description_tooltip": null,
            "_model_module": "@jupyter-widgets/controls",
            "layout": "IPY_MODEL_72349c1af33944e4abe96448fbcfdc0b"
          }
        },
        "8ceb352737a543a999e8a82ffce86035": {
          "model_module": "@jupyter-widgets/controls",
          "model_name": "DescriptionStyleModel",
          "state": {
            "_view_name": "StyleView",
            "_model_name": "DescriptionStyleModel",
            "description_width": "",
            "_view_module": "@jupyter-widgets/base",
            "_model_module_version": "1.5.0",
            "_view_count": null,
            "_view_module_version": "1.2.0",
            "_model_module": "@jupyter-widgets/controls"
          }
        },
        "4ba790ac48644aadbe4758de94a1a097": {
          "model_module": "@jupyter-widgets/base",
          "model_name": "LayoutModel",
          "state": {
            "_view_name": "LayoutView",
            "grid_template_rows": null,
            "right": null,
            "justify_content": null,
            "_view_module": "@jupyter-widgets/base",
            "overflow": null,
            "_model_module_version": "1.2.0",
            "_view_count": null,
            "flex_flow": null,
            "width": null,
            "min_width": null,
            "border": null,
            "align_items": null,
            "bottom": null,
            "_model_module": "@jupyter-widgets/base",
            "top": null,
            "grid_column": null,
            "overflow_y": null,
            "overflow_x": null,
            "grid_auto_flow": null,
            "grid_area": null,
            "grid_template_columns": null,
            "flex": null,
            "_model_name": "LayoutModel",
            "justify_items": null,
            "grid_row": null,
            "max_height": null,
            "align_content": null,
            "visibility": null,
            "align_self": null,
            "height": null,
            "min_height": null,
            "padding": null,
            "grid_auto_rows": null,
            "grid_gap": null,
            "max_width": null,
            "order": null,
            "_view_module_version": "1.2.0",
            "grid_template_areas": null,
            "object_position": null,
            "object_fit": null,
            "grid_auto_columns": null,
            "margin": null,
            "display": null,
            "left": null
          }
        },
        "372ae0c6f3c54d129faab9cb6fb0eed1": {
          "model_module": "@jupyter-widgets/controls",
          "model_name": "ProgressStyleModel",
          "state": {
            "_view_name": "StyleView",
            "_model_name": "ProgressStyleModel",
            "description_width": "",
            "_view_module": "@jupyter-widgets/base",
            "_model_module_version": "1.5.0",
            "_view_count": null,
            "_view_module_version": "1.2.0",
            "bar_color": null,
            "_model_module": "@jupyter-widgets/controls"
          }
        },
        "b4778586017f436cb9867a1e17a57a0f": {
          "model_module": "@jupyter-widgets/base",
          "model_name": "LayoutModel",
          "state": {
            "_view_name": "LayoutView",
            "grid_template_rows": null,
            "right": null,
            "justify_content": null,
            "_view_module": "@jupyter-widgets/base",
            "overflow": null,
            "_model_module_version": "1.2.0",
            "_view_count": null,
            "flex_flow": null,
            "width": null,
            "min_width": null,
            "border": null,
            "align_items": null,
            "bottom": null,
            "_model_module": "@jupyter-widgets/base",
            "top": null,
            "grid_column": null,
            "overflow_y": null,
            "overflow_x": null,
            "grid_auto_flow": null,
            "grid_area": null,
            "grid_template_columns": null,
            "flex": null,
            "_model_name": "LayoutModel",
            "justify_items": null,
            "grid_row": null,
            "max_height": null,
            "align_content": null,
            "visibility": null,
            "align_self": null,
            "height": null,
            "min_height": null,
            "padding": null,
            "grid_auto_rows": null,
            "grid_gap": null,
            "max_width": null,
            "order": null,
            "_view_module_version": "1.2.0",
            "grid_template_areas": null,
            "object_position": null,
            "object_fit": null,
            "grid_auto_columns": null,
            "margin": null,
            "display": null,
            "left": null
          }
        },
        "21f38a869d0e44b58fa04c177108675d": {
          "model_module": "@jupyter-widgets/controls",
          "model_name": "DescriptionStyleModel",
          "state": {
            "_view_name": "StyleView",
            "_model_name": "DescriptionStyleModel",
            "description_width": "",
            "_view_module": "@jupyter-widgets/base",
            "_model_module_version": "1.5.0",
            "_view_count": null,
            "_view_module_version": "1.2.0",
            "_model_module": "@jupyter-widgets/controls"
          }
        },
        "72349c1af33944e4abe96448fbcfdc0b": {
          "model_module": "@jupyter-widgets/base",
          "model_name": "LayoutModel",
          "state": {
            "_view_name": "LayoutView",
            "grid_template_rows": null,
            "right": null,
            "justify_content": null,
            "_view_module": "@jupyter-widgets/base",
            "overflow": null,
            "_model_module_version": "1.2.0",
            "_view_count": null,
            "flex_flow": null,
            "width": null,
            "min_width": null,
            "border": null,
            "align_items": null,
            "bottom": null,
            "_model_module": "@jupyter-widgets/base",
            "top": null,
            "grid_column": null,
            "overflow_y": null,
            "overflow_x": null,
            "grid_auto_flow": null,
            "grid_area": null,
            "grid_template_columns": null,
            "flex": null,
            "_model_name": "LayoutModel",
            "justify_items": null,
            "grid_row": null,
            "max_height": null,
            "align_content": null,
            "visibility": null,
            "align_self": null,
            "height": null,
            "min_height": null,
            "padding": null,
            "grid_auto_rows": null,
            "grid_gap": null,
            "max_width": null,
            "order": null,
            "_view_module_version": "1.2.0",
            "grid_template_areas": null,
            "object_position": null,
            "object_fit": null,
            "grid_auto_columns": null,
            "margin": null,
            "display": null,
            "left": null
          }
        },
        "97e08559a79342abb8bdb1a3e60ba716": {
          "model_module": "@jupyter-widgets/controls",
          "model_name": "HBoxModel",
          "state": {
            "_view_name": "HBoxView",
            "_dom_classes": [],
            "_model_name": "HBoxModel",
            "_view_module": "@jupyter-widgets/controls",
            "_model_module_version": "1.5.0",
            "_view_count": null,
            "_view_module_version": "1.5.0",
            "box_style": "",
            "layout": "IPY_MODEL_346fa9f5025846e299f79fb020e8fa4a",
            "_model_module": "@jupyter-widgets/controls",
            "children": [
              "IPY_MODEL_f716c9f60807450ead6c2adf0fec6eb3",
              "IPY_MODEL_3ce0d6e299a04c79a66584d7c3dfb1e7",
              "IPY_MODEL_dc6a682f6992447e84e4a927065b29cb"
            ]
          }
        },
        "346fa9f5025846e299f79fb020e8fa4a": {
          "model_module": "@jupyter-widgets/base",
          "model_name": "LayoutModel",
          "state": {
            "_view_name": "LayoutView",
            "grid_template_rows": null,
            "right": null,
            "justify_content": null,
            "_view_module": "@jupyter-widgets/base",
            "overflow": null,
            "_model_module_version": "1.2.0",
            "_view_count": null,
            "flex_flow": null,
            "width": null,
            "min_width": null,
            "border": null,
            "align_items": null,
            "bottom": null,
            "_model_module": "@jupyter-widgets/base",
            "top": null,
            "grid_column": null,
            "overflow_y": null,
            "overflow_x": null,
            "grid_auto_flow": null,
            "grid_area": null,
            "grid_template_columns": null,
            "flex": null,
            "_model_name": "LayoutModel",
            "justify_items": null,
            "grid_row": null,
            "max_height": null,
            "align_content": null,
            "visibility": null,
            "align_self": null,
            "height": null,
            "min_height": null,
            "padding": null,
            "grid_auto_rows": null,
            "grid_gap": null,
            "max_width": null,
            "order": null,
            "_view_module_version": "1.2.0",
            "grid_template_areas": null,
            "object_position": null,
            "object_fit": null,
            "grid_auto_columns": null,
            "margin": null,
            "display": null,
            "left": null
          }
        },
        "f716c9f60807450ead6c2adf0fec6eb3": {
          "model_module": "@jupyter-widgets/controls",
          "model_name": "HTMLModel",
          "state": {
            "_view_name": "HTMLView",
            "style": "IPY_MODEL_1379ece4c5a344a0842f4edca4395353",
            "_dom_classes": [],
            "description": "",
            "_model_name": "HTMLModel",
            "placeholder": "​",
            "_view_module": "@jupyter-widgets/controls",
            "_model_module_version": "1.5.0",
            "value": "Epochs 0/16. Running Loss:    0.8193: 100%",
            "_view_count": null,
            "_view_module_version": "1.5.0",
            "description_tooltip": null,
            "_model_module": "@jupyter-widgets/controls",
            "layout": "IPY_MODEL_76cde3ab029b4427bbef17ba74712301"
          }
        },
        "3ce0d6e299a04c79a66584d7c3dfb1e7": {
          "model_module": "@jupyter-widgets/controls",
          "model_name": "FloatProgressModel",
          "state": {
            "_view_name": "ProgressView",
            "style": "IPY_MODEL_a8bdbfdcee884bde816601260d869463",
            "_dom_classes": [],
            "description": "",
            "_model_name": "FloatProgressModel",
            "bar_style": "success",
            "max": 1125,
            "_view_module": "@jupyter-widgets/controls",
            "_model_module_version": "1.5.0",
            "value": 1125,
            "_view_count": null,
            "_view_module_version": "1.5.0",
            "orientation": "horizontal",
            "min": 0,
            "description_tooltip": null,
            "_model_module": "@jupyter-widgets/controls",
            "layout": "IPY_MODEL_d539584af0ad4091850835ae30710f94"
          }
        },
        "dc6a682f6992447e84e4a927065b29cb": {
          "model_module": "@jupyter-widgets/controls",
          "model_name": "HTMLModel",
          "state": {
            "_view_name": "HTMLView",
            "style": "IPY_MODEL_3bfe560aa3d143c29d0759189f68b9be",
            "_dom_classes": [],
            "description": "",
            "_model_name": "HTMLModel",
            "placeholder": "​",
            "_view_module": "@jupyter-widgets/controls",
            "_model_module_version": "1.5.0",
            "value": " 1125/1125 [28:48&lt;00:00,  1.54s/it]",
            "_view_count": null,
            "_view_module_version": "1.5.0",
            "description_tooltip": null,
            "_model_module": "@jupyter-widgets/controls",
            "layout": "IPY_MODEL_d65872f0739e4a049b0851c7119907b4"
          }
        },
        "1379ece4c5a344a0842f4edca4395353": {
          "model_module": "@jupyter-widgets/controls",
          "model_name": "DescriptionStyleModel",
          "state": {
            "_view_name": "StyleView",
            "_model_name": "DescriptionStyleModel",
            "description_width": "",
            "_view_module": "@jupyter-widgets/base",
            "_model_module_version": "1.5.0",
            "_view_count": null,
            "_view_module_version": "1.2.0",
            "_model_module": "@jupyter-widgets/controls"
          }
        },
        "76cde3ab029b4427bbef17ba74712301": {
          "model_module": "@jupyter-widgets/base",
          "model_name": "LayoutModel",
          "state": {
            "_view_name": "LayoutView",
            "grid_template_rows": null,
            "right": null,
            "justify_content": null,
            "_view_module": "@jupyter-widgets/base",
            "overflow": null,
            "_model_module_version": "1.2.0",
            "_view_count": null,
            "flex_flow": null,
            "width": null,
            "min_width": null,
            "border": null,
            "align_items": null,
            "bottom": null,
            "_model_module": "@jupyter-widgets/base",
            "top": null,
            "grid_column": null,
            "overflow_y": null,
            "overflow_x": null,
            "grid_auto_flow": null,
            "grid_area": null,
            "grid_template_columns": null,
            "flex": null,
            "_model_name": "LayoutModel",
            "justify_items": null,
            "grid_row": null,
            "max_height": null,
            "align_content": null,
            "visibility": null,
            "align_self": null,
            "height": null,
            "min_height": null,
            "padding": null,
            "grid_auto_rows": null,
            "grid_gap": null,
            "max_width": null,
            "order": null,
            "_view_module_version": "1.2.0",
            "grid_template_areas": null,
            "object_position": null,
            "object_fit": null,
            "grid_auto_columns": null,
            "margin": null,
            "display": null,
            "left": null
          }
        },
        "a8bdbfdcee884bde816601260d869463": {
          "model_module": "@jupyter-widgets/controls",
          "model_name": "ProgressStyleModel",
          "state": {
            "_view_name": "StyleView",
            "_model_name": "ProgressStyleModel",
            "description_width": "",
            "_view_module": "@jupyter-widgets/base",
            "_model_module_version": "1.5.0",
            "_view_count": null,
            "_view_module_version": "1.2.0",
            "bar_color": null,
            "_model_module": "@jupyter-widgets/controls"
          }
        },
        "d539584af0ad4091850835ae30710f94": {
          "model_module": "@jupyter-widgets/base",
          "model_name": "LayoutModel",
          "state": {
            "_view_name": "LayoutView",
            "grid_template_rows": null,
            "right": null,
            "justify_content": null,
            "_view_module": "@jupyter-widgets/base",
            "overflow": null,
            "_model_module_version": "1.2.0",
            "_view_count": null,
            "flex_flow": null,
            "width": null,
            "min_width": null,
            "border": null,
            "align_items": null,
            "bottom": null,
            "_model_module": "@jupyter-widgets/base",
            "top": null,
            "grid_column": null,
            "overflow_y": null,
            "overflow_x": null,
            "grid_auto_flow": null,
            "grid_area": null,
            "grid_template_columns": null,
            "flex": null,
            "_model_name": "LayoutModel",
            "justify_items": null,
            "grid_row": null,
            "max_height": null,
            "align_content": null,
            "visibility": null,
            "align_self": null,
            "height": null,
            "min_height": null,
            "padding": null,
            "grid_auto_rows": null,
            "grid_gap": null,
            "max_width": null,
            "order": null,
            "_view_module_version": "1.2.0",
            "grid_template_areas": null,
            "object_position": null,
            "object_fit": null,
            "grid_auto_columns": null,
            "margin": null,
            "display": null,
            "left": null
          }
        },
        "3bfe560aa3d143c29d0759189f68b9be": {
          "model_module": "@jupyter-widgets/controls",
          "model_name": "DescriptionStyleModel",
          "state": {
            "_view_name": "StyleView",
            "_model_name": "DescriptionStyleModel",
            "description_width": "",
            "_view_module": "@jupyter-widgets/base",
            "_model_module_version": "1.5.0",
            "_view_count": null,
            "_view_module_version": "1.2.0",
            "_model_module": "@jupyter-widgets/controls"
          }
        },
        "d65872f0739e4a049b0851c7119907b4": {
          "model_module": "@jupyter-widgets/base",
          "model_name": "LayoutModel",
          "state": {
            "_view_name": "LayoutView",
            "grid_template_rows": null,
            "right": null,
            "justify_content": null,
            "_view_module": "@jupyter-widgets/base",
            "overflow": null,
            "_model_module_version": "1.2.0",
            "_view_count": null,
            "flex_flow": null,
            "width": null,
            "min_width": null,
            "border": null,
            "align_items": null,
            "bottom": null,
            "_model_module": "@jupyter-widgets/base",
            "top": null,
            "grid_column": null,
            "overflow_y": null,
            "overflow_x": null,
            "grid_auto_flow": null,
            "grid_area": null,
            "grid_template_columns": null,
            "flex": null,
            "_model_name": "LayoutModel",
            "justify_items": null,
            "grid_row": null,
            "max_height": null,
            "align_content": null,
            "visibility": null,
            "align_self": null,
            "height": null,
            "min_height": null,
            "padding": null,
            "grid_auto_rows": null,
            "grid_gap": null,
            "max_width": null,
            "order": null,
            "_view_module_version": "1.2.0",
            "grid_template_areas": null,
            "object_position": null,
            "object_fit": null,
            "grid_auto_columns": null,
            "margin": null,
            "display": null,
            "left": null
          }
        },
        "1b95b39224b9450bae9c8f01a3c396fe": {
          "model_module": "@jupyter-widgets/controls",
          "model_name": "HBoxModel",
          "state": {
            "_view_name": "HBoxView",
            "_dom_classes": [],
            "_model_name": "HBoxModel",
            "_view_module": "@jupyter-widgets/controls",
            "_model_module_version": "1.5.0",
            "_view_count": null,
            "_view_module_version": "1.5.0",
            "box_style": "",
            "layout": "IPY_MODEL_97545eaf6cff449f9b2ca91af15bec77",
            "_model_module": "@jupyter-widgets/controls",
            "children": [
              "IPY_MODEL_ac5daf5e09f743138d7e28852a36be07",
              "IPY_MODEL_4b6ed9a8f13e4abdb782a8b5da77b36c",
              "IPY_MODEL_26f7237102a84126a4d12534b88c8d6a"
            ]
          }
        },
        "97545eaf6cff449f9b2ca91af15bec77": {
          "model_module": "@jupyter-widgets/base",
          "model_name": "LayoutModel",
          "state": {
            "_view_name": "LayoutView",
            "grid_template_rows": null,
            "right": null,
            "justify_content": null,
            "_view_module": "@jupyter-widgets/base",
            "overflow": null,
            "_model_module_version": "1.2.0",
            "_view_count": null,
            "flex_flow": null,
            "width": null,
            "min_width": null,
            "border": null,
            "align_items": null,
            "bottom": null,
            "_model_module": "@jupyter-widgets/base",
            "top": null,
            "grid_column": null,
            "overflow_y": null,
            "overflow_x": null,
            "grid_auto_flow": null,
            "grid_area": null,
            "grid_template_columns": null,
            "flex": null,
            "_model_name": "LayoutModel",
            "justify_items": null,
            "grid_row": null,
            "max_height": null,
            "align_content": null,
            "visibility": null,
            "align_self": null,
            "height": null,
            "min_height": null,
            "padding": null,
            "grid_auto_rows": null,
            "grid_gap": null,
            "max_width": null,
            "order": null,
            "_view_module_version": "1.2.0",
            "grid_template_areas": null,
            "object_position": null,
            "object_fit": null,
            "grid_auto_columns": null,
            "margin": null,
            "display": null,
            "left": null
          }
        },
        "ac5daf5e09f743138d7e28852a36be07": {
          "model_module": "@jupyter-widgets/controls",
          "model_name": "HTMLModel",
          "state": {
            "_view_name": "HTMLView",
            "style": "IPY_MODEL_67d90255f9134a4da001197bf3d5b5c9",
            "_dom_classes": [],
            "description": "",
            "_model_name": "HTMLModel",
            "placeholder": "​",
            "_view_module": "@jupyter-widgets/controls",
            "_model_module_version": "1.5.0",
            "value": "100%",
            "_view_count": null,
            "_view_module_version": "1.5.0",
            "description_tooltip": null,
            "_model_module": "@jupyter-widgets/controls",
            "layout": "IPY_MODEL_93ab075eba93407fb04f1ce99c3fa79e"
          }
        },
        "4b6ed9a8f13e4abdb782a8b5da77b36c": {
          "model_module": "@jupyter-widgets/controls",
          "model_name": "FloatProgressModel",
          "state": {
            "_view_name": "ProgressView",
            "style": "IPY_MODEL_eda84ce27cdc48cc9ccbcfbfa57c5ea6",
            "_dom_classes": [],
            "description": "",
            "_model_name": "FloatProgressModel",
            "bar_style": "success",
            "max": 500,
            "_view_module": "@jupyter-widgets/controls",
            "_model_module_version": "1.5.0",
            "value": 500,
            "_view_count": null,
            "_view_module_version": "1.5.0",
            "orientation": "horizontal",
            "min": 0,
            "description_tooltip": null,
            "_model_module": "@jupyter-widgets/controls",
            "layout": "IPY_MODEL_97e39c4cbaea4ce9aab8d3396d714169"
          }
        },
        "26f7237102a84126a4d12534b88c8d6a": {
          "model_module": "@jupyter-widgets/controls",
          "model_name": "HTMLModel",
          "state": {
            "_view_name": "HTMLView",
            "style": "IPY_MODEL_3e59a534e2e046e09aa13ab1ac55a1cd",
            "_dom_classes": [],
            "description": "",
            "_model_name": "HTMLModel",
            "placeholder": "​",
            "_view_module": "@jupyter-widgets/controls",
            "_model_module_version": "1.5.0",
            "value": " 500/500 [00:08&lt;00:00, 61.08it/s]",
            "_view_count": null,
            "_view_module_version": "1.5.0",
            "description_tooltip": null,
            "_model_module": "@jupyter-widgets/controls",
            "layout": "IPY_MODEL_04d8ef75a7594d489e7613d8b7a28270"
          }
        },
        "67d90255f9134a4da001197bf3d5b5c9": {
          "model_module": "@jupyter-widgets/controls",
          "model_name": "DescriptionStyleModel",
          "state": {
            "_view_name": "StyleView",
            "_model_name": "DescriptionStyleModel",
            "description_width": "",
            "_view_module": "@jupyter-widgets/base",
            "_model_module_version": "1.5.0",
            "_view_count": null,
            "_view_module_version": "1.2.0",
            "_model_module": "@jupyter-widgets/controls"
          }
        },
        "93ab075eba93407fb04f1ce99c3fa79e": {
          "model_module": "@jupyter-widgets/base",
          "model_name": "LayoutModel",
          "state": {
            "_view_name": "LayoutView",
            "grid_template_rows": null,
            "right": null,
            "justify_content": null,
            "_view_module": "@jupyter-widgets/base",
            "overflow": null,
            "_model_module_version": "1.2.0",
            "_view_count": null,
            "flex_flow": null,
            "width": null,
            "min_width": null,
            "border": null,
            "align_items": null,
            "bottom": null,
            "_model_module": "@jupyter-widgets/base",
            "top": null,
            "grid_column": null,
            "overflow_y": null,
            "overflow_x": null,
            "grid_auto_flow": null,
            "grid_area": null,
            "grid_template_columns": null,
            "flex": null,
            "_model_name": "LayoutModel",
            "justify_items": null,
            "grid_row": null,
            "max_height": null,
            "align_content": null,
            "visibility": null,
            "align_self": null,
            "height": null,
            "min_height": null,
            "padding": null,
            "grid_auto_rows": null,
            "grid_gap": null,
            "max_width": null,
            "order": null,
            "_view_module_version": "1.2.0",
            "grid_template_areas": null,
            "object_position": null,
            "object_fit": null,
            "grid_auto_columns": null,
            "margin": null,
            "display": null,
            "left": null
          }
        },
        "eda84ce27cdc48cc9ccbcfbfa57c5ea6": {
          "model_module": "@jupyter-widgets/controls",
          "model_name": "ProgressStyleModel",
          "state": {
            "_view_name": "StyleView",
            "_model_name": "ProgressStyleModel",
            "description_width": "",
            "_view_module": "@jupyter-widgets/base",
            "_model_module_version": "1.5.0",
            "_view_count": null,
            "_view_module_version": "1.2.0",
            "bar_color": null,
            "_model_module": "@jupyter-widgets/controls"
          }
        },
        "97e39c4cbaea4ce9aab8d3396d714169": {
          "model_module": "@jupyter-widgets/base",
          "model_name": "LayoutModel",
          "state": {
            "_view_name": "LayoutView",
            "grid_template_rows": null,
            "right": null,
            "justify_content": null,
            "_view_module": "@jupyter-widgets/base",
            "overflow": null,
            "_model_module_version": "1.2.0",
            "_view_count": null,
            "flex_flow": null,
            "width": null,
            "min_width": null,
            "border": null,
            "align_items": null,
            "bottom": null,
            "_model_module": "@jupyter-widgets/base",
            "top": null,
            "grid_column": null,
            "overflow_y": null,
            "overflow_x": null,
            "grid_auto_flow": null,
            "grid_area": null,
            "grid_template_columns": null,
            "flex": null,
            "_model_name": "LayoutModel",
            "justify_items": null,
            "grid_row": null,
            "max_height": null,
            "align_content": null,
            "visibility": null,
            "align_self": null,
            "height": null,
            "min_height": null,
            "padding": null,
            "grid_auto_rows": null,
            "grid_gap": null,
            "max_width": null,
            "order": null,
            "_view_module_version": "1.2.0",
            "grid_template_areas": null,
            "object_position": null,
            "object_fit": null,
            "grid_auto_columns": null,
            "margin": null,
            "display": null,
            "left": null
          }
        },
        "3e59a534e2e046e09aa13ab1ac55a1cd": {
          "model_module": "@jupyter-widgets/controls",
          "model_name": "DescriptionStyleModel",
          "state": {
            "_view_name": "StyleView",
            "_model_name": "DescriptionStyleModel",
            "description_width": "",
            "_view_module": "@jupyter-widgets/base",
            "_model_module_version": "1.5.0",
            "_view_count": null,
            "_view_module_version": "1.2.0",
            "_model_module": "@jupyter-widgets/controls"
          }
        },
        "04d8ef75a7594d489e7613d8b7a28270": {
          "model_module": "@jupyter-widgets/base",
          "model_name": "LayoutModel",
          "state": {
            "_view_name": "LayoutView",
            "grid_template_rows": null,
            "right": null,
            "justify_content": null,
            "_view_module": "@jupyter-widgets/base",
            "overflow": null,
            "_model_module_version": "1.2.0",
            "_view_count": null,
            "flex_flow": null,
            "width": null,
            "min_width": null,
            "border": null,
            "align_items": null,
            "bottom": null,
            "_model_module": "@jupyter-widgets/base",
            "top": null,
            "grid_column": null,
            "overflow_y": null,
            "overflow_x": null,
            "grid_auto_flow": null,
            "grid_area": null,
            "grid_template_columns": null,
            "flex": null,
            "_model_name": "LayoutModel",
            "justify_items": null,
            "grid_row": null,
            "max_height": null,
            "align_content": null,
            "visibility": null,
            "align_self": null,
            "height": null,
            "min_height": null,
            "padding": null,
            "grid_auto_rows": null,
            "grid_gap": null,
            "max_width": null,
            "order": null,
            "_view_module_version": "1.2.0",
            "grid_template_areas": null,
            "object_position": null,
            "object_fit": null,
            "grid_auto_columns": null,
            "margin": null,
            "display": null,
            "left": null
          }
        },
        "0b390cfe22364bb2a525b92484775765": {
          "model_module": "@jupyter-widgets/controls",
          "model_name": "HBoxModel",
          "state": {
            "_view_name": "HBoxView",
            "_dom_classes": [],
            "_model_name": "HBoxModel",
            "_view_module": "@jupyter-widgets/controls",
            "_model_module_version": "1.5.0",
            "_view_count": null,
            "_view_module_version": "1.5.0",
            "box_style": "",
            "layout": "IPY_MODEL_ae5d2efb1aaf43128653c0700ab55b58",
            "_model_module": "@jupyter-widgets/controls",
            "children": [
              "IPY_MODEL_6e1a61e282e547229e229dd18b419984",
              "IPY_MODEL_0ff30c4b2c3646b88f98f9926733f8b8",
              "IPY_MODEL_5e2ef5008a9041e490ba46127c22ac6c"
            ]
          }
        },
        "ae5d2efb1aaf43128653c0700ab55b58": {
          "model_module": "@jupyter-widgets/base",
          "model_name": "LayoutModel",
          "state": {
            "_view_name": "LayoutView",
            "grid_template_rows": null,
            "right": null,
            "justify_content": null,
            "_view_module": "@jupyter-widgets/base",
            "overflow": null,
            "_model_module_version": "1.2.0",
            "_view_count": null,
            "flex_flow": null,
            "width": null,
            "min_width": null,
            "border": null,
            "align_items": null,
            "bottom": null,
            "_model_module": "@jupyter-widgets/base",
            "top": null,
            "grid_column": null,
            "overflow_y": null,
            "overflow_x": null,
            "grid_auto_flow": null,
            "grid_area": null,
            "grid_template_columns": null,
            "flex": null,
            "_model_name": "LayoutModel",
            "justify_items": null,
            "grid_row": null,
            "max_height": null,
            "align_content": null,
            "visibility": null,
            "align_self": null,
            "height": null,
            "min_height": null,
            "padding": null,
            "grid_auto_rows": null,
            "grid_gap": null,
            "max_width": null,
            "order": null,
            "_view_module_version": "1.2.0",
            "grid_template_areas": null,
            "object_position": null,
            "object_fit": null,
            "grid_auto_columns": null,
            "margin": null,
            "display": null,
            "left": null
          }
        },
        "6e1a61e282e547229e229dd18b419984": {
          "model_module": "@jupyter-widgets/controls",
          "model_name": "HTMLModel",
          "state": {
            "_view_name": "HTMLView",
            "style": "IPY_MODEL_42830337480f42c19e5109b4fbfd273f",
            "_dom_classes": [],
            "description": "",
            "_model_name": "HTMLModel",
            "placeholder": "​",
            "_view_module": "@jupyter-widgets/controls",
            "_model_module_version": "1.5.0",
            "value": "Running Evaluation: 100%",
            "_view_count": null,
            "_view_module_version": "1.5.0",
            "description_tooltip": null,
            "_model_module": "@jupyter-widgets/controls",
            "layout": "IPY_MODEL_11676b36506c4d808c6516c3abd12789"
          }
        },
        "0ff30c4b2c3646b88f98f9926733f8b8": {
          "model_module": "@jupyter-widgets/controls",
          "model_name": "FloatProgressModel",
          "state": {
            "_view_name": "ProgressView",
            "style": "IPY_MODEL_c531bacea7f2447a8bad4af0bbfa8e7e",
            "_dom_classes": [],
            "description": "",
            "_model_name": "FloatProgressModel",
            "bar_style": "success",
            "max": 250,
            "_view_module": "@jupyter-widgets/controls",
            "_model_module_version": "1.5.0",
            "value": 250,
            "_view_count": null,
            "_view_module_version": "1.5.0",
            "orientation": "horizontal",
            "min": 0,
            "description_tooltip": null,
            "_model_module": "@jupyter-widgets/controls",
            "layout": "IPY_MODEL_ced78534985749efa739a4d0f86baa0c"
          }
        },
        "5e2ef5008a9041e490ba46127c22ac6c": {
          "model_module": "@jupyter-widgets/controls",
          "model_name": "HTMLModel",
          "state": {
            "_view_name": "HTMLView",
            "style": "IPY_MODEL_33393c0714124c2d9629e867d98db40a",
            "_dom_classes": [],
            "description": "",
            "_model_name": "HTMLModel",
            "placeholder": "​",
            "_view_module": "@jupyter-widgets/controls",
            "_model_module_version": "1.5.0",
            "value": " 250/250 [00:07&lt;00:00, 33.68it/s]",
            "_view_count": null,
            "_view_module_version": "1.5.0",
            "description_tooltip": null,
            "_model_module": "@jupyter-widgets/controls",
            "layout": "IPY_MODEL_fbc004088c8e43d7afdf61f0742c4dbd"
          }
        },
        "42830337480f42c19e5109b4fbfd273f": {
          "model_module": "@jupyter-widgets/controls",
          "model_name": "DescriptionStyleModel",
          "state": {
            "_view_name": "StyleView",
            "_model_name": "DescriptionStyleModel",
            "description_width": "",
            "_view_module": "@jupyter-widgets/base",
            "_model_module_version": "1.5.0",
            "_view_count": null,
            "_view_module_version": "1.2.0",
            "_model_module": "@jupyter-widgets/controls"
          }
        },
        "11676b36506c4d808c6516c3abd12789": {
          "model_module": "@jupyter-widgets/base",
          "model_name": "LayoutModel",
          "state": {
            "_view_name": "LayoutView",
            "grid_template_rows": null,
            "right": null,
            "justify_content": null,
            "_view_module": "@jupyter-widgets/base",
            "overflow": null,
            "_model_module_version": "1.2.0",
            "_view_count": null,
            "flex_flow": null,
            "width": null,
            "min_width": null,
            "border": null,
            "align_items": null,
            "bottom": null,
            "_model_module": "@jupyter-widgets/base",
            "top": null,
            "grid_column": null,
            "overflow_y": null,
            "overflow_x": null,
            "grid_auto_flow": null,
            "grid_area": null,
            "grid_template_columns": null,
            "flex": null,
            "_model_name": "LayoutModel",
            "justify_items": null,
            "grid_row": null,
            "max_height": null,
            "align_content": null,
            "visibility": null,
            "align_self": null,
            "height": null,
            "min_height": null,
            "padding": null,
            "grid_auto_rows": null,
            "grid_gap": null,
            "max_width": null,
            "order": null,
            "_view_module_version": "1.2.0",
            "grid_template_areas": null,
            "object_position": null,
            "object_fit": null,
            "grid_auto_columns": null,
            "margin": null,
            "display": null,
            "left": null
          }
        },
        "c531bacea7f2447a8bad4af0bbfa8e7e": {
          "model_module": "@jupyter-widgets/controls",
          "model_name": "ProgressStyleModel",
          "state": {
            "_view_name": "StyleView",
            "_model_name": "ProgressStyleModel",
            "description_width": "",
            "_view_module": "@jupyter-widgets/base",
            "_model_module_version": "1.5.0",
            "_view_count": null,
            "_view_module_version": "1.2.0",
            "bar_color": null,
            "_model_module": "@jupyter-widgets/controls"
          }
        },
        "ced78534985749efa739a4d0f86baa0c": {
          "model_module": "@jupyter-widgets/base",
          "model_name": "LayoutModel",
          "state": {
            "_view_name": "LayoutView",
            "grid_template_rows": null,
            "right": null,
            "justify_content": null,
            "_view_module": "@jupyter-widgets/base",
            "overflow": null,
            "_model_module_version": "1.2.0",
            "_view_count": null,
            "flex_flow": null,
            "width": null,
            "min_width": null,
            "border": null,
            "align_items": null,
            "bottom": null,
            "_model_module": "@jupyter-widgets/base",
            "top": null,
            "grid_column": null,
            "overflow_y": null,
            "overflow_x": null,
            "grid_auto_flow": null,
            "grid_area": null,
            "grid_template_columns": null,
            "flex": null,
            "_model_name": "LayoutModel",
            "justify_items": null,
            "grid_row": null,
            "max_height": null,
            "align_content": null,
            "visibility": null,
            "align_self": null,
            "height": null,
            "min_height": null,
            "padding": null,
            "grid_auto_rows": null,
            "grid_gap": null,
            "max_width": null,
            "order": null,
            "_view_module_version": "1.2.0",
            "grid_template_areas": null,
            "object_position": null,
            "object_fit": null,
            "grid_auto_columns": null,
            "margin": null,
            "display": null,
            "left": null
          }
        },
        "33393c0714124c2d9629e867d98db40a": {
          "model_module": "@jupyter-widgets/controls",
          "model_name": "DescriptionStyleModel",
          "state": {
            "_view_name": "StyleView",
            "_model_name": "DescriptionStyleModel",
            "description_width": "",
            "_view_module": "@jupyter-widgets/base",
            "_model_module_version": "1.5.0",
            "_view_count": null,
            "_view_module_version": "1.2.0",
            "_model_module": "@jupyter-widgets/controls"
          }
        },
        "fbc004088c8e43d7afdf61f0742c4dbd": {
          "model_module": "@jupyter-widgets/base",
          "model_name": "LayoutModel",
          "state": {
            "_view_name": "LayoutView",
            "grid_template_rows": null,
            "right": null,
            "justify_content": null,
            "_view_module": "@jupyter-widgets/base",
            "overflow": null,
            "_model_module_version": "1.2.0",
            "_view_count": null,
            "flex_flow": null,
            "width": null,
            "min_width": null,
            "border": null,
            "align_items": null,
            "bottom": null,
            "_model_module": "@jupyter-widgets/base",
            "top": null,
            "grid_column": null,
            "overflow_y": null,
            "overflow_x": null,
            "grid_auto_flow": null,
            "grid_area": null,
            "grid_template_columns": null,
            "flex": null,
            "_model_name": "LayoutModel",
            "justify_items": null,
            "grid_row": null,
            "max_height": null,
            "align_content": null,
            "visibility": null,
            "align_self": null,
            "height": null,
            "min_height": null,
            "padding": null,
            "grid_auto_rows": null,
            "grid_gap": null,
            "max_width": null,
            "order": null,
            "_view_module_version": "1.2.0",
            "grid_template_areas": null,
            "object_position": null,
            "object_fit": null,
            "grid_auto_columns": null,
            "margin": null,
            "display": null,
            "left": null
          }
        },
        "a21204cecf1542e581e5a1c0d46c4b42": {
          "model_module": "@jupyter-widgets/controls",
          "model_name": "HBoxModel",
          "state": {
            "_view_name": "HBoxView",
            "_dom_classes": [],
            "_model_name": "HBoxModel",
            "_view_module": "@jupyter-widgets/controls",
            "_model_module_version": "1.5.0",
            "_view_count": null,
            "_view_module_version": "1.5.0",
            "box_style": "",
            "layout": "IPY_MODEL_d3ab93e67e9f45cba7da44edc78b7b77",
            "_model_module": "@jupyter-widgets/controls",
            "children": [
              "IPY_MODEL_a73eec08f8604a4fb3a0d8d3b792c5ad",
              "IPY_MODEL_d38815fbfe3f4924bef6919cdff224e7",
              "IPY_MODEL_4e4719fcec2e4de3bb5cdefe642e6063"
            ]
          }
        },
        "d3ab93e67e9f45cba7da44edc78b7b77": {
          "model_module": "@jupyter-widgets/base",
          "model_name": "LayoutModel",
          "state": {
            "_view_name": "LayoutView",
            "grid_template_rows": null,
            "right": null,
            "justify_content": null,
            "_view_module": "@jupyter-widgets/base",
            "overflow": null,
            "_model_module_version": "1.2.0",
            "_view_count": null,
            "flex_flow": null,
            "width": null,
            "min_width": null,
            "border": null,
            "align_items": null,
            "bottom": null,
            "_model_module": "@jupyter-widgets/base",
            "top": null,
            "grid_column": null,
            "overflow_y": null,
            "overflow_x": null,
            "grid_auto_flow": null,
            "grid_area": null,
            "grid_template_columns": null,
            "flex": null,
            "_model_name": "LayoutModel",
            "justify_items": null,
            "grid_row": null,
            "max_height": null,
            "align_content": null,
            "visibility": null,
            "align_self": null,
            "height": null,
            "min_height": null,
            "padding": null,
            "grid_auto_rows": null,
            "grid_gap": null,
            "max_width": null,
            "order": null,
            "_view_module_version": "1.2.0",
            "grid_template_areas": null,
            "object_position": null,
            "object_fit": null,
            "grid_auto_columns": null,
            "margin": null,
            "display": null,
            "left": null
          }
        },
        "a73eec08f8604a4fb3a0d8d3b792c5ad": {
          "model_module": "@jupyter-widgets/controls",
          "model_name": "HTMLModel",
          "state": {
            "_view_name": "HTMLView",
            "style": "IPY_MODEL_b6cf173ae9514d139ede9f5aa55f631c",
            "_dom_classes": [],
            "description": "",
            "_model_name": "HTMLModel",
            "placeholder": "​",
            "_view_module": "@jupyter-widgets/controls",
            "_model_module_version": "1.5.0",
            "value": "Epochs 1/16. Running Loss:    0.4143: 100%",
            "_view_count": null,
            "_view_module_version": "1.5.0",
            "description_tooltip": null,
            "_model_module": "@jupyter-widgets/controls",
            "layout": "IPY_MODEL_a2d2df2fe9874ba998b5d27fa0ec5bfc"
          }
        },
        "d38815fbfe3f4924bef6919cdff224e7": {
          "model_module": "@jupyter-widgets/controls",
          "model_name": "FloatProgressModel",
          "state": {
            "_view_name": "ProgressView",
            "style": "IPY_MODEL_4a334d3c230e44cda60eec362a142128",
            "_dom_classes": [],
            "description": "",
            "_model_name": "FloatProgressModel",
            "bar_style": "success",
            "max": 1125,
            "_view_module": "@jupyter-widgets/controls",
            "_model_module_version": "1.5.0",
            "value": 1125,
            "_view_count": null,
            "_view_module_version": "1.5.0",
            "orientation": "horizontal",
            "min": 0,
            "description_tooltip": null,
            "_model_module": "@jupyter-widgets/controls",
            "layout": "IPY_MODEL_16d7b86b75254aa68647f60ce9d5a4d5"
          }
        },
        "4e4719fcec2e4de3bb5cdefe642e6063": {
          "model_module": "@jupyter-widgets/controls",
          "model_name": "HTMLModel",
          "state": {
            "_view_name": "HTMLView",
            "style": "IPY_MODEL_c18b88657cd841a9aea76ec6f420d31d",
            "_dom_classes": [],
            "description": "",
            "_model_name": "HTMLModel",
            "placeholder": "​",
            "_view_module": "@jupyter-widgets/controls",
            "_model_module_version": "1.5.0",
            "value": " 1125/1125 [26:28&lt;00:00,  1.41s/it]",
            "_view_count": null,
            "_view_module_version": "1.5.0",
            "description_tooltip": null,
            "_model_module": "@jupyter-widgets/controls",
            "layout": "IPY_MODEL_83c0953e5f39423d953da3cd83ed431d"
          }
        },
        "b6cf173ae9514d139ede9f5aa55f631c": {
          "model_module": "@jupyter-widgets/controls",
          "model_name": "DescriptionStyleModel",
          "state": {
            "_view_name": "StyleView",
            "_model_name": "DescriptionStyleModel",
            "description_width": "",
            "_view_module": "@jupyter-widgets/base",
            "_model_module_version": "1.5.0",
            "_view_count": null,
            "_view_module_version": "1.2.0",
            "_model_module": "@jupyter-widgets/controls"
          }
        },
        "a2d2df2fe9874ba998b5d27fa0ec5bfc": {
          "model_module": "@jupyter-widgets/base",
          "model_name": "LayoutModel",
          "state": {
            "_view_name": "LayoutView",
            "grid_template_rows": null,
            "right": null,
            "justify_content": null,
            "_view_module": "@jupyter-widgets/base",
            "overflow": null,
            "_model_module_version": "1.2.0",
            "_view_count": null,
            "flex_flow": null,
            "width": null,
            "min_width": null,
            "border": null,
            "align_items": null,
            "bottom": null,
            "_model_module": "@jupyter-widgets/base",
            "top": null,
            "grid_column": null,
            "overflow_y": null,
            "overflow_x": null,
            "grid_auto_flow": null,
            "grid_area": null,
            "grid_template_columns": null,
            "flex": null,
            "_model_name": "LayoutModel",
            "justify_items": null,
            "grid_row": null,
            "max_height": null,
            "align_content": null,
            "visibility": null,
            "align_self": null,
            "height": null,
            "min_height": null,
            "padding": null,
            "grid_auto_rows": null,
            "grid_gap": null,
            "max_width": null,
            "order": null,
            "_view_module_version": "1.2.0",
            "grid_template_areas": null,
            "object_position": null,
            "object_fit": null,
            "grid_auto_columns": null,
            "margin": null,
            "display": null,
            "left": null
          }
        },
        "4a334d3c230e44cda60eec362a142128": {
          "model_module": "@jupyter-widgets/controls",
          "model_name": "ProgressStyleModel",
          "state": {
            "_view_name": "StyleView",
            "_model_name": "ProgressStyleModel",
            "description_width": "",
            "_view_module": "@jupyter-widgets/base",
            "_model_module_version": "1.5.0",
            "_view_count": null,
            "_view_module_version": "1.2.0",
            "bar_color": null,
            "_model_module": "@jupyter-widgets/controls"
          }
        },
        "16d7b86b75254aa68647f60ce9d5a4d5": {
          "model_module": "@jupyter-widgets/base",
          "model_name": "LayoutModel",
          "state": {
            "_view_name": "LayoutView",
            "grid_template_rows": null,
            "right": null,
            "justify_content": null,
            "_view_module": "@jupyter-widgets/base",
            "overflow": null,
            "_model_module_version": "1.2.0",
            "_view_count": null,
            "flex_flow": null,
            "width": null,
            "min_width": null,
            "border": null,
            "align_items": null,
            "bottom": null,
            "_model_module": "@jupyter-widgets/base",
            "top": null,
            "grid_column": null,
            "overflow_y": null,
            "overflow_x": null,
            "grid_auto_flow": null,
            "grid_area": null,
            "grid_template_columns": null,
            "flex": null,
            "_model_name": "LayoutModel",
            "justify_items": null,
            "grid_row": null,
            "max_height": null,
            "align_content": null,
            "visibility": null,
            "align_self": null,
            "height": null,
            "min_height": null,
            "padding": null,
            "grid_auto_rows": null,
            "grid_gap": null,
            "max_width": null,
            "order": null,
            "_view_module_version": "1.2.0",
            "grid_template_areas": null,
            "object_position": null,
            "object_fit": null,
            "grid_auto_columns": null,
            "margin": null,
            "display": null,
            "left": null
          }
        },
        "c18b88657cd841a9aea76ec6f420d31d": {
          "model_module": "@jupyter-widgets/controls",
          "model_name": "DescriptionStyleModel",
          "state": {
            "_view_name": "StyleView",
            "_model_name": "DescriptionStyleModel",
            "description_width": "",
            "_view_module": "@jupyter-widgets/base",
            "_model_module_version": "1.5.0",
            "_view_count": null,
            "_view_module_version": "1.2.0",
            "_model_module": "@jupyter-widgets/controls"
          }
        },
        "83c0953e5f39423d953da3cd83ed431d": {
          "model_module": "@jupyter-widgets/base",
          "model_name": "LayoutModel",
          "state": {
            "_view_name": "LayoutView",
            "grid_template_rows": null,
            "right": null,
            "justify_content": null,
            "_view_module": "@jupyter-widgets/base",
            "overflow": null,
            "_model_module_version": "1.2.0",
            "_view_count": null,
            "flex_flow": null,
            "width": null,
            "min_width": null,
            "border": null,
            "align_items": null,
            "bottom": null,
            "_model_module": "@jupyter-widgets/base",
            "top": null,
            "grid_column": null,
            "overflow_y": null,
            "overflow_x": null,
            "grid_auto_flow": null,
            "grid_area": null,
            "grid_template_columns": null,
            "flex": null,
            "_model_name": "LayoutModel",
            "justify_items": null,
            "grid_row": null,
            "max_height": null,
            "align_content": null,
            "visibility": null,
            "align_self": null,
            "height": null,
            "min_height": null,
            "padding": null,
            "grid_auto_rows": null,
            "grid_gap": null,
            "max_width": null,
            "order": null,
            "_view_module_version": "1.2.0",
            "grid_template_areas": null,
            "object_position": null,
            "object_fit": null,
            "grid_auto_columns": null,
            "margin": null,
            "display": null,
            "left": null
          }
        },
        "3fe90b56973843c4b48c7c353a36651b": {
          "model_module": "@jupyter-widgets/controls",
          "model_name": "HBoxModel",
          "state": {
            "_view_name": "HBoxView",
            "_dom_classes": [],
            "_model_name": "HBoxModel",
            "_view_module": "@jupyter-widgets/controls",
            "_model_module_version": "1.5.0",
            "_view_count": null,
            "_view_module_version": "1.5.0",
            "box_style": "",
            "layout": "IPY_MODEL_9b554010695943cb9d85a4eeeb3d8145",
            "_model_module": "@jupyter-widgets/controls",
            "children": [
              "IPY_MODEL_3184596b2cde47a7a498491ec7b722f3",
              "IPY_MODEL_cb217041e4d143e9b9bd1e1d6c8f5b1c",
              "IPY_MODEL_2e0fc539c58e45978d7b9c5b84736b9d"
            ]
          }
        },
        "9b554010695943cb9d85a4eeeb3d8145": {
          "model_module": "@jupyter-widgets/base",
          "model_name": "LayoutModel",
          "state": {
            "_view_name": "LayoutView",
            "grid_template_rows": null,
            "right": null,
            "justify_content": null,
            "_view_module": "@jupyter-widgets/base",
            "overflow": null,
            "_model_module_version": "1.2.0",
            "_view_count": null,
            "flex_flow": null,
            "width": null,
            "min_width": null,
            "border": null,
            "align_items": null,
            "bottom": null,
            "_model_module": "@jupyter-widgets/base",
            "top": null,
            "grid_column": null,
            "overflow_y": null,
            "overflow_x": null,
            "grid_auto_flow": null,
            "grid_area": null,
            "grid_template_columns": null,
            "flex": null,
            "_model_name": "LayoutModel",
            "justify_items": null,
            "grid_row": null,
            "max_height": null,
            "align_content": null,
            "visibility": null,
            "align_self": null,
            "height": null,
            "min_height": null,
            "padding": null,
            "grid_auto_rows": null,
            "grid_gap": null,
            "max_width": null,
            "order": null,
            "_view_module_version": "1.2.0",
            "grid_template_areas": null,
            "object_position": null,
            "object_fit": null,
            "grid_auto_columns": null,
            "margin": null,
            "display": null,
            "left": null
          }
        },
        "3184596b2cde47a7a498491ec7b722f3": {
          "model_module": "@jupyter-widgets/controls",
          "model_name": "HTMLModel",
          "state": {
            "_view_name": "HTMLView",
            "style": "IPY_MODEL_ff0e8a21272f401b9a25ce2fbe8d46a3",
            "_dom_classes": [],
            "description": "",
            "_model_name": "HTMLModel",
            "placeholder": "​",
            "_view_module": "@jupyter-widgets/controls",
            "_model_module_version": "1.5.0",
            "value": "100%",
            "_view_count": null,
            "_view_module_version": "1.5.0",
            "description_tooltip": null,
            "_model_module": "@jupyter-widgets/controls",
            "layout": "IPY_MODEL_defd5ec5939344e5bc1383d1183c38e5"
          }
        },
        "cb217041e4d143e9b9bd1e1d6c8f5b1c": {
          "model_module": "@jupyter-widgets/controls",
          "model_name": "FloatProgressModel",
          "state": {
            "_view_name": "ProgressView",
            "style": "IPY_MODEL_452d20cf1206444c90533cbf58e1587d",
            "_dom_classes": [],
            "description": "",
            "_model_name": "FloatProgressModel",
            "bar_style": "success",
            "max": 500,
            "_view_module": "@jupyter-widgets/controls",
            "_model_module_version": "1.5.0",
            "value": 500,
            "_view_count": null,
            "_view_module_version": "1.5.0",
            "orientation": "horizontal",
            "min": 0,
            "description_tooltip": null,
            "_model_module": "@jupyter-widgets/controls",
            "layout": "IPY_MODEL_dcd76005ebf64fee9f90e26b58e85532"
          }
        },
        "2e0fc539c58e45978d7b9c5b84736b9d": {
          "model_module": "@jupyter-widgets/controls",
          "model_name": "HTMLModel",
          "state": {
            "_view_name": "HTMLView",
            "style": "IPY_MODEL_cdf65716c80e413b9de269c222cc0c63",
            "_dom_classes": [],
            "description": "",
            "_model_name": "HTMLModel",
            "placeholder": "​",
            "_view_module": "@jupyter-widgets/controls",
            "_model_module_version": "1.5.0",
            "value": " 500/500 [00:17&lt;00:00, 28.56it/s]",
            "_view_count": null,
            "_view_module_version": "1.5.0",
            "description_tooltip": null,
            "_model_module": "@jupyter-widgets/controls",
            "layout": "IPY_MODEL_aeea4d770b584245900486c067e5ec2c"
          }
        }
      }
    }
  },
  "cells": [
    {
      "cell_type": "markdown",
      "metadata": {
        "id": "IrI8ywvYyQvP"
      },
      "source": [
        "# Hyperparameter Tuning for RoBERTa\r\n",
        "To further improve the strong performance of the RoBERTa model on the classification task, we experimented with hyperparameter tuning (hpt).\r\n",
        "\r\n",
        "We use the wandb.ai developer tools integration of the simpletransformers library to keep track of the statistics during sweeps. wandb.ai provides very convenient visualization tools that help us evaluating the tuning efforts.\r\n"
      ]
    },
    {
      "cell_type": "markdown",
      "metadata": {
        "id": "_sl3zLik0CrF"
      },
      "source": [
        " \r\n",
        "## Setup\r\n",
        "* We tried to optimize accuracy over <br>\r\n",
        "training epochs (1 to 40) and <br>\r\n",
        "learning rate (0 to 0.0004). \r\n",
        "* We use an early stopping criterion which ends training if accuracy has not improved by 0.01 over 5 training steps.\r\n",
        "* To avoid hyperparameter tuning to take several weeks a GPU is mandatory. We used google Colab's environment which offers GPU usage for free.\r\n"
      ]
    },
    {
      "cell_type": "markdown",
      "metadata": {
        "id": "_9QWBG582lFy"
      },
      "source": [
        "## Results\r\n",
        "\r\n",
        "*  Hyperparemter tuning sugguests picking low learning rates (<0.00005) with modest training epochs (around 15) (see the graph below)\r\n",
        "*  With a training / evaluation data split of 0.95 and 0.05 on the training data, evaluation showed promising results with accuracy scores above 0.80.\r\n",
        "*  Unfortunately, using these hyperparameters did not improve the performance on the test data, and we therefore stick with simple fine tuning of the RoBERTa model with default parameters.\r\n",
        "\r\n",
        "\r\n",
        "![W&B Chart 12.12.2020, 08_45_45.png](data:image/png;base64,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)\r\n",
        "\r\n",
        "\r\n",
        "\r\n",
        "You can see the full output reported to wandb.ai here:\r\n",
        "https://wandb.ai/mattzee/TwitterSarcasmComp%20-%20Hyperparameter%20Optimization2\r\n",
        "\r\n"
      ]
    },
    {
      "cell_type": "markdown",
      "metadata": {
        "id": "xjwHMQq46v9O"
      },
      "source": [
        "## Challenges\r\n",
        "\r\n",
        "\r\n",
        "*   The optimizer is very sensitive to parameters, if the setup is not correct hpt aborts with CUDA memory error (see e.g. https://github.com/ThilinaRajapakse/simpletransformers/pull/829)\r\n",
        "*   Google Colab has frequently stopped execution, possible due to an extended run time of the optimizer or no user interaction\r\n",
        "*   We were able to produce some results, but hpt was never truely finalized on google colab\r\n"
      ]
    },
    {
      "cell_type": "markdown",
      "metadata": {
        "id": "_qjrlPxKykun"
      },
      "source": [
        "## References\r\n",
        "https://simpletransformers.ai/docs/tips-and-tricks/ <br>\r\n",
        "https://docs.wandb.com/integrations/simpletransformers <br>\r\n",
        "https://towardsdatascience.com/hyperparameter-optimization-for-optimum-transformer-models-b95a32b70949\r\n"
      ]
    },
    {
      "cell_type": "markdown",
      "metadata": {
        "id": "n0Rv6j_n_O9l"
      },
      "source": [
        "# Code\r\n",
        "\r\n",
        "##Colab Phython Setup\r\n",
        "\r\n",
        "###Connect to google drive and set the correct working directory\r\n"
      ]
    },
    {
      "cell_type": "code",
      "metadata": {
        "colab": {
          "base_uri": "https://localhost:8080/"
        },
        "id": "f1xHrEAbLcQ1",
        "outputId": "d04e661c-0484-44fd-b52b-f203767a4878"
      },
      "source": [
        "from google.colab import drive\n",
        "drive.mount('/content/gdrive')"
      ],
      "execution_count": null,
      "outputs": [
        {
          "output_type": "stream",
          "text": [
            "Mounted at /content/gdrive\n"
          ],
          "name": "stdout"
        }
      ]
    },
    {
      "cell_type": "code",
      "metadata": {
        "id": "Ht7vZH-gYwH1"
      },
      "source": [
        "import os\n",
        "os.chdir('/content/gdrive/MyDrive/TxtClassComp_MattzeePrivate/')"
      ],
      "execution_count": null,
      "outputs": []
    },
    {
      "cell_type": "code",
      "metadata": {
        "colab": {
          "base_uri": "https://localhost:8080/"
        },
        "id": "YINywnB7Yx8L",
        "outputId": "b4fdb2e2-174d-491b-f3c3-a136454305dc"
      },
      "source": [
        "!pwd "
      ],
      "execution_count": null,
      "outputs": [
        {
          "output_type": "stream",
          "text": [
            "/content/gdrive/MyDrive/TxtClassComp_MattzeePrivate\n"
          ],
          "name": "stdout"
        }
      ]
    },
    {
      "cell_type": "markdown",
      "metadata": {
        "id": "fitDfPIY_jrZ"
      },
      "source": [
        "### Install required libraries/frameworks"
      ]
    },
    {
      "cell_type": "code",
      "metadata": {
        "colab": {
          "base_uri": "https://localhost:8080/"
        },
        "id": "7BYYhU712cAW",
        "outputId": "972015f7-7e28-41f7-c651-5a331f75b420"
      },
      "source": [
        "!pip install jsonlines\n",
        "!pip install pandas"
      ],
      "execution_count": null,
      "outputs": [
        {
          "output_type": "stream",
          "text": [
            "Collecting jsonlines\n",
            "  Downloading https://files.pythonhosted.org/packages/4f/9a/ab96291470e305504aa4b7a2e0ec132e930da89eb3ca7a82fbe03167c131/jsonlines-1.2.0-py2.py3-none-any.whl\n",
            "Requirement already satisfied: six in /usr/local/lib/python3.6/dist-packages (from jsonlines) (1.15.0)\n",
            "Installing collected packages: jsonlines\n",
            "Successfully installed jsonlines-1.2.0\n",
            "Requirement already satisfied: pandas in /usr/local/lib/python3.6/dist-packages (1.1.5)\n",
            "Requirement already satisfied: python-dateutil>=2.7.3 in /usr/local/lib/python3.6/dist-packages (from pandas) (2.8.1)\n",
            "Requirement already satisfied: pytz>=2017.2 in /usr/local/lib/python3.6/dist-packages (from pandas) (2018.9)\n",
            "Requirement already satisfied: numpy>=1.15.4 in /usr/local/lib/python3.6/dist-packages (from pandas) (1.18.5)\n",
            "Requirement already satisfied: six>=1.5 in /usr/local/lib/python3.6/dist-packages (from python-dateutil>=2.7.3->pandas) (1.15.0)\n"
          ],
          "name": "stdout"
        }
      ]
    },
    {
      "cell_type": "code",
      "metadata": {
        "colab": {
          "base_uri": "https://localhost:8080/",
          "height": 1000
        },
        "id": "Y3U_dQZ8M4CH",
        "outputId": "892eee77-0dab-468b-9cc2-ac0fa45aded4"
      },
      "source": [
        "!pip install simpletransformers"
      ],
      "execution_count": null,
      "outputs": [
        {
          "output_type": "stream",
          "text": [
            "Collecting simpletransformers\n",
            "\u001b[?25l  Downloading https://files.pythonhosted.org/packages/c8/1e/13448b9e3c07e94dd035d9a791b66e08a4c7760423c120c11ea863e41c11/simpletransformers-0.51.3-py3-none-any.whl (199kB)\n",
            "\u001b[K     |████████████████████████████████| 204kB 8.9MB/s \n",
            "\u001b[?25hCollecting streamlit\n",
            "\u001b[?25l  Downloading https://files.pythonhosted.org/packages/a3/3b/8b70128553de980a5120b512c8eedc3667deced9554fc399703414b1d8cf/streamlit-0.72.0-py2.py3-none-any.whl (7.4MB)\n",
            "\u001b[K     |████████████████████████████████| 7.4MB 12.3MB/s \n",
            "\u001b[?25hRequirement already satisfied: pandas in /usr/local/lib/python3.6/dist-packages (from simpletransformers) (1.1.5)\n",
            "Collecting tensorboardx\n",
            "\u001b[?25l  Downloading https://files.pythonhosted.org/packages/af/0c/4f41bcd45db376e6fe5c619c01100e9b7531c55791b7244815bac6eac32c/tensorboardX-2.1-py2.py3-none-any.whl (308kB)\n",
            "\u001b[K     |████████████████████████████████| 317kB 45.4MB/s \n",
            "\u001b[?25hCollecting tqdm>=4.47.0\n",
            "\u001b[?25l  Downloading https://files.pythonhosted.org/packages/8a/54/115f0c28a61d56674c3a5e05c46d6c3523ad196e1dcd3e2d8b119026df36/tqdm-4.54.1-py2.py3-none-any.whl (69kB)\n",
            "\u001b[K     |████████████████████████████████| 71kB 8.2MB/s \n",
            "\u001b[?25hCollecting transformers>=4.0.0\n",
            "\u001b[?25l  Downloading https://files.pythonhosted.org/packages/ed/db/98c3ea1a78190dac41c0127a063abf92bd01b4b0b6970a6db1c2f5b66fa0/transformers-4.0.1-py3-none-any.whl (1.4MB)\n",
            "\u001b[K     |████████████████████████████████| 1.4MB 52.8MB/s \n",
            "\u001b[?25hCollecting sentencepiece\n",
            "\u001b[?25l  Downloading https://files.pythonhosted.org/packages/e5/2d/6d4ca4bef9a67070fa1cac508606328329152b1df10bdf31fb6e4e727894/sentencepiece-0.1.94-cp36-cp36m-manylinux2014_x86_64.whl (1.1MB)\n",
            "\u001b[K     |████████████████████████████████| 1.1MB 54.4MB/s \n",
            "\u001b[?25hCollecting seqeval\n",
            "\u001b[?25l  Downloading https://files.pythonhosted.org/packages/9d/2d/233c79d5b4e5ab1dbf111242299153f3caddddbb691219f363ad55ce783d/seqeval-1.2.2.tar.gz (43kB)\n",
            "\u001b[K     |████████████████████████████████| 51kB 5.6MB/s \n",
            "\u001b[?25hRequirement already satisfied: requests in /usr/local/lib/python3.6/dist-packages (from simpletransformers) (2.23.0)\n",
            "Collecting tokenizers\n",
            "\u001b[?25l  Downloading https://files.pythonhosted.org/packages/0f/1c/e789a8b12e28be5bc1ce2156cf87cb522b379be9cadc7ad8091a4cc107c4/tokenizers-0.9.4-cp36-cp36m-manylinux2010_x86_64.whl (2.9MB)\n",
            "\u001b[K     |████████████████████████████████| 2.9MB 48.4MB/s \n",
            "\u001b[?25hCollecting wandb\n",
            "\u001b[?25l  Downloading https://files.pythonhosted.org/packages/ca/5e/9df94df3bfee51b92b54a5e6fa277d6e1fcdf1f27b1872214b98f55ec0f7/wandb-0.10.12-py2.py3-none-any.whl (1.8MB)\n",
            "\u001b[K     |████████████████████████████████| 1.8MB 19.0MB/s \n",
            "\u001b[?25hRequirement already satisfied: regex in /usr/local/lib/python3.6/dist-packages (from simpletransformers) (2019.12.20)\n",
            "Requirement already satisfied: scikit-learn in /usr/local/lib/python3.6/dist-packages (from simpletransformers) (0.22.2.post1)\n",
            "Requirement already satisfied: scipy in /usr/local/lib/python3.6/dist-packages (from simpletransformers) (1.4.1)\n",
            "Requirement already satisfied: numpy in /usr/local/lib/python3.6/dist-packages (from simpletransformers) (1.18.5)\n",
            "Requirement already satisfied: astor in /usr/local/lib/python3.6/dist-packages (from streamlit->simpletransformers) (0.8.1)\n",
            "Collecting base58\n",
            "  Downloading https://files.pythonhosted.org/packages/3c/03/58572025c77b9e6027155b272a1b96298e711cd4f95c24967f7137ab0c4b/base58-2.0.1-py3-none-any.whl\n",
            "Requirement already satisfied: altair>=3.2.0 in /usr/local/lib/python3.6/dist-packages (from streamlit->simpletransformers) (4.1.0)\n",
            "Requirement already satisfied: tzlocal in /usr/local/lib/python3.6/dist-packages (from streamlit->simpletransformers) (1.5.1)\n",
            "Requirement already satisfied: python-dateutil in /usr/local/lib/python3.6/dist-packages (from streamlit->simpletransformers) (2.8.1)\n",
            "Requirement already satisfied: pillow>=6.2.0 in /usr/local/lib/python3.6/dist-packages (from streamlit->simpletransformers) (7.0.0)\n",
            "Requirement already satisfied: protobuf!=3.11,>=3.6.0 in /usr/local/lib/python3.6/dist-packages (from streamlit->simpletransformers) (3.12.4)\n",
            "Collecting pydeck>=0.1.dev5\n",
            "\u001b[?25l  Downloading https://files.pythonhosted.org/packages/9e/9d/8fbf1f56cc5891e6c3295bf94fc176e9ab0a3ffdd090cc8b354ac2640f9a/pydeck-0.5.0-py2.py3-none-any.whl (4.5MB)\n",
            "\u001b[K     |████████████████████████████████| 4.5MB 3.3MB/s \n",
            "\u001b[?25hCollecting watchdog\n",
            "\u001b[?25l  Downloading https://files.pythonhosted.org/packages/e6/76/39d123d37908a772b6a281d85fbb4384d9db7e13d19d10ad409006bd2962/watchdog-1.0.1.tar.gz (97kB)\n",
            "\u001b[K     |████████████████████████████████| 102kB 10.8MB/s \n",
            "\u001b[?25hRequirement already satisfied: click>=7.0 in /usr/local/lib/python3.6/dist-packages (from streamlit->simpletransformers) (7.1.2)\n",
            "Collecting gitpython\n",
            "\u001b[?25l  Downloading https://files.pythonhosted.org/packages/24/d1/a7f8fe3df258549b303415157328bfcc63e9b11d06a7ad7a3327f3d32606/GitPython-3.1.11-py3-none-any.whl (159kB)\n",
            "\u001b[K     |████████████████████████████████| 163kB 51.1MB/s \n",
            "\u001b[?25hRequirement already satisfied: cachetools>=4.0 in /usr/local/lib/python3.6/dist-packages (from streamlit->simpletransformers) (4.1.1)\n",
            "Requirement already satisfied: tornado>=5.0 in /usr/local/lib/python3.6/dist-packages (from streamlit->simpletransformers) (5.1.1)\n",
            "Requirement already satisfied: packaging in /usr/local/lib/python3.6/dist-packages (from streamlit->simpletransformers) (20.7)\n",
            "Requirement already satisfied: pyarrow in /usr/local/lib/python3.6/dist-packages (from streamlit->simpletransformers) (0.14.1)\n",
            "Collecting blinker\n",
            "\u001b[?25l  Downloading https://files.pythonhosted.org/packages/1b/51/e2a9f3b757eb802f61dc1f2b09c8c99f6eb01cf06416c0671253536517b6/blinker-1.4.tar.gz (111kB)\n",
            "\u001b[K     |████████████████████████████████| 112kB 60.6MB/s \n",
            "\u001b[?25hRequirement already satisfied: toml in /usr/local/lib/python3.6/dist-packages (from streamlit->simpletransformers) (0.10.2)\n",
            "Collecting validators\n",
            "  Downloading https://files.pythonhosted.org/packages/41/4a/3360ff3cf2b4a1b9721ac1fbff5f84663f41047d9874b3aa1ac82e862c44/validators-0.18.1-py3-none-any.whl\n",
            "Requirement already satisfied: pytz>=2017.2 in /usr/local/lib/python3.6/dist-packages (from pandas->simpletransformers) (2018.9)\n",
            "Requirement already satisfied: six in /usr/local/lib/python3.6/dist-packages (from tensorboardx->simpletransformers) (1.15.0)\n",
            "Requirement already satisfied: filelock in /usr/local/lib/python3.6/dist-packages (from transformers>=4.0.0->simpletransformers) (3.0.12)\n",
            "Collecting sacremoses\n",
            "\u001b[?25l  Downloading https://files.pythonhosted.org/packages/7d/34/09d19aff26edcc8eb2a01bed8e98f13a1537005d31e95233fd48216eed10/sacremoses-0.0.43.tar.gz (883kB)\n",
            "\u001b[K     |████████████████████████████████| 890kB 46.1MB/s \n",
            "\u001b[?25hRequirement already satisfied: dataclasses; python_version < \"3.7\" in /usr/local/lib/python3.6/dist-packages (from transformers>=4.0.0->simpletransformers) (0.8)\n",
            "Requirement already satisfied: idna<3,>=2.5 in /usr/local/lib/python3.6/dist-packages (from requests->simpletransformers) (2.10)\n",
            "Requirement already satisfied: certifi>=2017.4.17 in /usr/local/lib/python3.6/dist-packages (from requests->simpletransformers) (2020.12.5)\n",
            "Requirement already satisfied: chardet<4,>=3.0.2 in /usr/local/lib/python3.6/dist-packages (from requests->simpletransformers) (3.0.4)\n",
            "Requirement already satisfied: urllib3!=1.25.0,!=1.25.1,<1.26,>=1.21.1 in /usr/local/lib/python3.6/dist-packages (from requests->simpletransformers) (1.24.3)\n",
            "Collecting configparser>=3.8.1\n",
            "  Downloading https://files.pythonhosted.org/packages/08/b2/ef713e0e67f6e7ec7d59aea3ee78d05b39c15930057e724cc6d362a8c3bb/configparser-5.0.1-py3-none-any.whl\n",
            "Collecting subprocess32>=3.5.3\n",
            "\u001b[?25l  Downloading https://files.pythonhosted.org/packages/32/c8/564be4d12629b912ea431f1a50eb8b3b9d00f1a0b1ceff17f266be190007/subprocess32-3.5.4.tar.gz (97kB)\n",
            "\u001b[K     |████████████████████████████████| 102kB 13.8MB/s \n",
            "\u001b[?25hCollecting shortuuid>=0.5.0\n",
            "  Downloading https://files.pythonhosted.org/packages/25/a6/2ecc1daa6a304e7f1b216f0896b26156b78e7c38e1211e9b798b4716c53d/shortuuid-1.0.1-py3-none-any.whl\n",
            "Requirement already satisfied: PyYAML in /usr/local/lib/python3.6/dist-packages (from wandb->simpletransformers) (3.13)\n",
            "Collecting sentry-sdk>=0.4.0\n",
            "\u001b[?25l  Downloading https://files.pythonhosted.org/packages/b1/5c/018bf9a5c24343a664deaea70e61f33f53bb1bd3caf193110f827bfd07e2/sentry_sdk-0.19.5-py2.py3-none-any.whl (128kB)\n",
            "\u001b[K     |████████████████████████████████| 133kB 58.5MB/s \n",
            "\u001b[?25hCollecting docker-pycreds>=0.4.0\n",
            "  Downloading https://files.pythonhosted.org/packages/f5/e8/f6bd1eee09314e7e6dee49cbe2c5e22314ccdb38db16c9fc72d2fa80d054/docker_pycreds-0.4.0-py2.py3-none-any.whl\n",
            "Requirement already satisfied: psutil>=5.0.0 in /usr/local/lib/python3.6/dist-packages (from wandb->simpletransformers) (5.4.8)\n",
            "Requirement already satisfied: promise<3,>=2.0 in /usr/local/lib/python3.6/dist-packages (from wandb->simpletransformers) (2.3)\n",
            "Requirement already satisfied: joblib>=0.11 in /usr/local/lib/python3.6/dist-packages (from scikit-learn->simpletransformers) (0.17.0)\n",
            "Requirement already satisfied: jinja2 in /usr/local/lib/python3.6/dist-packages (from altair>=3.2.0->streamlit->simpletransformers) (2.11.2)\n",
            "Requirement already satisfied: jsonschema in /usr/local/lib/python3.6/dist-packages (from altair>=3.2.0->streamlit->simpletransformers) (2.6.0)\n",
            "Requirement already satisfied: entrypoints in /usr/local/lib/python3.6/dist-packages (from altair>=3.2.0->streamlit->simpletransformers) (0.3)\n",
            "Requirement already satisfied: toolz in /usr/local/lib/python3.6/dist-packages (from altair>=3.2.0->streamlit->simpletransformers) (0.11.1)\n",
            "Requirement already satisfied: setuptools in /usr/local/lib/python3.6/dist-packages (from protobuf!=3.11,>=3.6.0->streamlit->simpletransformers) (50.3.2)\n",
            "Collecting ipykernel>=5.1.2; python_version >= \"3.4\"\n",
            "\u001b[?25l  Downloading https://files.pythonhosted.org/packages/52/19/c2812690d8b340987eecd2cbc18549b1d130b94c5d97fcbe49f5f8710edf/ipykernel-5.3.4-py3-none-any.whl (120kB)\n",
            "\u001b[K     |████████████████████████████████| 122kB 58.9MB/s \n",
            "\u001b[?25hRequirement already satisfied: ipywidgets>=7.0.0 in /usr/local/lib/python3.6/dist-packages (from pydeck>=0.1.dev5->streamlit->simpletransformers) (7.5.1)\n",
            "Requirement already satisfied: traitlets>=4.3.2 in /usr/local/lib/python3.6/dist-packages (from pydeck>=0.1.dev5->streamlit->simpletransformers) (4.3.3)\n",
            "Collecting gitdb<5,>=4.0.1\n",
            "\u001b[?25l  Downloading https://files.pythonhosted.org/packages/48/11/d1800bca0a3bae820b84b7d813ad1eff15a48a64caea9c823fc8c1b119e8/gitdb-4.0.5-py3-none-any.whl (63kB)\n",
            "\u001b[K     |████████████████████████████████| 71kB 11.5MB/s \n",
            "\u001b[?25hRequirement already satisfied: pyparsing>=2.0.2 in /usr/local/lib/python3.6/dist-packages (from packaging->streamlit->simpletransformers) (2.4.7)\n",
            "Requirement already satisfied: decorator>=3.4.0 in /usr/local/lib/python3.6/dist-packages (from validators->streamlit->simpletransformers) (4.4.2)\n",
            "Requirement already satisfied: MarkupSafe>=0.23 in /usr/local/lib/python3.6/dist-packages (from jinja2->altair>=3.2.0->streamlit->simpletransformers) (1.1.1)\n",
            "Requirement already satisfied: jupyter-client in /usr/local/lib/python3.6/dist-packages (from ipykernel>=5.1.2; python_version >= \"3.4\"->pydeck>=0.1.dev5->streamlit->simpletransformers) (5.3.5)\n",
            "Requirement already satisfied: ipython>=5.0.0 in /usr/local/lib/python3.6/dist-packages (from ipykernel>=5.1.2; python_version >= \"3.4\"->pydeck>=0.1.dev5->streamlit->simpletransformers) (5.5.0)\n",
            "Requirement already satisfied: nbformat>=4.2.0 in /usr/local/lib/python3.6/dist-packages (from ipywidgets>=7.0.0->pydeck>=0.1.dev5->streamlit->simpletransformers) (5.0.8)\n",
            "Requirement already satisfied: widgetsnbextension~=3.5.0 in /usr/local/lib/python3.6/dist-packages (from ipywidgets>=7.0.0->pydeck>=0.1.dev5->streamlit->simpletransformers) (3.5.1)\n",
            "Requirement already satisfied: ipython-genutils in /usr/local/lib/python3.6/dist-packages (from traitlets>=4.3.2->pydeck>=0.1.dev5->streamlit->simpletransformers) (0.2.0)\n",
            "Collecting smmap<4,>=3.0.1\n",
            "  Downloading https://files.pythonhosted.org/packages/b0/9a/4d409a6234eb940e6a78dfdfc66156e7522262f5f2fecca07dc55915952d/smmap-3.0.4-py2.py3-none-any.whl\n",
            "Requirement already satisfied: jupyter-core>=4.6.0 in /usr/local/lib/python3.6/dist-packages (from jupyter-client->ipykernel>=5.1.2; python_version >= \"3.4\"->pydeck>=0.1.dev5->streamlit->simpletransformers) (4.7.0)\n",
            "Requirement already satisfied: pyzmq>=13 in /usr/local/lib/python3.6/dist-packages (from jupyter-client->ipykernel>=5.1.2; python_version >= \"3.4\"->pydeck>=0.1.dev5->streamlit->simpletransformers) (20.0.0)\n",
            "Requirement already satisfied: simplegeneric>0.8 in /usr/local/lib/python3.6/dist-packages (from ipython>=5.0.0->ipykernel>=5.1.2; python_version >= \"3.4\"->pydeck>=0.1.dev5->streamlit->simpletransformers) (0.8.1)\n",
            "Requirement already satisfied: pickleshare in /usr/local/lib/python3.6/dist-packages (from ipython>=5.0.0->ipykernel>=5.1.2; python_version >= \"3.4\"->pydeck>=0.1.dev5->streamlit->simpletransformers) (0.7.5)\n",
            "Requirement already satisfied: pexpect; sys_platform != \"win32\" in /usr/local/lib/python3.6/dist-packages (from ipython>=5.0.0->ipykernel>=5.1.2; python_version >= \"3.4\"->pydeck>=0.1.dev5->streamlit->simpletransformers) (4.8.0)\n",
            "Requirement already satisfied: prompt-toolkit<2.0.0,>=1.0.4 in /usr/local/lib/python3.6/dist-packages (from ipython>=5.0.0->ipykernel>=5.1.2; python_version >= \"3.4\"->pydeck>=0.1.dev5->streamlit->simpletransformers) (1.0.18)\n",
            "Requirement already satisfied: pygments in /usr/local/lib/python3.6/dist-packages (from ipython>=5.0.0->ipykernel>=5.1.2; python_version >= \"3.4\"->pydeck>=0.1.dev5->streamlit->simpletransformers) (2.6.1)\n",
            "Requirement already satisfied: notebook>=4.4.1 in /usr/local/lib/python3.6/dist-packages (from widgetsnbextension~=3.5.0->ipywidgets>=7.0.0->pydeck>=0.1.dev5->streamlit->simpletransformers) (5.3.1)\n",
            "Requirement already satisfied: ptyprocess>=0.5 in /usr/local/lib/python3.6/dist-packages (from pexpect; sys_platform != \"win32\"->ipython>=5.0.0->ipykernel>=5.1.2; python_version >= \"3.4\"->pydeck>=0.1.dev5->streamlit->simpletransformers) (0.6.0)\n",
            "Requirement already satisfied: wcwidth in /usr/local/lib/python3.6/dist-packages (from prompt-toolkit<2.0.0,>=1.0.4->ipython>=5.0.0->ipykernel>=5.1.2; python_version >= \"3.4\"->pydeck>=0.1.dev5->streamlit->simpletransformers) (0.2.5)\n",
            "Requirement already satisfied: Send2Trash in /usr/local/lib/python3.6/dist-packages (from notebook>=4.4.1->widgetsnbextension~=3.5.0->ipywidgets>=7.0.0->pydeck>=0.1.dev5->streamlit->simpletransformers) (1.5.0)\n",
            "Requirement already satisfied: nbconvert in /usr/local/lib/python3.6/dist-packages (from notebook>=4.4.1->widgetsnbextension~=3.5.0->ipywidgets>=7.0.0->pydeck>=0.1.dev5->streamlit->simpletransformers) (5.6.1)\n",
            "Requirement already satisfied: terminado>=0.8.1 in /usr/local/lib/python3.6/dist-packages (from notebook>=4.4.1->widgetsnbextension~=3.5.0->ipywidgets>=7.0.0->pydeck>=0.1.dev5->streamlit->simpletransformers) (0.9.1)\n",
            "Requirement already satisfied: mistune<2,>=0.8.1 in /usr/local/lib/python3.6/dist-packages (from nbconvert->notebook>=4.4.1->widgetsnbextension~=3.5.0->ipywidgets>=7.0.0->pydeck>=0.1.dev5->streamlit->simpletransformers) (0.8.4)\n",
            "Requirement already satisfied: pandocfilters>=1.4.1 in /usr/local/lib/python3.6/dist-packages (from nbconvert->notebook>=4.4.1->widgetsnbextension~=3.5.0->ipywidgets>=7.0.0->pydeck>=0.1.dev5->streamlit->simpletransformers) (1.4.3)\n",
            "Requirement already satisfied: testpath in /usr/local/lib/python3.6/dist-packages (from nbconvert->notebook>=4.4.1->widgetsnbextension~=3.5.0->ipywidgets>=7.0.0->pydeck>=0.1.dev5->streamlit->simpletransformers) (0.4.4)\n",
            "Requirement already satisfied: defusedxml in /usr/local/lib/python3.6/dist-packages (from nbconvert->notebook>=4.4.1->widgetsnbextension~=3.5.0->ipywidgets>=7.0.0->pydeck>=0.1.dev5->streamlit->simpletransformers) (0.6.0)\n",
            "Requirement already satisfied: bleach in /usr/local/lib/python3.6/dist-packages (from nbconvert->notebook>=4.4.1->widgetsnbextension~=3.5.0->ipywidgets>=7.0.0->pydeck>=0.1.dev5->streamlit->simpletransformers) (3.2.1)\n",
            "Requirement already satisfied: webencodings in /usr/local/lib/python3.6/dist-packages (from bleach->nbconvert->notebook>=4.4.1->widgetsnbextension~=3.5.0->ipywidgets>=7.0.0->pydeck>=0.1.dev5->streamlit->simpletransformers) (0.5.1)\n",
            "Building wheels for collected packages: seqeval, watchdog, blinker, sacremoses, subprocess32\n",
            "  Building wheel for seqeval (setup.py) ... \u001b[?25l\u001b[?25hdone\n",
            "  Created wheel for seqeval: filename=seqeval-1.2.2-cp36-none-any.whl size=16171 sha256=3327790022e2a8dcf58d86d15b3f49e7e768e6cf40df9e01469f5951878e2728\n",
            "  Stored in directory: /root/.cache/pip/wheels/52/df/1b/45d75646c37428f7e626214704a0e35bd3cfc32eda37e59e5f\n",
            "  Building wheel for watchdog (setup.py) ... \u001b[?25l\u001b[?25hdone\n",
            "  Created wheel for watchdog: filename=watchdog-1.0.1-cp36-none-any.whl size=72206 sha256=c9dd9b0b004b9271da0e5d3fe330ed92b53779d1f340e9e4e70498afcba0e5d1\n",
            "  Stored in directory: /root/.cache/pip/wheels/d8/ce/d8/31a48288b5728794feda5ac479fa324cc1cde4398c29eff064\n",
            "  Building wheel for blinker (setup.py) ... \u001b[?25l\u001b[?25hdone\n",
            "  Created wheel for blinker: filename=blinker-1.4-cp36-none-any.whl size=13450 sha256=7f22bfc9cfcb2c8a3e204d7d2c7a89a38c0763ddb11d2ff7439551a984075988\n",
            "  Stored in directory: /root/.cache/pip/wheels/92/a0/00/8690a57883956a301d91cf4ec999cc0b258b01e3f548f86e89\n",
            "  Building wheel for sacremoses (setup.py) ... \u001b[?25l\u001b[?25hdone\n",
            "  Created wheel for sacremoses: filename=sacremoses-0.0.43-cp36-none-any.whl size=893261 sha256=f96c8cfd5301ef1352cc82d2c437dd152c0bac630bb83c87ccc438f8528ebe83\n",
            "  Stored in directory: /root/.cache/pip/wheels/29/3c/fd/7ce5c3f0666dab31a50123635e6fb5e19ceb42ce38d4e58f45\n",
            "  Building wheel for subprocess32 (setup.py) ... \u001b[?25l\u001b[?25hdone\n",
            "  Created wheel for subprocess32: filename=subprocess32-3.5.4-cp36-none-any.whl size=6489 sha256=a3383e9ff2004e3f11d3cf8ef443766660e50b3c7a8c56119fde45627e4dec5c\n",
            "  Stored in directory: /root/.cache/pip/wheels/68/39/1a/5e402bdfdf004af1786c8b853fd92f8c4a04f22aad179654d1\n",
            "Successfully built seqeval watchdog blinker sacremoses subprocess32\n",
            "\u001b[31mERROR: google-colab 1.0.0 has requirement ipykernel~=4.10, but you'll have ipykernel 5.3.4 which is incompatible.\u001b[0m\n",
            "Installing collected packages: base58, ipykernel, pydeck, watchdog, smmap, gitdb, gitpython, blinker, validators, streamlit, tensorboardx, tqdm, sacremoses, tokenizers, transformers, sentencepiece, seqeval, configparser, subprocess32, shortuuid, sentry-sdk, docker-pycreds, wandb, simpletransformers\n",
            "  Found existing installation: ipykernel 4.10.1\n",
            "    Uninstalling ipykernel-4.10.1:\n",
            "      Successfully uninstalled ipykernel-4.10.1\n",
            "  Found existing installation: tqdm 4.41.1\n",
            "    Uninstalling tqdm-4.41.1:\n",
            "      Successfully uninstalled tqdm-4.41.1\n",
            "Successfully installed base58-2.0.1 blinker-1.4 configparser-5.0.1 docker-pycreds-0.4.0 gitdb-4.0.5 gitpython-3.1.11 ipykernel-5.3.4 pydeck-0.5.0 sacremoses-0.0.43 sentencepiece-0.1.94 sentry-sdk-0.19.5 seqeval-1.2.2 shortuuid-1.0.1 simpletransformers-0.51.3 smmap-3.0.4 streamlit-0.72.0 subprocess32-3.5.4 tensorboardx-2.1 tokenizers-0.9.4 tqdm-4.54.1 transformers-4.0.1 validators-0.18.1 wandb-0.10.12 watchdog-1.0.1\n"
          ],
          "name": "stdout"
        },
        {
          "output_type": "display_data",
          "data": {
            "application/vnd.colab-display-data+json": {
              "pip_warning": {
                "packages": [
                  "ipykernel"
                ]
              }
            }
          },
          "metadata": {
            "tags": []
          }
        }
      ]
    },
    {
      "cell_type": "markdown",
      "metadata": {
        "id": "WchElMLg_gO0"
      },
      "source": [
        "### Load libraries"
      ]
    },
    {
      "cell_type": "code",
      "metadata": {
        "id": "Hqx-PQNLLlrO"
      },
      "source": [
        "from simpletransformers.classification import ClassificationModel,ClassificationArgs\n",
        "import pandas as pd\n",
        "import numpy as np\n",
        "import logging\n",
        "import json\n",
        "import sklearn\n",
        "from statistics import mean, mode\n",
        "import os\n",
        "#import json\n",
        "import jsonlines\n",
        "from sklearn.feature_extraction.text import TfidfVectorizer\n",
        "from sklearn.metrics import precision_recall_fscore_support\n"
      ],
      "execution_count": null,
      "outputs": []
    },
    {
      "cell_type": "markdown",
      "metadata": {
        "id": "QiR0z1DN_H6k"
      },
      "source": [
        "## Load and prepare the data"
      ]
    },
    {
      "cell_type": "code",
      "metadata": {
        "colab": {
          "base_uri": "https://localhost:8080/"
        },
        "id": "nWyxg_C13ACZ",
        "outputId": "cfb8276b-c5aa-49a0-dcc7-67bc33be47b4"
      },
      "source": [
        "test_file = '/content/gdrive/MyDrive/TxtClassComp_MattzeePrivate/data/test.jsonl'\n",
        "train_file = '/content/gdrive/MyDrive/TxtClassComp_MattzeePrivate/data/train.jsonl'\n",
        "\n",
        "data_train = []\n",
        "iter = 1\n",
        "with jsonlines.open(train_file) as f:\n",
        "    for line in f.iter():\n",
        "        #data = json.load(line)\n",
        "        #print(line) # or whatever else you'd like to do\n",
        "        #print('processing training line: ' + str(iter))\n",
        "        iter +=1\n",
        "        data_train.append(line)\n",
        "        #data = json.loads(line)\n",
        "        #print(data)\n",
        "\n",
        "\n",
        "data_test = []\n",
        "iter = 1\n",
        "with jsonlines.open(test_file) as f:\n",
        "    for line in f.iter():\n",
        "        #data = json.load(line)\n",
        "        #print(line) # or whatever else you'd like to do\n",
        "        #print('processing test line: ' + str(iter))\n",
        "        iter +=1\n",
        "        data_test.append(line)\n",
        "        #data = json.loads(line)\n",
        "        #print(data)\n",
        "print(\"Count of training data entries:\")\n",
        "print(len(data_train))\n",
        "print(\"Count of test data entries:\")\n",
        "print(len(data_test))"
      ],
      "execution_count": null,
      "outputs": [
        {
          "output_type": "stream",
          "text": [
            "Count of training data entries:\n",
            "5000\n",
            "Count of test data entries:\n",
            "1800\n"
          ],
          "name": "stdout"
        }
      ]
    },
    {
      "cell_type": "code",
      "metadata": {
        "colab": {
          "base_uri": "https://localhost:8080/"
        },
        "id": "XgeHx1ud3AFB",
        "outputId": "2ffa5437-5fff-49fc-ccef-bd64095d8f5f"
      },
      "source": [
        "train_data_pd = pd.DataFrame.from_dict(data_train)\n",
        "test_data_pd = pd.DataFrame.from_dict(data_test)\n",
        "print(\"Training and Test Datasets converted to Pandas DataFrames...\")"
      ],
      "execution_count": null,
      "outputs": [
        {
          "output_type": "stream",
          "text": [
            "Training and Test Datasets converted to Pandas DataFrames...\n"
          ],
          "name": "stdout"
        }
      ]
    },
    {
      "cell_type": "code",
      "metadata": {
        "colab": {
          "base_uri": "https://localhost:8080/"
        },
        "id": "hlF1ZxB73AHd",
        "outputId": "24c1e97e-5c9e-4e31-e24a-e909f51c2eab"
      },
      "source": [
        "#!pip install nltk\n",
        "import nltk\n",
        "nltk.download('stopwords')\n",
        "nltk.download('punkt')\n",
        "from nltk.corpus import stopwords\n",
        "from nltk.tokenize import word_tokenize, SpaceTokenizer\n",
        "from nltk.stem import PorterStemmer\n",
        "\n",
        "#print(stopwords.words('english'))\n",
        "\n",
        "#for j in stopwords.words('english'):\n",
        "#    print(j)\n",
        "\n",
        "#print(stopwords.words())\n",
        "\n",
        "\n"
      ],
      "execution_count": null,
      "outputs": [
        {
          "output_type": "stream",
          "text": [
            "[nltk_data] Downloading package stopwords to /root/nltk_data...\n",
            "[nltk_data]   Unzipping corpora/stopwords.zip.\n",
            "[nltk_data] Downloading package punkt to /root/nltk_data...\n",
            "[nltk_data]   Unzipping tokenizers/punkt.zip.\n"
          ],
          "name": "stdout"
        }
      ]
    },
    {
      "cell_type": "code",
      "metadata": {
        "colab": {
          "base_uri": "https://localhost:8080/"
        },
        "id": "Byvf0CZu3AKI",
        "outputId": "c0da5789-9cfe-4463-d357-d422d002d3e8"
      },
      "source": [
        "\n",
        "#print(train_data_pd['context'][1])\n",
        "#print(train_data_pd['response'][1])\n",
        "#print(train_data_pd['context'][1][0]+train_data_pd['context'][1][1])\n",
        "#print(len(train_data_pd['context'][3040]))\n",
        "\n",
        "#test = train_data_pd['context'][10][0] + train_data_pd['context'][10][1] +train_data_pd['response'][10]\n",
        "#print(test)\n",
        "#test2 = train_data_pd['context'][:][0] + train_data_pd['context'][:][1] +train_data_pd['response']\n",
        "all_stopwords = stopwords.words('english')\n",
        "tk = SpaceTokenizer() \n",
        "ps = PorterStemmer()\n",
        "\n",
        "for i in range(len(train_data_pd)):\n",
        "    #train_data_pd['response'][i]=train_data_pd['response'][i]+train_data_pd['context'][i][0] + train_data_pd['context'][i][1]\n",
        "    train_data_pd['response'][i]=train_data_pd['response'][i]+train_data_pd['context'][i][1]\n",
        "    train_data_pd['response'][i]=train_data_pd['response'][i].replace('@USER', '').strip().lower()    \n",
        "    text_tokens = tk.tokenize(train_data_pd['response'][i])\n",
        "    tokens_without_sw = [word for word in text_tokens if not word in all_stopwords]\n",
        "    test4=\"\"\n",
        "    for i in tokens_without_sw:\n",
        "        test4 = test4 + \" \"+ps.stem(i)\n",
        "    test4.strip()\n",
        "    train_data_pd['response'][i]=test4\n",
        " \n",
        "    \n",
        "\n",
        "\n",
        "for i in range(len(test_data_pd)):\n",
        "    #test_data_pd['response'][i]=test_data_pd['response'][i]+test_data_pd['context'][i][0] + test_data_pd['context'][i][1]\n",
        "    test_data_pd['response'][i]=test_data_pd['response'][i]+test_data_pd['context'][i][1]\n",
        "    test_data_pd['response'][i]=test_data_pd['response'][i].replace('@USER', '').strip().lower()\n",
        "\n",
        "    text_tokens = tk.tokenize(test_data_pd['response'][i])\n",
        "    tokens_without_sw = [word for word in text_tokens if not word in all_stopwords]\n",
        "    test4=\"\"\n",
        "    for i in tokens_without_sw:\n",
        "        test4 = test4 + \" \"+ps.stem(i)\n",
        "    test4.strip()\n",
        "    test_data_pd['response'][i]=test4\n",
        "    \n",
        "    \n",
        "    \n",
        "#print(train_data_pd['response'][1])\n",
        "#print(len(train_data_pd['response'][1]))\n",
        "print(\"Converted response PD data to include Context Data\")\n",
        "print(\"Converted response to lowercase and removed stop words as well as @USER\")\n",
        "print(\"Converted response to stem words using PortStemmer\")\n"
      ],
      "execution_count": null,
      "outputs": [
        {
          "output_type": "stream",
          "text": [
            "Converted response PD data to include Context Data\n",
            "Converted response to lowercase and removed stop words as well as @USER\n",
            "Converted response to stem words using PortStemmer\n"
          ],
          "name": "stdout"
        }
      ]
    },
    {
      "cell_type": "code",
      "metadata": {
        "colab": {
          "base_uri": "https://localhost:8080/"
        },
        "id": "8f1_wTSQ3AMY",
        "outputId": "184b119f-8dd3-473e-9a7d-1334d87d68ac"
      },
      "source": [
        "print(test_data_pd['response'][10])"
      ],
      "execution_count": null,
      "outputs": [
        {
          "output_type": "stream",
          "text": [
            "define this way : 1 . desiring the good of the other ; wanting them to thrive / flourish , which means they'd get free from the attitudes you mention ; 2 . doing whatever's in your control / power to advance their good ; at least * not * wishing them ill , * not * hating them .  ok , you ’ re right , but how do you love someone who hates you , and wants you to not exist ? how do you love someone doesn ’ t share basic morals ?\n"
          ],
          "name": "stdout"
        }
      ]
    },
    {
      "cell_type": "code",
      "metadata": {
        "colab": {
          "base_uri": "https://localhost:8080/",
          "height": 89
        },
        "id": "L_I5cYO33AOb",
        "outputId": "6a9a8719-5f2e-486c-83b0-7f088cba63d0"
      },
      "source": [
        "test=train_data_pd['response'][0]+train_data_pd['context'][0][0] + train_data_pd['context'][0][1]\n",
        "#print(test)\n",
        "test2 = test.replace('@USER', '').strip().lower()\n",
        "print(test2)\n",
        "test3 = test2\n",
        "\n",
        "all_stopwords = stopwords.words('english')\n",
        "#text_tokens = word_tokenize(test3)\n",
        "tk = SpaceTokenizer() \n",
        "\n",
        "text_tokens = tk.tokenize(test3)\n",
        "tokens_without_sw = [word for word in text_tokens if not word in all_stopwords]\n",
        "test4=\"\"\n",
        "for i in tokens_without_sw:\n",
        "    test4 = test4 + \" \"+i\n",
        "test4.strip()\n",
        "\n",
        "\n",
        "\n",
        "#for j in stopwords.words('english'):\n",
        "#    print(j)\n",
        "#    test3=test3.replace(j, '')\n",
        "#print(test3)\n"
      ],
      "execution_count": null,
      "outputs": [
        {
          "output_type": "stream",
          "text": [
            "i don't get this .. obviously you do care or you would've moved right along .. instead you decided to care and troll her .. if your child isn't named barron ... #bebest melania couldn't care less . fact . 💯a minor child deserves privacy and should be kept out of politics . pamela karlan , you should be ashamed of your very angry and obviously biased public pandering , and using a child to do it . if your child isn't named barron ... #bebest melania couldn't care less . fact . 💯\n"
          ],
          "name": "stdout"
        },
        {
          "output_type": "execute_result",
          "data": {
            "application/vnd.google.colaboratory.intrinsic+json": {
              "type": "string"
            },
            "text/plain": [
              "\"get .. obviously care would've moved right along .. instead decided care troll .. child named barron ... #bebest melania care less . fact . 💯a minor child deserves privacy kept politics . pamela karlan , ashamed angry obviously biased public pandering , using child . child named barron ... #bebest melania care less . fact . 💯\""
            ]
          },
          "metadata": {
            "tags": []
          },
          "execution_count": 13
        }
      ]
    },
    {
      "cell_type": "code",
      "metadata": {
        "id": "bdyh8YZT3AQq"
      },
      "source": [
        "#Define the vector of actual results:\n",
        "Actual_Results = []    \n",
        "for  l in data_train:\n",
        "    if l['label'] == 'SARCASM':\n",
        "        Actual_Results.append(1)\n",
        "    else:\n",
        "        Actual_Results.append(0)"
      ],
      "execution_count": null,
      "outputs": []
    },
    {
      "cell_type": "code",
      "metadata": {
        "id": "9SlrY9oC3e4l"
      },
      "source": [
        "## Import the various SKLearn ML models for testing:\n",
        "\n",
        "from sklearn.model_selection import train_test_split\n",
        "from sklearn.metrics import confusion_matrix\n",
        "from sklearn.svm import LinearSVC\n",
        "from sklearn.model_selection import cross_val_score\n",
        "from sklearn.naive_bayes import GaussianNB\n",
        "from sklearn.linear_model import LogisticRegression\n",
        "from sklearn.ensemble import RandomForestClassifier "
      ],
      "execution_count": null,
      "outputs": []
    },
    {
      "cell_type": "code",
      "metadata": {
        "colab": {
          "base_uri": "https://localhost:8080/"
        },
        "id": "eQuu90iO3e61",
        "outputId": "d654d502-0547-4ac5-b950-10f16156f44b"
      },
      "source": [
        "# getting training dataset features and labels\n",
        "features = train_data_pd['response']\n",
        "labels = train_data_pd['label']\n",
        "labels = Actual_Results\n"
      ],
      "execution_count": null,
      "outputs": [
        {
          "output_type": "stream",
          "text": [
            "data processing...\n"
          ],
          "name": "stdout"
        }
      ]
    },
    {
      "cell_type": "code",
      "metadata": {
        "colab": {
          "base_uri": "https://localhost:8080/"
        },
        "id": "YQxf3DQN3nEz",
        "outputId": "a5377826-a237-4ffa-e563-ef9b01c9ec87"
      },
      "source": [
        "\n",
        "# Splitting of training data into train and test data\n",
        "rawdata_train, rawdata_test, rawlabels_train, rawlabels_test = train_test_split(features, labels, test_size = .1, random_state = 0)\n",
        "\n",
        "print(\"Training dataset split into this many train samples:\")\n",
        "print(len(rawdata_train))\n",
        "print(\"Training dataset split into this many evvalidation samples:\")\n",
        "print(len(rawdata_test))\n",
        "\n",
        "\n",
        "\n"
      ],
      "execution_count": null,
      "outputs": [
        {
          "output_type": "stream",
          "text": [
            "Training dataset split into this many train samples:\n",
            "4500\n",
            "Training dataset split into this many test/validation samples:\n",
            "# of features:\n",
            "Final test dataset is this many samples:\n",
            "# of features:\n"
          ],
          "name": "stdout"
        }
      ]
    },
    {
      "cell_type": "code",
      "metadata": {
        "id": "llLa4TcQ3nHU"
      },
      "source": [
        "train_df = pd.DataFrame({\n",
        "    'text': rawdata_train.str.replace('@USER', '', regex=False).str.strip(),\n",
        "    'labels': rawlabels_train\n",
        "})\n",
        "#rawdata_train, rawdata_test, rawlabels_train, rawlabels_test"
      ],
      "execution_count": null,
      "outputs": []
    },
    {
      "cell_type": "code",
      "metadata": {
        "id": "8sGgVuLc3nKK"
      },
      "source": [
        "eval_df = pd.DataFrame({\n",
        "    'text': rawdata_test.str.replace('@USER', '', regex=False).str.strip(),\n",
        "    'labels': rawlabels_test\n",
        "})"
      ],
      "execution_count": null,
      "outputs": []
    },
    {
      "cell_type": "code",
      "metadata": {
        "colab": {
          "base_uri": "https://localhost:8080/",
          "height": 417
        },
        "id": "wm1VJCI64MUS",
        "outputId": "7ff82d43-fdf7-4bf6-c008-e937e851ca7e"
      },
      "source": [
        "train_df"
      ],
      "execution_count": null,
      "outputs": [
        {
          "output_type": "execute_result",
          "data": {
            "text/html": [
              "<div>\n",
              "<style scoped>\n",
              "    .dataframe tbody tr th:only-of-type {\n",
              "        vertical-align: middle;\n",
              "    }\n",
              "\n",
              "    .dataframe tbody tr th {\n",
              "        vertical-align: top;\n",
              "    }\n",
              "\n",
              "    .dataframe thead th {\n",
              "        text-align: right;\n",
              "    }\n",
              "</style>\n",
              "<table border=\"1\" class=\"dataframe\">\n",
              "  <thead>\n",
              "    <tr style=\"text-align: right;\">\n",
              "      <th></th>\n",
              "      <th>text</th>\n",
              "      <th>labels</th>\n",
              "    </tr>\n",
              "  </thead>\n",
              "  <tbody>\n",
              "    <tr>\n",
              "      <th>3871</th>\n",
              "      <td>is the gig sold out ? no i'm not ... sorry . m...</td>\n",
              "      <td>0</td>\n",
              "    </tr>\n",
              "    <tr>\n",
              "      <th>4299</th>\n",
              "      <td>you will wait for the next hour - losing patie...</td>\n",
              "      <td>0</td>\n",
              "    </tr>\n",
              "    <tr>\n",
              "      <th>4719</th>\n",
              "      <td>that ’ s how clueless you are . the secdef was...</td>\n",
              "      <td>0</td>\n",
              "    </tr>\n",
              "    <tr>\n",
              "      <th>3195</th>\n",
              "      <td>i saw a demo . great job for taking the extra ...</td>\n",
              "      <td>0</td>\n",
              "    </tr>\n",
              "    <tr>\n",
              "      <th>1922</th>\n",
              "      <td>yes , despite having lived in lincoln for many...</td>\n",
              "      <td>1</td>\n",
              "    </tr>\n",
              "    <tr>\n",
              "      <th>...</th>\n",
              "      <td>...</td>\n",
              "      <td>...</td>\n",
              "    </tr>\n",
              "    <tr>\n",
              "      <th>4931</th>\n",
              "      <td>you are condescendingly disrespectful and all ...</td>\n",
              "      <td>0</td>\n",
              "    </tr>\n",
              "    <tr>\n",
              "      <th>3264</th>\n",
              "      <td>y'all need to be able to see my likes , so you...</td>\n",
              "      <td>0</td>\n",
              "    </tr>\n",
              "    <tr>\n",
              "      <th>1653</th>\n",
              "      <td>yep ! i've been asked ' will they add reviews ...</td>\n",
              "      <td>1</td>\n",
              "    </tr>\n",
              "    <tr>\n",
              "      <th>2607</th>\n",
              "      <td>my phone is a nokia 8 so it may be an upgrade ...</td>\n",
              "      <td>0</td>\n",
              "    </tr>\n",
              "    <tr>\n",
              "      <th>2732</th>\n",
              "      <td>dems have been like that all my l iife . it's ...</td>\n",
              "      <td>0</td>\n",
              "    </tr>\n",
              "  </tbody>\n",
              "</table>\n",
              "<p>4500 rows × 2 columns</p>\n",
              "</div>"
            ],
            "text/plain": [
              "                                                   text  labels\n",
              "3871  is the gig sold out ? no i'm not ... sorry . m...       0\n",
              "4299  you will wait for the next hour - losing patie...       0\n",
              "4719  that ’ s how clueless you are . the secdef was...       0\n",
              "3195  i saw a demo . great job for taking the extra ...       0\n",
              "1922  yes , despite having lived in lincoln for many...       1\n",
              "...                                                 ...     ...\n",
              "4931  you are condescendingly disrespectful and all ...       0\n",
              "3264  y'all need to be able to see my likes , so you...       0\n",
              "1653  yep ! i've been asked ' will they add reviews ...       1\n",
              "2607  my phone is a nokia 8 so it may be an upgrade ...       0\n",
              "2732  dems have been like that all my l iife . it's ...       0\n",
              "\n",
              "[4500 rows x 2 columns]"
            ]
          },
          "metadata": {
            "tags": []
          },
          "execution_count": 20
        }
      ]
    },
    {
      "cell_type": "code",
      "metadata": {
        "colab": {
          "base_uri": "https://localhost:8080/",
          "height": 417
        },
        "id": "n6804PF24gnb",
        "outputId": "b5f824ac-408b-4caa-d622-1817d859c342"
      },
      "source": [
        "eval_df"
      ],
      "execution_count": null,
      "outputs": [
        {
          "output_type": "execute_result",
          "data": {
            "text/html": [
              "<div>\n",
              "<style scoped>\n",
              "    .dataframe tbody tr th:only-of-type {\n",
              "        vertical-align: middle;\n",
              "    }\n",
              "\n",
              "    .dataframe tbody tr th {\n",
              "        vertical-align: top;\n",
              "    }\n",
              "\n",
              "    .dataframe thead th {\n",
              "        text-align: right;\n",
              "    }\n",
              "</style>\n",
              "<table border=\"1\" class=\"dataframe\">\n",
              "  <thead>\n",
              "    <tr style=\"text-align: right;\">\n",
              "      <th></th>\n",
              "      <th>text</th>\n",
              "      <th>labels</th>\n",
              "    </tr>\n",
              "  </thead>\n",
              "  <tbody>\n",
              "    <tr>\n",
              "      <th>398</th>\n",
              "      <td>countered with #climatechange activists stuck ...</td>\n",
              "      <td>1</td>\n",
              "    </tr>\n",
              "    <tr>\n",
              "      <th>3833</th>\n",
              "      <td>when we share love , we get love too . our vib...</td>\n",
              "      <td>0</td>\n",
              "    </tr>\n",
              "    <tr>\n",
              "      <th>4836</th>\n",
              "      <td>give me nothing . just saying no one really kn...</td>\n",
              "      <td>0</td>\n",
              "    </tr>\n",
              "    <tr>\n",
              "      <th>4572</th>\n",
              "      <td>🍗 sinning happens nearly everywhere . as a res...</td>\n",
              "      <td>0</td>\n",
              "    </tr>\n",
              "    <tr>\n",
              "      <th>636</th>\n",
              "      <td>i was going for the . pv method gives mmp the ...</td>\n",
              "      <td>1</td>\n",
              "    </tr>\n",
              "    <tr>\n",
              "      <th>...</th>\n",
              "      <td>...</td>\n",
              "      <td>...</td>\n",
              "    </tr>\n",
              "    <tr>\n",
              "      <th>1928</th>\n",
              "      <td>here are my two favorite quotes that reflect c...</td>\n",
              "      <td>1</td>\n",
              "    </tr>\n",
              "    <tr>\n",
              "      <th>4366</th>\n",
              "      <td>very idea ! please call my #office ( the # 1 #...</td>\n",
              "      <td>0</td>\n",
              "    </tr>\n",
              "    <tr>\n",
              "      <th>3550</th>\n",
              "      <td>you are very welcomed , lamar aĝa and shardall...</td>\n",
              "      <td>0</td>\n",
              "    </tr>\n",
              "    <tr>\n",
              "      <th>2189</th>\n",
              "      <td>so says someone who is follower of a religion ...</td>\n",
              "      <td>1</td>\n",
              "    </tr>\n",
              "    <tr>\n",
              "      <th>3480</th>\n",
              "      <td>i ’ m liking this tweet . does that help ?than...</td>\n",
              "      <td>0</td>\n",
              "    </tr>\n",
              "  </tbody>\n",
              "</table>\n",
              "<p>500 rows × 2 columns</p>\n",
              "</div>"
            ],
            "text/plain": [
              "                                                   text  labels\n",
              "398   countered with #climatechange activists stuck ...       1\n",
              "3833  when we share love , we get love too . our vib...       0\n",
              "4836  give me nothing . just saying no one really kn...       0\n",
              "4572  🍗 sinning happens nearly everywhere . as a res...       0\n",
              "636   i was going for the . pv method gives mmp the ...       1\n",
              "...                                                 ...     ...\n",
              "1928  here are my two favorite quotes that reflect c...       1\n",
              "4366  very idea ! please call my #office ( the # 1 #...       0\n",
              "3550  you are very welcomed , lamar aĝa and shardall...       0\n",
              "2189  so says someone who is follower of a religion ...       1\n",
              "3480  i ’ m liking this tweet . does that help ?than...       0\n",
              "\n",
              "[500 rows x 2 columns]"
            ]
          },
          "metadata": {
            "tags": []
          },
          "execution_count": 21
        }
      ]
    },
    {
      "cell_type": "markdown",
      "metadata": {
        "id": "9Y2G6cb4OQm7"
      },
      "source": [
        "# Hyperparameter Tuning\r\n",
        "\r\n",
        "Install necessary libraries and set model and tuning parameters "
      ]
    },
    {
      "cell_type": "code",
      "metadata": {
        "colab": {
          "base_uri": "https://localhost:8080/"
        },
        "id": "G2gx_X2KOVAO",
        "outputId": "4a0a621e-ecb8-4cc7-b80b-936019a5b658"
      },
      "source": [
        "!pip install wandb"
      ],
      "execution_count": null,
      "outputs": [
        {
          "output_type": "stream",
          "text": [
            "Requirement already satisfied: wandb in /usr/local/lib/python3.6/dist-packages (0.10.12)\n",
            "Requirement already satisfied: python-dateutil>=2.6.1 in /usr/local/lib/python3.6/dist-packages (from wandb) (2.8.1)\n",
            "Requirement already satisfied: promise<3,>=2.0 in /usr/local/lib/python3.6/dist-packages (from wandb) (2.3)\n",
            "Requirement already satisfied: Click>=7.0 in /usr/local/lib/python3.6/dist-packages (from wandb) (7.1.2)\n",
            "Requirement already satisfied: subprocess32>=3.5.3 in /usr/local/lib/python3.6/dist-packages (from wandb) (3.5.4)\n",
            "Requirement already satisfied: six>=1.13.0 in /usr/local/lib/python3.6/dist-packages (from wandb) (1.15.0)\n",
            "Requirement already satisfied: configparser>=3.8.1 in /usr/local/lib/python3.6/dist-packages (from wandb) (5.0.1)\n",
            "Requirement already satisfied: sentry-sdk>=0.4.0 in /usr/local/lib/python3.6/dist-packages (from wandb) (0.19.5)\n",
            "Requirement already satisfied: watchdog>=0.8.3 in /usr/local/lib/python3.6/dist-packages (from wandb) (1.0.1)\n",
            "Requirement already satisfied: protobuf>=3.12.0 in /usr/local/lib/python3.6/dist-packages (from wandb) (3.12.4)\n",
            "Requirement already satisfied: psutil>=5.0.0 in /usr/local/lib/python3.6/dist-packages (from wandb) (5.4.8)\n",
            "Requirement already satisfied: PyYAML in /usr/local/lib/python3.6/dist-packages (from wandb) (3.13)\n",
            "Requirement already satisfied: GitPython>=1.0.0 in /usr/local/lib/python3.6/dist-packages (from wandb) (3.1.11)\n",
            "Requirement already satisfied: shortuuid>=0.5.0 in /usr/local/lib/python3.6/dist-packages (from wandb) (1.0.1)\n",
            "Requirement already satisfied: requests<3,>=2.0.0 in /usr/local/lib/python3.6/dist-packages (from wandb) (2.23.0)\n",
            "Requirement already satisfied: docker-pycreds>=0.4.0 in /usr/local/lib/python3.6/dist-packages (from wandb) (0.4.0)\n",
            "Requirement already satisfied: certifi in /usr/local/lib/python3.6/dist-packages (from sentry-sdk>=0.4.0->wandb) (2020.12.5)\n",
            "Requirement already satisfied: urllib3>=1.10.0 in /usr/local/lib/python3.6/dist-packages (from sentry-sdk>=0.4.0->wandb) (1.24.3)\n",
            "Requirement already satisfied: setuptools in /usr/local/lib/python3.6/dist-packages (from protobuf>=3.12.0->wandb) (50.3.2)\n",
            "Requirement already satisfied: gitdb<5,>=4.0.1 in /usr/local/lib/python3.6/dist-packages (from GitPython>=1.0.0->wandb) (4.0.5)\n",
            "Requirement already satisfied: idna<3,>=2.5 in /usr/local/lib/python3.6/dist-packages (from requests<3,>=2.0.0->wandb) (2.10)\n",
            "Requirement already satisfied: chardet<4,>=3.0.2 in /usr/local/lib/python3.6/dist-packages (from requests<3,>=2.0.0->wandb) (3.0.4)\n",
            "Requirement already satisfied: smmap<4,>=3.0.1 in /usr/local/lib/python3.6/dist-packages (from gitdb<5,>=4.0.1->GitPython>=1.0.0->wandb) (3.0.4)\n"
          ],
          "name": "stdout"
        }
      ]
    },
    {
      "cell_type": "code",
      "metadata": {
        "id": "32YG0qrKOS5f"
      },
      "source": [
        "import wandb\n",
        "import logging\n",
        "from sklearn.metrics import accuracy_score, f1_score"
      ],
      "execution_count": null,
      "outputs": []
    },
    {
      "cell_type": "code",
      "metadata": {
        "id": "FquGdY3ROb88"
      },
      "source": [
        "sweep_config = {\n",
        "    \"name\": \"vanilla-sweep-batch-16\",\n",
        "    \"method\": \"bayes\",\n",
        "    \"metric\": {\"name\": \"acc\", \"goal\": \"maximize\"},\n",
        "    \"parameters\": {\n",
        "        \"num_train_epochs\": {\"min\": 1, \"max\": 40},\n",
        "        \"learning_rate\": {\"min\": 0, \"max\": 4e-4},\n",
        "    },\n",
        "    \"early_terminate\": {\"type\": \"hyperband\", \"min_iter\": 6,},\n",
        "}\n",
        "\n",
        "projectname=\"TwitterSarcasmComp - Hyperparameter Optimization2\""
      ],
      "execution_count": null,
      "outputs": []
    },
    {
      "cell_type": "code",
      "metadata": {
        "colab": {
          "base_uri": "https://localhost:8080/",
          "height": 86
        },
        "id": "5hc_F3QfOdMa",
        "outputId": "a45e0c3b-24b4-4c1b-847d-90fb97cfa78c"
      },
      "source": [
        "sweep_id = wandb.sweep(sweep_config, project=projectname)\n",
        "\n",
        "logging.basicConfig(level=logging.INFO)\n",
        "transformers_logger = logging.getLogger(\"transformers\")\n",
        "transformers_logger.setLevel(logging.WARNING)"
      ],
      "execution_count": null,
      "outputs": [
        {
          "output_type": "display_data",
          "data": {
            "application/javascript": [
              "\n",
              "        window._wandbApiKey = new Promise((resolve, reject) => {\n",
              "            function loadScript(url) {\n",
              "            return new Promise(function(resolve, reject) {\n",
              "                let newScript = document.createElement(\"script\");\n",
              "                newScript.onerror = reject;\n",
              "                newScript.onload = resolve;\n",
              "                document.body.appendChild(newScript);\n",
              "                newScript.src = url;\n",
              "            });\n",
              "            }\n",
              "            loadScript(\"https://cdn.jsdelivr.net/npm/postmate/build/postmate.min.js\").then(() => {\n",
              "            const iframe = document.createElement('iframe')\n",
              "            iframe.style.cssText = \"width:0;height:0;border:none\"\n",
              "            document.body.appendChild(iframe)\n",
              "            const handshake = new Postmate({\n",
              "                container: iframe,\n",
              "                url: 'https://wandb.ai/authorize'\n",
              "            });\n",
              "            const timeout = setTimeout(() => reject(\"Couldn't auto authenticate\"), 5000)\n",
              "            handshake.then(function(child) {\n",
              "                child.on('authorize', data => {\n",
              "                    clearTimeout(timeout)\n",
              "                    resolve(data)\n",
              "                });\n",
              "            });\n",
              "            })\n",
              "        });\n",
              "    "
            ],
            "text/plain": [
              "<IPython.core.display.Javascript object>"
            ]
          },
          "metadata": {
            "tags": []
          }
        },
        {
          "output_type": "stream",
          "text": [
            "\u001b[34m\u001b[1mwandb\u001b[0m: Appending key for api.wandb.ai to your netrc file: /root/.netrc\n"
          ],
          "name": "stderr"
        },
        {
          "output_type": "stream",
          "text": [
            "Create sweep with ID: 88svtgvp\n",
            "Sweep URL: https://wandb.ai/mattzee/TwitterSarcasmComp%20-%20Hyperparameter%20Optimization7/sweeps/88svtgvp\n"
          ],
          "name": "stdout"
        }
      ]
    },
    {
      "cell_type": "code",
      "metadata": {
        "id": "oqkjKMqRPAz_"
      },
      "source": [
        "model_args = ClassificationArgs()\n",
        "model_args.eval_batch_size = 4\n",
        "model_args.evaluate_during_training = True\n",
        "model_args.evaluate_during_training_silent = False\n",
        "model_args.evaluate_during_training_steps = 1000\n",
        "model_args.learning_rate = 4e-4\n",
        "model_args.manual_seed = 2\n",
        "model_args.max_seq_length = 256\n",
        "model_args.multiprocessing_chunksize = 5000\n",
        "model_args.no_cache = True\n",
        "model_args.no_save = True\n",
        "model_args.num_train_epochs = 10\n",
        "model_args.overwrite_output_dir = True\n",
        "model_args.reprocess_input_data = True\n",
        "model_args.train_batch_size = 4\n",
        "model_args.gradient_accumulation_steps = 2\n",
        "model_args.use_early_stopping = True\n",
        "model_args.early_stopping_delta = 0.01\n",
        "model_args.early_stopping_metric = \"acc\"\n",
        "model_args.early_stopping_metric_minimize = False\n",
        "model_args.early_stopping_patience = 5\n",
        "model_args.train_custom_parameters_only = False\n",
        "#model_args.labels_list = [\"not_entailment\", \"entailment\"]\n",
        "#model_args.wandb_project = projectname\n"
      ],
      "execution_count": null,
      "outputs": []
    },
    {
      "cell_type": "code",
      "metadata": {
        "id": "Ck7VQ-DrOw5Q"
      },
      "source": [
        "def train():\n",
        "    # Initialize a new wandb run\n",
        "    wandb.init(config=model_args)\n",
        "\n",
        "    # Create a TransformerModel\n",
        "    model = ClassificationModel(\n",
        "        \"roberta\",\n",
        "        \"roberta-base\",\n",
        "        use_cuda=True,\n",
        "        args=model_args,\n",
        "        sweep_config=wandb.config\n",
        "    )\n",
        "\n",
        "\n",
        "    # Train the model\n",
        "    model.train_model(\n",
        "        train_df,\n",
        "        eval_df=eval_df,\n",
        "        acc=lambda truth, predictions: accuracy_score(\n",
        "            truth, [round(p) for p in predictions]\n",
        "        ),\n",
        "    )\n",
        "    \n",
        "\n",
        "    # Sync wandb\n",
        "    wandb.join()  \n",
        "\n",
        "\n",
        "\n"
      ],
      "execution_count": null,
      "outputs": []
    },
    {
      "cell_type": "markdown",
      "metadata": {
        "id": "024Bv2Ay-SEM"
      },
      "source": [
        "## Start HPT"
      ]
    },
    {
      "cell_type": "code",
      "metadata": {
        "colab": {
          "base_uri": "https://localhost:8080/",
          "referenced_widgets": [
            "c7240589ece349268aba5627298a621e",
            "1f27764972be469ca135f3db4742feca",
            "388a49c1ba5e41c4bd11074545b9693d",
            "5c3b52e9fcef4a5986a3b066d7dc2f7c",
            "0150fbaab6574d648e460f10b67e2186",
            "295cd3e5d52d4d03bf6df408f5f0e565",
            "0233031a8c7a4107afc93032905bd1cd",
            "11d25615415142e2b5a88256a482ee8f",
            "133c1e352ea8450a8c5a89d5d6d1c8be",
            "aed165f86d914ad0bed77587fe86327f",
            "1b58b1eceece49fe90b794aae48a184d",
            "a673bb86227849438409a179b5703ed5",
            "eab04e7b2c174306a1a4a7fd062aece8",
            "9dccb00ae16e4aa5bc7df2b157e53640",
            "7ebb2c79d9994005b4be2286f7933e96",
            "0143bf2fe22040b9b58eb64b26abc3b0",
            "6b92a672467743f6bda69c62da53c697",
            "a36821e2bd1f46c5a9fa287b36d19010",
            "92d760c43796405ea0d15a1d8e1e856e",
            "bbde5cb7633e4c27911dd6ee76cb0a78",
            "e5fdc30407dd4ea2abec5404c8a581d2",
            "d2ebd87983ae41ab885644bb611e6e44",
            "9678c6b02ba740b99f4a04d3eeaf5bb9",
            "b897cd4f3d1e4e07ad4c27586a6ff7a4",
            "6cbcd43e775e41e7a9a3b624eff0abdd",
            "3ce30dbbd3524df0b9319077c0eca685",
            "33b26e2e1ea44e28b702a4a82ad42614",
            "7d4ed0e6034245bbb0ed760c2cd47593",
            "92260bd496924e5caf772d6f94731141",
            "fac6276d36e84420811206fb9910e981",
            "737394f82f3641878cf8ceb946517fb0",
            "f7504809813b4c7b91d46825228b3c63",
            "18b73f53d6fe497ca8deb19050a899c4",
            "e267eb2a2c1a430ea502a63a2e476aa8",
            "93036157b6104c678baa26c7774933f9",
            "02768d4987404da49492d551b73901bf",
            "e7fea75ef1e84a799d3eda16cb9aa8cb",
            "308ffd489d454e06b7edaa20f8fde64b",
            "1ceb6645997547ccba9ef7f4eb2c3896",
            "351d3498641646f2a0a87b079558520c",
            "8e57e2eaef794ff3901c7cf219c6e577",
            "0e9e9ae1034f44e79b340ff52167aab6",
            "fed786d6dbd744298c5893e4bac46833",
            "5d0bcafdf8384676bf1df08294f56b58",
            "694805029a74450e9dd51d11ce66c905",
            "74007683d8514933ba1d7ad4c38db0ed",
            "a566193914de48b6a3cfd321eb3ad9bf",
            "d51fd458955b4e7b84065ed172e89ff0",
            "906f234cebd2418682d784b554b640f0",
            "61bee739a12945b7ae58149f5bfabdca",
            "e237f5ac6cea4f7e9c48649f5671080f",
            "5ef20b3cdd204a5998c0097190e35eba",
            "10b91d92e2b446cfacaeb8567c4bd4d6",
            "84642e6a900746498d16126f2f76b7ad",
            "dd83b01e70bc4c25b89eeb543653a6d3",
            "3df599abacbf4be9beee32d7f05bbcce",
            "f7563376371c40e7ad10b1011e149586",
            "6afafc1666ca4301b22f5dd27dfa018d",
            "c092efa956d648e1bbe10d85727ab6da",
            "76c516f271dd4b1eb719cbe7d5baee9b",
            "8ceb352737a543a999e8a82ffce86035",
            "4ba790ac48644aadbe4758de94a1a097",
            "372ae0c6f3c54d129faab9cb6fb0eed1",
            "b4778586017f436cb9867a1e17a57a0f",
            "21f38a869d0e44b58fa04c177108675d",
            "72349c1af33944e4abe96448fbcfdc0b",
            "97e08559a79342abb8bdb1a3e60ba716",
            "346fa9f5025846e299f79fb020e8fa4a",
            "f716c9f60807450ead6c2adf0fec6eb3",
            "3ce0d6e299a04c79a66584d7c3dfb1e7",
            "dc6a682f6992447e84e4a927065b29cb",
            "1379ece4c5a344a0842f4edca4395353",
            "76cde3ab029b4427bbef17ba74712301",
            "a8bdbfdcee884bde816601260d869463",
            "d539584af0ad4091850835ae30710f94",
            "3bfe560aa3d143c29d0759189f68b9be",
            "d65872f0739e4a049b0851c7119907b4",
            "1b95b39224b9450bae9c8f01a3c396fe",
            "97545eaf6cff449f9b2ca91af15bec77",
            "ac5daf5e09f743138d7e28852a36be07",
            "4b6ed9a8f13e4abdb782a8b5da77b36c",
            "26f7237102a84126a4d12534b88c8d6a",
            "67d90255f9134a4da001197bf3d5b5c9",
            "93ab075eba93407fb04f1ce99c3fa79e",
            "eda84ce27cdc48cc9ccbcfbfa57c5ea6",
            "97e39c4cbaea4ce9aab8d3396d714169",
            "3e59a534e2e046e09aa13ab1ac55a1cd",
            "04d8ef75a7594d489e7613d8b7a28270",
            "0b390cfe22364bb2a525b92484775765",
            "ae5d2efb1aaf43128653c0700ab55b58",
            "6e1a61e282e547229e229dd18b419984",
            "0ff30c4b2c3646b88f98f9926733f8b8",
            "5e2ef5008a9041e490ba46127c22ac6c",
            "42830337480f42c19e5109b4fbfd273f",
            "11676b36506c4d808c6516c3abd12789",
            "c531bacea7f2447a8bad4af0bbfa8e7e",
            "ced78534985749efa739a4d0f86baa0c",
            "33393c0714124c2d9629e867d98db40a",
            "fbc004088c8e43d7afdf61f0742c4dbd",
            "a21204cecf1542e581e5a1c0d46c4b42",
            "d3ab93e67e9f45cba7da44edc78b7b77",
            "a73eec08f8604a4fb3a0d8d3b792c5ad",
            "d38815fbfe3f4924bef6919cdff224e7",
            "4e4719fcec2e4de3bb5cdefe642e6063",
            "b6cf173ae9514d139ede9f5aa55f631c",
            "a2d2df2fe9874ba998b5d27fa0ec5bfc",
            "4a334d3c230e44cda60eec362a142128",
            "16d7b86b75254aa68647f60ce9d5a4d5",
            "c18b88657cd841a9aea76ec6f420d31d",
            "83c0953e5f39423d953da3cd83ed431d",
            "3fe90b56973843c4b48c7c353a36651b",
            "9b554010695943cb9d85a4eeeb3d8145",
            "3184596b2cde47a7a498491ec7b722f3",
            "cb217041e4d143e9b9bd1e1d6c8f5b1c",
            "2e0fc539c58e45978d7b9c5b84736b9d",
            "ff0e8a21272f401b9a25ce2fbe8d46a3",
            "defd5ec5939344e5bc1383d1183c38e5",
            "452d20cf1206444c90533cbf58e1587d",
            "dcd76005ebf64fee9f90e26b58e85532",
            "cdf65716c80e413b9de269c222cc0c63",
            "aeea4d770b584245900486c067e5ec2c",
            "ccdf29d596d241008351cbd3152b5ede",
            "9f9c9e47d85541658bb938822c64a30c",
            "263ab633469d44329a1bed086627b608",
            "af6c245d965446c584b54d8f78bb7cc1",
            "d2f03b8bfce74949a3cb5ab5d4091c51",
            "977ae7cacc7440eab6a2cb0a7ed6442c",
            "d8ccaf6cac8d40efa7c3e71e44082344",
            "fbe210a5bb5f4b14a0d20d9b5cb737dd",
            "1fc7703b63ce42b3b8b8e06f5051b006",
            "cca6a823f7d4428c9773a93bdb1ec50c",
            "8221a0c56db0461298969d75e03361b8",
            "2a34bbe6c84744308c207e81883efa67",
            "56533de770914c848961c4b4ae6ea61b",
            "69ade504a54e480c8f8e33058320941a",
            "e32871a58a2c4f8a89ef0b6b2d604880",
            "28deb56875a54c80b74550bdd9646411",
            "dc492583c9804950a5fdcfd13e38cc19",
            "7ce2d99955954937a54a4a508608cb62",
            "fed6c37b21fd479d903678657cc1c8e7",
            "5226d7c4b71a48828f239d0d960e61f7",
            "442ccbcda67e4648ab4df5d109a51794",
            "7eee88b8a3024abfb1569276a6f1cc72",
            "2d3049d03387449e962cba0c1281af5a",
            "9cc06021bc494a3ea6b8c1b2e1f7ace0",
            "2f403d9281ec40b1832045bb8e629134",
            "c4a820af9b1b4e589747bea6515762dc",
            "710e724e3933436e9a70c073b7c760cf",
            "4f838c52733045b299f6cbca4fc7cb96",
            "1b20096e938f4090ae5933708f2d95c0",
            "b3718652f9c14f7892153c6841f03f0a",
            "c26d3bac5d364b1ca3ad34ae4e6c1936",
            "ca0ee8aa9a6a4f75a2784a62e1667583",
            "eaf058dbc411416fba5452988c7de1b1",
            "f2a410849236436884b48765f8e22a9d",
            "0e9f28017aa040f6b74b008b40e69f73",
            "c684ba88799844dfaed8cb16ff517023",
            "061a8556e9ac48e9b1475f8a73394038",
            "fafd129665eb4d39837aec3976438caf",
            "53b13208f8b54e49b3f9b23458173124",
            "3b867223136a42f9ac92b28fd2953708",
            "0f4ccc57548046a6bef8369e32903314",
            "de3edfa572544e78bab8febde4137eec",
            "5ded6881e41e4f5c91c517e508900a0b",
            "c005d153161e44b5b246f90852c8881f",
            "81808efae4214f238452db8e5a149065",
            "cd5de3be50394b2eb48efc83b0fa3516",
            "293b508e92414f02b61ead811507e020",
            "40046b7f5a954609ad925d0c5a63c3a8",
            "7145bb985448447b950f4d29bc01c739",
            "067537aea1af4502a8caf0ff948b5118",
            "dccd6b5e4bc549a5ab49ccbefe8ff5a3",
            "3bee3ff42ce2467d98497b13425fdbcc",
            "652622833e8640678d414f7084b2a1cc",
            "d83fccdb45324d53ab4697db71ce0865",
            "c9260a0f9a4b4493a327ee5ac5a98e42",
            "6f9a8a88052440a795ca5f56a50320fa",
            "4326748ca607498d864c936d25e43c1e",
            "774968847b414309b2cc6473aa865b3b",
            "14f22c5b709b408295654f7a23ffd665",
            "db8adbdcfeae468d84368e4b635b21a6",
            "560b95a9b6d7483095027f9bb08a4ec5",
            "4d3fddca99be49bd836a86e7138b81c3",
            "a8f35501e8af41449a7b3e4b96d44bee",
            "0749dadc460f482da2d280699df335e5",
            "b9b4f5d3f5cd450893bc7010456badce",
            "659890413fb34684b6d2f623877a530e",
            "5fabc807065f4c9eb86351b8ced7b75c",
            "4b90f8a6c4b5458a9a4b2874e009781b",
            "b0993a764bc34b13aede71b8461e9055",
            "132a89183c7944da8cc1a73c7f06bdfa",
            "40de19583835406a98ab2063282e295d"
          ]
        },
        "id": "gaw3yCNiO2pQ",
        "outputId": "907a36ef-7a5d-4a32-d63a-9ee1113a30b4"
      },
      "source": [
        "wandb.agent(sweep_id, train)"
      ],
      "execution_count": null,
      "outputs": [
        {
          "output_type": "stream",
          "text": [
            "INFO:wandb.agents.pyagent:Starting sweep agent: entity=None, project=None, count=None\n",
            "\u001b[34m\u001b[1mwandb\u001b[0m: Agent Starting Run: 0bjub8ob with config:\n",
            "\u001b[34m\u001b[1mwandb\u001b[0m: \tlearning_rate: 0.00018888022304542682\n",
            "\u001b[34m\u001b[1mwandb\u001b[0m: \tnum_train_epochs: 16\n",
            "\u001b[34m\u001b[1mwandb\u001b[0m: Currently logged in as: \u001b[33mmattzee\u001b[0m (use `wandb login --relogin` to force relogin)\n"
          ],
          "name": "stderr"
        },
        {
          "output_type": "display_data",
          "data": {
            "text/html": [
              "\n",
              "                Tracking run with wandb version 0.10.12<br/>\n",
              "                Syncing run <strong style=\"color:#cdcd00\">genial-sweep-1</strong> to <a href=\"https://wandb.ai\" target=\"_blank\">Weights & Biases</a> <a href=\"https://docs.wandb.com/integrations/jupyter.html\" target=\"_blank\">(Documentation)</a>.<br/>\n",
              "                Project page: <a href=\"https://wandb.ai/mattzee/TwitterSarcasmComp%20-%20Hyperparameter%20Optimization7\" target=\"_blank\">https://wandb.ai/mattzee/TwitterSarcasmComp%20-%20Hyperparameter%20Optimization7</a><br/>\n",
              "                Sweep page: <a href=\"https://wandb.ai/mattzee/TwitterSarcasmComp%20-%20Hyperparameter%20Optimization7/sweeps/88svtgvp\" target=\"_blank\">https://wandb.ai/mattzee/TwitterSarcasmComp%20-%20Hyperparameter%20Optimization7/sweeps/88svtgvp</a><br/>\n",
              "Run page: <a href=\"https://wandb.ai/mattzee/TwitterSarcasmComp%20-%20Hyperparameter%20Optimization7/runs/0bjub8ob\" target=\"_blank\">https://wandb.ai/mattzee/TwitterSarcasmComp%20-%20Hyperparameter%20Optimization7/runs/0bjub8ob</a><br/>\n",
              "                Run data is saved locally in <code>/content/gdrive/My Drive/TxtClassComp_MattzeePrivate/wandb/run-20201210_185423-0bjub8ob</code><br/><br/>\n",
              "            "
            ],
            "text/plain": [
              "<IPython.core.display.HTML object>"
            ]
          },
          "metadata": {
            "tags": []
          }
        },
        {
          "output_type": "stream",
          "text": [
            "INFO:filelock:Lock 140494308908280 acquired on /root/.cache/huggingface/transformers/733bade19e5f0ce98e6531021dd5180994bb2f7b8bd7e80c7968805834ba351e.35205c6cfc956461d8515139f0f8dd5d207a2f336c0c3a83b4bc8dca3518e37b.lock\n"
          ],
          "name": "stderr"
        },
        {
          "output_type": "display_data",
          "data": {
            "application/vnd.jupyter.widget-view+json": {
              "model_id": "c7240589ece349268aba5627298a621e",
              "version_minor": 0,
              "version_major": 2
            },
            "text/plain": [
              "HBox(children=(HTML(value='Downloading'), FloatProgress(value=0.0, max=481.0), HTML(value='')))"
            ]
          },
          "metadata": {
            "tags": []
          }
        },
        {
          "output_type": "stream",
          "text": [
            "INFO:filelock:Lock 140494308908280 released on /root/.cache/huggingface/transformers/733bade19e5f0ce98e6531021dd5180994bb2f7b8bd7e80c7968805834ba351e.35205c6cfc956461d8515139f0f8dd5d207a2f336c0c3a83b4bc8dca3518e37b.lock\n"
          ],
          "name": "stderr"
        },
        {
          "output_type": "stream",
          "text": [
            "\n"
          ],
          "name": "stdout"
        },
        {
          "output_type": "stream",
          "text": [
            "INFO:filelock:Lock 140494308907384 acquired on /root/.cache/huggingface/transformers/51ba668f7ff34e7cdfa9561e8361747738113878850a7d717dbc69de8683aaad.c7efaa30a0d80b2958b876969faa180e485944a849deee4ad482332de65365a7.lock\n"
          ],
          "name": "stderr"
        },
        {
          "output_type": "display_data",
          "data": {
            "application/vnd.jupyter.widget-view+json": {
              "model_id": "a673bb86227849438409a179b5703ed5",
              "version_minor": 0,
              "version_major": 2
            },
            "text/plain": [
              "HBox(children=(HTML(value='Downloading'), FloatProgress(value=0.0, max=501200538.0), HTML(value='')))"
            ]
          },
          "metadata": {
            "tags": []
          }
        },
        {
          "output_type": "stream",
          "text": [
            "INFO:filelock:Lock 140494308907384 released on /root/.cache/huggingface/transformers/51ba668f7ff34e7cdfa9561e8361747738113878850a7d717dbc69de8683aaad.c7efaa30a0d80b2958b876969faa180e485944a849deee4ad482332de65365a7.lock\n"
          ],
          "name": "stderr"
        },
        {
          "output_type": "stream",
          "text": [
            "\n"
          ],
          "name": "stdout"
        },
        {
          "output_type": "stream",
          "text": [
            "Some weights of the model checkpoint at roberta-base were not used when initializing RobertaForSequenceClassification: ['lm_head.bias', 'lm_head.dense.weight', 'lm_head.dense.bias', 'lm_head.layer_norm.weight', 'lm_head.layer_norm.bias', 'lm_head.decoder.weight']\n",
            "- This IS expected if you are initializing RobertaForSequenceClassification from the checkpoint of a model trained on another task or with another architecture (e.g. initializing a BertForSequenceClassification model from a BertForPreTraining model).\n",
            "- This IS NOT expected if you are initializing RobertaForSequenceClassification from the checkpoint of a model that you expect to be exactly identical (initializing a BertForSequenceClassification model from a BertForSequenceClassification model).\n",
            "Some weights of RobertaForSequenceClassification were not initialized from the model checkpoint at roberta-base and are newly initialized: ['classifier.dense.weight', 'classifier.dense.bias', 'classifier.out_proj.weight', 'classifier.out_proj.bias']\n",
            "You should probably TRAIN this model on a down-stream task to be able to use it for predictions and inference.\n",
            "INFO:filelock:Lock 140494325882104 acquired on /root/.cache/huggingface/transformers/d3ccdbfeb9aaa747ef20432d4976c32ee3fa69663b379deb253ccfce2bb1fdc5.d67d6b367eb24ab43b08ad55e014cf254076934f71d832bbab9ad35644a375ab.lock\n"
          ],
          "name": "stderr"
        },
        {
          "output_type": "display_data",
          "data": {
            "application/vnd.jupyter.widget-view+json": {
              "model_id": "9678c6b02ba740b99f4a04d3eeaf5bb9",
              "version_minor": 0,
              "version_major": 2
            },
            "text/plain": [
              "HBox(children=(HTML(value='Downloading'), FloatProgress(value=0.0, max=898823.0), HTML(value='')))"
            ]
          },
          "metadata": {
            "tags": []
          }
        },
        {
          "output_type": "stream",
          "text": [
            "INFO:filelock:Lock 140494325882104 released on /root/.cache/huggingface/transformers/d3ccdbfeb9aaa747ef20432d4976c32ee3fa69663b379deb253ccfce2bb1fdc5.d67d6b367eb24ab43b08ad55e014cf254076934f71d832bbab9ad35644a375ab.lock\n"
          ],
          "name": "stderr"
        },
        {
          "output_type": "stream",
          "text": [
            "\n"
          ],
          "name": "stdout"
        },
        {
          "output_type": "stream",
          "text": [
            "INFO:filelock:Lock 140494325882104 acquired on /root/.cache/huggingface/transformers/cafdecc90fcab17011e12ac813dd574b4b3fea39da6dd817813efa010262ff3f.5d12962c5ee615a4c803841266e9c3be9a691a924f72d395d3a6c6c81157788b.lock\n"
          ],
          "name": "stderr"
        },
        {
          "output_type": "display_data",
          "data": {
            "application/vnd.jupyter.widget-view+json": {
              "model_id": "e267eb2a2c1a430ea502a63a2e476aa8",
              "version_minor": 0,
              "version_major": 2
            },
            "text/plain": [
              "HBox(children=(HTML(value='Downloading'), FloatProgress(value=0.0, max=456318.0), HTML(value='')))"
            ]
          },
          "metadata": {
            "tags": []
          }
        },
        {
          "output_type": "stream",
          "text": [
            "INFO:filelock:Lock 140494325882104 released on /root/.cache/huggingface/transformers/cafdecc90fcab17011e12ac813dd574b4b3fea39da6dd817813efa010262ff3f.5d12962c5ee615a4c803841266e9c3be9a691a924f72d395d3a6c6c81157788b.lock\n"
          ],
          "name": "stderr"
        },
        {
          "output_type": "stream",
          "text": [
            "\n"
          ],
          "name": "stdout"
        },
        {
          "output_type": "stream",
          "text": [
            "INFO:simpletransformers.classification.classification_model: Converting to features started. Cache is not used.\n"
          ],
          "name": "stderr"
        },
        {
          "output_type": "display_data",
          "data": {
            "application/vnd.jupyter.widget-view+json": {
              "model_id": "694805029a74450e9dd51d11ce66c905",
              "version_minor": 0,
              "version_major": 2
            },
            "text/plain": [
              "HBox(children=(HTML(value=''), FloatProgress(value=0.0, max=4500.0), HTML(value='')))"
            ]
          },
          "metadata": {
            "tags": []
          }
        },
        {
          "output_type": "stream",
          "text": [
            "\n"
          ],
          "name": "stdout"
        },
        {
          "output_type": "display_data",
          "data": {
            "application/vnd.jupyter.widget-view+json": {
              "model_id": "3df599abacbf4be9beee32d7f05bbcce",
              "version_minor": 0,
              "version_major": 2
            },
            "text/plain": [
              "HBox(children=(HTML(value='Epoch'), FloatProgress(value=0.0, max=16.0), HTML(value='')))"
            ]
          },
          "metadata": {
            "tags": []
          }
        },
        {
          "output_type": "display_data",
          "data": {
            "application/vnd.jupyter.widget-view+json": {
              "model_id": "97e08559a79342abb8bdb1a3e60ba716",
              "version_minor": 0,
              "version_major": 2
            },
            "text/plain": [
              "HBox(children=(HTML(value='Running Epoch 0 of 16'), FloatProgress(value=0.0, max=1125.0), HTML(value='')))"
            ]
          },
          "metadata": {
            "tags": []
          }
        },
        {
          "output_type": "stream",
          "text": [
            "\n"
          ],
          "name": "stdout"
        },
        {
          "output_type": "display_data",
          "data": {
            "application/vnd.jupyter.widget-view+json": {
              "model_id": "1b95b39224b9450bae9c8f01a3c396fe",
              "version_minor": 0,
              "version_major": 2
            },
            "text/plain": [
              "HBox(children=(HTML(value=''), FloatProgress(value=0.0, max=500.0), HTML(value='')))"
            ]
          },
          "metadata": {
            "tags": []
          }
        },
        {
          "output_type": "stream",
          "text": [
            "\n"
          ],
          "name": "stdout"
        },
        {
          "output_type": "display_data",
          "data": {
            "application/vnd.jupyter.widget-view+json": {
              "model_id": "0b390cfe22364bb2a525b92484775765",
              "version_minor": 0,
              "version_major": 2
            },
            "text/plain": [
              "HBox(children=(HTML(value='Running Evaluation'), FloatProgress(value=0.0, max=250.0), HTML(value='')))"
            ]
          },
          "metadata": {
            "tags": []
          }
        },
        {
          "output_type": "stream",
          "text": [
            "\n"
          ],
          "name": "stdout"
        },
        {
          "output_type": "stream",
          "text": [
            "/usr/local/lib/python3.6/dist-packages/sklearn/metrics/_classification.py:900: RuntimeWarning: invalid value encountered in double_scalars\n",
            "  mcc = cov_ytyp / np.sqrt(cov_ytyt * cov_ypyp)\n"
          ],
          "name": "stderr"
        },
        {
          "output_type": "display_data",
          "data": {
            "application/vnd.jupyter.widget-view+json": {
              "model_id": "a21204cecf1542e581e5a1c0d46c4b42",
              "version_minor": 0,
              "version_major": 2
            },
            "text/plain": [
              "HBox(children=(HTML(value='Running Epoch 1 of 16'), FloatProgress(value=0.0, max=1125.0), HTML(value='')))"
            ]
          },
          "metadata": {
            "tags": []
          }
        },
        {
          "output_type": "display_data",
          "data": {
            "application/vnd.jupyter.widget-view+json": {
              "model_id": "3fe90b56973843c4b48c7c353a36651b",
              "version_minor": 0,
              "version_major": 2
            },
            "text/plain": [
              "HBox(children=(HTML(value=''), FloatProgress(value=0.0, max=500.0), HTML(value='')))"
            ]
          },
          "metadata": {
            "tags": []
          }
        },
        {
          "output_type": "stream",
          "text": [
            "\n"
          ],
          "name": "stdout"
        },
        {
          "output_type": "display_data",
          "data": {
            "application/vnd.jupyter.widget-view+json": {
              "model_id": "ccdf29d596d241008351cbd3152b5ede",
              "version_minor": 0,
              "version_major": 2
            },
            "text/plain": [
              "HBox(children=(HTML(value='Running Evaluation'), FloatProgress(value=0.0, max=250.0), HTML(value='')))"
            ]
          },
          "metadata": {
            "tags": []
          }
        },
        {
          "output_type": "stream",
          "text": [
            "\n",
            "\n"
          ],
          "name": "stdout"
        },
        {
          "output_type": "display_data",
          "data": {
            "application/vnd.jupyter.widget-view+json": {
              "model_id": "9f9c9e47d85541658bb938822c64a30c",
              "version_minor": 0,
              "version_major": 2
            },
            "text/plain": [
              "HBox(children=(HTML(value=''), FloatProgress(value=0.0, max=500.0), HTML(value='')))"
            ]
          },
          "metadata": {
            "tags": []
          }
        },
        {
          "output_type": "stream",
          "text": [
            "\n"
          ],
          "name": "stdout"
        },
        {
          "output_type": "display_data",
          "data": {
            "application/vnd.jupyter.widget-view+json": {
              "model_id": "263ab633469d44329a1bed086627b608",
              "version_minor": 0,
              "version_major": 2
            },
            "text/plain": [
              "HBox(children=(HTML(value='Running Evaluation'), FloatProgress(value=0.0, max=250.0), HTML(value='')))"
            ]
          },
          "metadata": {
            "tags": []
          }
        },
        {
          "output_type": "stream",
          "text": [
            "\n"
          ],
          "name": "stdout"
        },
        {
          "output_type": "display_data",
          "data": {
            "application/vnd.jupyter.widget-view+json": {
              "model_id": "af6c245d965446c584b54d8f78bb7cc1",
              "version_minor": 0,
              "version_major": 2
            },
            "text/plain": [
              "HBox(children=(HTML(value='Running Epoch 2 of 16'), FloatProgress(value=0.0, max=1125.0), HTML(value='')))"
            ]
          },
          "metadata": {
            "tags": []
          }
        },
        {
          "output_type": "stream",
          "text": [
            "\n"
          ],
          "name": "stdout"
        },
        {
          "output_type": "display_data",
          "data": {
            "application/vnd.jupyter.widget-view+json": {
              "model_id": "d2f03b8bfce74949a3cb5ab5d4091c51",
              "version_minor": 0,
              "version_major": 2
            },
            "text/plain": [
              "HBox(children=(HTML(value=''), FloatProgress(value=0.0, max=500.0), HTML(value='')))"
            ]
          },
          "metadata": {
            "tags": []
          }
        },
        {
          "output_type": "stream",
          "text": [
            "\n"
          ],
          "name": "stdout"
        },
        {
          "output_type": "display_data",
          "data": {
            "application/vnd.jupyter.widget-view+json": {
              "model_id": "977ae7cacc7440eab6a2cb0a7ed6442c",
              "version_minor": 0,
              "version_major": 2
            },
            "text/plain": [
              "HBox(children=(HTML(value='Running Evaluation'), FloatProgress(value=0.0, max=250.0), HTML(value='')))"
            ]
          },
          "metadata": {
            "tags": []
          }
        },
        {
          "output_type": "stream",
          "text": [
            "\n"
          ],
          "name": "stdout"
        },
        {
          "output_type": "display_data",
          "data": {
            "application/vnd.jupyter.widget-view+json": {
              "model_id": "d8ccaf6cac8d40efa7c3e71e44082344",
              "version_minor": 0,
              "version_major": 2
            },
            "text/plain": [
              "HBox(children=(HTML(value='Running Epoch 3 of 16'), FloatProgress(value=0.0, max=1125.0), HTML(value='')))"
            ]
          },
          "metadata": {
            "tags": []
          }
        },
        {
          "output_type": "display_data",
          "data": {
            "application/vnd.jupyter.widget-view+json": {
              "model_id": "fbe210a5bb5f4b14a0d20d9b5cb737dd",
              "version_minor": 0,
              "version_major": 2
            },
            "text/plain": [
              "HBox(children=(HTML(value=''), FloatProgress(value=0.0, max=500.0), HTML(value='')))"
            ]
          },
          "metadata": {
            "tags": []
          }
        },
        {
          "output_type": "stream",
          "text": [
            "\n"
          ],
          "name": "stdout"
        },
        {
          "output_type": "display_data",
          "data": {
            "application/vnd.jupyter.widget-view+json": {
              "model_id": "1fc7703b63ce42b3b8b8e06f5051b006",
              "version_minor": 0,
              "version_major": 2
            },
            "text/plain": [
              "HBox(children=(HTML(value='Running Evaluation'), FloatProgress(value=0.0, max=250.0), HTML(value='')))"
            ]
          },
          "metadata": {
            "tags": []
          }
        },
        {
          "output_type": "stream",
          "text": [
            "\n"
          ],
          "name": "stdout"
        },
        {
          "output_type": "stream",
          "text": [
            "INFO:simpletransformers.classification.classification_model: No improvement in acc\n",
            "INFO:simpletransformers.classification.classification_model: Current step: 1\n",
            "INFO:simpletransformers.classification.classification_model: Early stopping patience: 5\n"
          ],
          "name": "stderr"
        },
        {
          "output_type": "stream",
          "text": [
            "\n"
          ],
          "name": "stdout"
        },
        {
          "output_type": "display_data",
          "data": {
            "application/vnd.jupyter.widget-view+json": {
              "model_id": "cca6a823f7d4428c9773a93bdb1ec50c",
              "version_minor": 0,
              "version_major": 2
            },
            "text/plain": [
              "HBox(children=(HTML(value=''), FloatProgress(value=0.0, max=500.0), HTML(value='')))"
            ]
          },
          "metadata": {
            "tags": []
          }
        },
        {
          "output_type": "stream",
          "text": [
            "\n"
          ],
          "name": "stdout"
        },
        {
          "output_type": "display_data",
          "data": {
            "application/vnd.jupyter.widget-view+json": {
              "model_id": "8221a0c56db0461298969d75e03361b8",
              "version_minor": 0,
              "version_major": 2
            },
            "text/plain": [
              "HBox(children=(HTML(value='Running Evaluation'), FloatProgress(value=0.0, max=250.0), HTML(value='')))"
            ]
          },
          "metadata": {
            "tags": []
          }
        },
        {
          "output_type": "stream",
          "text": [
            "\n"
          ],
          "name": "stdout"
        },
        {
          "output_type": "display_data",
          "data": {
            "application/vnd.jupyter.widget-view+json": {
              "model_id": "2a34bbe6c84744308c207e81883efa67",
              "version_minor": 0,
              "version_major": 2
            },
            "text/plain": [
              "HBox(children=(HTML(value='Running Epoch 4 of 16'), FloatProgress(value=0.0, max=1125.0), HTML(value='')))"
            ]
          },
          "metadata": {
            "tags": []
          }
        },
        {
          "output_type": "stream",
          "text": [
            "\n"
          ],
          "name": "stdout"
        },
        {
          "output_type": "display_data",
          "data": {
            "application/vnd.jupyter.widget-view+json": {
              "model_id": "56533de770914c848961c4b4ae6ea61b",
              "version_minor": 0,
              "version_major": 2
            },
            "text/plain": [
              "HBox(children=(HTML(value=''), FloatProgress(value=0.0, max=500.0), HTML(value='')))"
            ]
          },
          "metadata": {
            "tags": []
          }
        },
        {
          "output_type": "stream",
          "text": [
            "\n"
          ],
          "name": "stdout"
        },
        {
          "output_type": "display_data",
          "data": {
            "application/vnd.jupyter.widget-view+json": {
              "model_id": "69ade504a54e480c8f8e33058320941a",
              "version_minor": 0,
              "version_major": 2
            },
            "text/plain": [
              "HBox(children=(HTML(value='Running Evaluation'), FloatProgress(value=0.0, max=250.0), HTML(value='')))"
            ]
          },
          "metadata": {
            "tags": []
          }
        },
        {
          "output_type": "stream",
          "text": [
            "\n"
          ],
          "name": "stdout"
        },
        {
          "output_type": "display_data",
          "data": {
            "application/vnd.jupyter.widget-view+json": {
              "model_id": "e32871a58a2c4f8a89ef0b6b2d604880",
              "version_minor": 0,
              "version_major": 2
            },
            "text/plain": [
              "HBox(children=(HTML(value='Running Epoch 5 of 16'), FloatProgress(value=0.0, max=1125.0), HTML(value='')))"
            ]
          },
          "metadata": {
            "tags": []
          }
        },
        {
          "output_type": "display_data",
          "data": {
            "application/vnd.jupyter.widget-view+json": {
              "model_id": "28deb56875a54c80b74550bdd9646411",
              "version_minor": 0,
              "version_major": 2
            },
            "text/plain": [
              "HBox(children=(HTML(value=''), FloatProgress(value=0.0, max=500.0), HTML(value='')))"
            ]
          },
          "metadata": {
            "tags": []
          }
        },
        {
          "output_type": "stream",
          "text": [
            "\n"
          ],
          "name": "stdout"
        },
        {
          "output_type": "display_data",
          "data": {
            "application/vnd.jupyter.widget-view+json": {
              "model_id": "dc492583c9804950a5fdcfd13e38cc19",
              "version_minor": 0,
              "version_major": 2
            },
            "text/plain": [
              "HBox(children=(HTML(value='Running Evaluation'), FloatProgress(value=0.0, max=250.0), HTML(value='')))"
            ]
          },
          "metadata": {
            "tags": []
          }
        },
        {
          "output_type": "stream",
          "text": [
            "\n"
          ],
          "name": "stdout"
        },
        {
          "output_type": "stream",
          "text": [
            "INFO:simpletransformers.classification.classification_model: No improvement in acc\n",
            "INFO:simpletransformers.classification.classification_model: Current step: 2\n",
            "INFO:simpletransformers.classification.classification_model: Early stopping patience: 5\n"
          ],
          "name": "stderr"
        },
        {
          "output_type": "stream",
          "text": [
            "\n"
          ],
          "name": "stdout"
        },
        {
          "output_type": "display_data",
          "data": {
            "application/vnd.jupyter.widget-view+json": {
              "model_id": "7ce2d99955954937a54a4a508608cb62",
              "version_minor": 0,
              "version_major": 2
            },
            "text/plain": [
              "HBox(children=(HTML(value=''), FloatProgress(value=0.0, max=500.0), HTML(value='')))"
            ]
          },
          "metadata": {
            "tags": []
          }
        },
        {
          "output_type": "stream",
          "text": [
            "\n"
          ],
          "name": "stdout"
        },
        {
          "output_type": "display_data",
          "data": {
            "application/vnd.jupyter.widget-view+json": {
              "model_id": "fed6c37b21fd479d903678657cc1c8e7",
              "version_minor": 0,
              "version_major": 2
            },
            "text/plain": [
              "HBox(children=(HTML(value='Running Evaluation'), FloatProgress(value=0.0, max=250.0), HTML(value='')))"
            ]
          },
          "metadata": {
            "tags": []
          }
        },
        {
          "output_type": "stream",
          "text": [
            "\n"
          ],
          "name": "stdout"
        },
        {
          "output_type": "display_data",
          "data": {
            "application/vnd.jupyter.widget-view+json": {
              "model_id": "5226d7c4b71a48828f239d0d960e61f7",
              "version_minor": 0,
              "version_major": 2
            },
            "text/plain": [
              "HBox(children=(HTML(value='Running Epoch 6 of 16'), FloatProgress(value=0.0, max=1125.0), HTML(value='')))"
            ]
          },
          "metadata": {
            "tags": []
          }
        },
        {
          "output_type": "stream",
          "text": [
            "\n"
          ],
          "name": "stdout"
        },
        {
          "output_type": "display_data",
          "data": {
            "application/vnd.jupyter.widget-view+json": {
              "model_id": "442ccbcda67e4648ab4df5d109a51794",
              "version_minor": 0,
              "version_major": 2
            },
            "text/plain": [
              "HBox(children=(HTML(value=''), FloatProgress(value=0.0, max=500.0), HTML(value='')))"
            ]
          },
          "metadata": {
            "tags": []
          }
        },
        {
          "output_type": "stream",
          "text": [
            "\n"
          ],
          "name": "stdout"
        },
        {
          "output_type": "display_data",
          "data": {
            "application/vnd.jupyter.widget-view+json": {
              "model_id": "7eee88b8a3024abfb1569276a6f1cc72",
              "version_minor": 0,
              "version_major": 2
            },
            "text/plain": [
              "HBox(children=(HTML(value='Running Evaluation'), FloatProgress(value=0.0, max=250.0), HTML(value='')))"
            ]
          },
          "metadata": {
            "tags": []
          }
        },
        {
          "output_type": "stream",
          "text": [
            "\n"
          ],
          "name": "stdout"
        },
        {
          "output_type": "display_data",
          "data": {
            "application/vnd.jupyter.widget-view+json": {
              "model_id": "2d3049d03387449e962cba0c1281af5a",
              "version_minor": 0,
              "version_major": 2
            },
            "text/plain": [
              "HBox(children=(HTML(value='Running Epoch 7 of 16'), FloatProgress(value=0.0, max=1125.0), HTML(value='')))"
            ]
          },
          "metadata": {
            "tags": []
          }
        },
        {
          "output_type": "display_data",
          "data": {
            "application/vnd.jupyter.widget-view+json": {
              "model_id": "9cc06021bc494a3ea6b8c1b2e1f7ace0",
              "version_minor": 0,
              "version_major": 2
            },
            "text/plain": [
              "HBox(children=(HTML(value=''), FloatProgress(value=0.0, max=500.0), HTML(value='')))"
            ]
          },
          "metadata": {
            "tags": []
          }
        },
        {
          "output_type": "stream",
          "text": [
            "\n"
          ],
          "name": "stdout"
        },
        {
          "output_type": "display_data",
          "data": {
            "application/vnd.jupyter.widget-view+json": {
              "model_id": "2f403d9281ec40b1832045bb8e629134",
              "version_minor": 0,
              "version_major": 2
            },
            "text/plain": [
              "HBox(children=(HTML(value='Running Evaluation'), FloatProgress(value=0.0, max=250.0), HTML(value='')))"
            ]
          },
          "metadata": {
            "tags": []
          }
        },
        {
          "output_type": "stream",
          "text": [
            "\n"
          ],
          "name": "stdout"
        },
        {
          "output_type": "stream",
          "text": [
            "INFO:simpletransformers.classification.classification_model: No improvement in acc\n",
            "INFO:simpletransformers.classification.classification_model: Current step: 3\n",
            "INFO:simpletransformers.classification.classification_model: Early stopping patience: 5\n"
          ],
          "name": "stderr"
        },
        {
          "output_type": "stream",
          "text": [
            "\n"
          ],
          "name": "stdout"
        },
        {
          "output_type": "display_data",
          "data": {
            "application/vnd.jupyter.widget-view+json": {
              "model_id": "c4a820af9b1b4e589747bea6515762dc",
              "version_minor": 0,
              "version_major": 2
            },
            "text/plain": [
              "HBox(children=(HTML(value=''), FloatProgress(value=0.0, max=500.0), HTML(value='')))"
            ]
          },
          "metadata": {
            "tags": []
          }
        },
        {
          "output_type": "stream",
          "text": [
            "\n"
          ],
          "name": "stdout"
        },
        {
          "output_type": "display_data",
          "data": {
            "application/vnd.jupyter.widget-view+json": {
              "model_id": "710e724e3933436e9a70c073b7c760cf",
              "version_minor": 0,
              "version_major": 2
            },
            "text/plain": [
              "HBox(children=(HTML(value='Running Evaluation'), FloatProgress(value=0.0, max=250.0), HTML(value='')))"
            ]
          },
          "metadata": {
            "tags": []
          }
        },
        {
          "output_type": "stream",
          "text": [
            "\n"
          ],
          "name": "stdout"
        },
        {
          "output_type": "display_data",
          "data": {
            "application/vnd.jupyter.widget-view+json": {
              "model_id": "4f838c52733045b299f6cbca4fc7cb96",
              "version_minor": 0,
              "version_major": 2
            },
            "text/plain": [
              "HBox(children=(HTML(value='Running Epoch 8 of 16'), FloatProgress(value=0.0, max=1125.0), HTML(value='')))"
            ]
          },
          "metadata": {
            "tags": []
          }
        },
        {
          "output_type": "display_data",
          "data": {
            "application/vnd.jupyter.widget-view+json": {
              "model_id": "1b20096e938f4090ae5933708f2d95c0",
              "version_minor": 0,
              "version_major": 2
            },
            "text/plain": [
              "HBox(children=(HTML(value=''), FloatProgress(value=0.0, max=500.0), HTML(value='')))"
            ]
          },
          "metadata": {
            "tags": []
          }
        },
        {
          "output_type": "stream",
          "text": [
            "\n"
          ],
          "name": "stdout"
        },
        {
          "output_type": "display_data",
          "data": {
            "application/vnd.jupyter.widget-view+json": {
              "model_id": "b3718652f9c14f7892153c6841f03f0a",
              "version_minor": 0,
              "version_major": 2
            },
            "text/plain": [
              "HBox(children=(HTML(value='Running Evaluation'), FloatProgress(value=0.0, max=250.0), HTML(value='')))"
            ]
          },
          "metadata": {
            "tags": []
          }
        },
        {
          "output_type": "stream",
          "text": [
            "\n"
          ],
          "name": "stdout"
        },
        {
          "output_type": "stream",
          "text": [
            "INFO:simpletransformers.classification.classification_model: No improvement in acc\n",
            "INFO:simpletransformers.classification.classification_model: Current step: 4\n",
            "INFO:simpletransformers.classification.classification_model: Early stopping patience: 5\n"
          ],
          "name": "stderr"
        },
        {
          "output_type": "stream",
          "text": [
            "\n"
          ],
          "name": "stdout"
        },
        {
          "output_type": "display_data",
          "data": {
            "application/vnd.jupyter.widget-view+json": {
              "model_id": "c26d3bac5d364b1ca3ad34ae4e6c1936",
              "version_minor": 0,
              "version_major": 2
            },
            "text/plain": [
              "HBox(children=(HTML(value=''), FloatProgress(value=0.0, max=500.0), HTML(value='')))"
            ]
          },
          "metadata": {
            "tags": []
          }
        },
        {
          "output_type": "stream",
          "text": [
            "\n"
          ],
          "name": "stdout"
        },
        {
          "output_type": "display_data",
          "data": {
            "application/vnd.jupyter.widget-view+json": {
              "model_id": "ca0ee8aa9a6a4f75a2784a62e1667583",
              "version_minor": 0,
              "version_major": 2
            },
            "text/plain": [
              "HBox(children=(HTML(value='Running Evaluation'), FloatProgress(value=0.0, max=250.0), HTML(value='')))"
            ]
          },
          "metadata": {
            "tags": []
          }
        },
        {
          "output_type": "stream",
          "text": [
            "\n"
          ],
          "name": "stdout"
        },
        {
          "output_type": "display_data",
          "data": {
            "application/vnd.jupyter.widget-view+json": {
              "model_id": "eaf058dbc411416fba5452988c7de1b1",
              "version_minor": 0,
              "version_major": 2
            },
            "text/plain": [
              "HBox(children=(HTML(value='Running Epoch 9 of 16'), FloatProgress(value=0.0, max=1125.0), HTML(value='')))"
            ]
          },
          "metadata": {
            "tags": []
          }
        },
        {
          "output_type": "stream",
          "text": [
            "\n"
          ],
          "name": "stdout"
        },
        {
          "output_type": "display_data",
          "data": {
            "application/vnd.jupyter.widget-view+json": {
              "model_id": "f2a410849236436884b48765f8e22a9d",
              "version_minor": 0,
              "version_major": 2
            },
            "text/plain": [
              "HBox(children=(HTML(value=''), FloatProgress(value=0.0, max=500.0), HTML(value='')))"
            ]
          },
          "metadata": {
            "tags": []
          }
        },
        {
          "output_type": "stream",
          "text": [
            "\n"
          ],
          "name": "stdout"
        },
        {
          "output_type": "display_data",
          "data": {
            "application/vnd.jupyter.widget-view+json": {
              "model_id": "0e9f28017aa040f6b74b008b40e69f73",
              "version_minor": 0,
              "version_major": 2
            },
            "text/plain": [
              "HBox(children=(HTML(value='Running Evaluation'), FloatProgress(value=0.0, max=250.0), HTML(value='')))"
            ]
          },
          "metadata": {
            "tags": []
          }
        },
        {
          "output_type": "stream",
          "text": [
            "\n"
          ],
          "name": "stdout"
        },
        {
          "output_type": "display_data",
          "data": {
            "application/vnd.jupyter.widget-view+json": {
              "model_id": "c684ba88799844dfaed8cb16ff517023",
              "version_minor": 0,
              "version_major": 2
            },
            "text/plain": [
              "HBox(children=(HTML(value='Running Epoch 10 of 16'), FloatProgress(value=0.0, max=1125.0), HTML(value='')))"
            ]
          },
          "metadata": {
            "tags": []
          }
        },
        {
          "output_type": "display_data",
          "data": {
            "application/vnd.jupyter.widget-view+json": {
              "model_id": "061a8556e9ac48e9b1475f8a73394038",
              "version_minor": 0,
              "version_major": 2
            },
            "text/plain": [
              "HBox(children=(HTML(value=''), FloatProgress(value=0.0, max=500.0), HTML(value='')))"
            ]
          },
          "metadata": {
            "tags": []
          }
        },
        {
          "output_type": "stream",
          "text": [
            "\n"
          ],
          "name": "stdout"
        },
        {
          "output_type": "display_data",
          "data": {
            "application/vnd.jupyter.widget-view+json": {
              "model_id": "fafd129665eb4d39837aec3976438caf",
              "version_minor": 0,
              "version_major": 2
            },
            "text/plain": [
              "HBox(children=(HTML(value='Running Evaluation'), FloatProgress(value=0.0, max=250.0), HTML(value='')))"
            ]
          },
          "metadata": {
            "tags": []
          }
        },
        {
          "output_type": "stream",
          "text": [
            "\n"
          ],
          "name": "stdout"
        },
        {
          "output_type": "stream",
          "text": [
            "INFO:simpletransformers.classification.classification_model: No improvement in acc\n",
            "INFO:simpletransformers.classification.classification_model: Current step: 5\n",
            "INFO:simpletransformers.classification.classification_model: Early stopping patience: 5\n"
          ],
          "name": "stderr"
        },
        {
          "output_type": "stream",
          "text": [
            "\n"
          ],
          "name": "stdout"
        },
        {
          "output_type": "display_data",
          "data": {
            "application/vnd.jupyter.widget-view+json": {
              "model_id": "53b13208f8b54e49b3f9b23458173124",
              "version_minor": 0,
              "version_major": 2
            },
            "text/plain": [
              "HBox(children=(HTML(value=''), FloatProgress(value=0.0, max=500.0), HTML(value='')))"
            ]
          },
          "metadata": {
            "tags": []
          }
        },
        {
          "output_type": "stream",
          "text": [
            "\n"
          ],
          "name": "stdout"
        },
        {
          "output_type": "display_data",
          "data": {
            "application/vnd.jupyter.widget-view+json": {
              "model_id": "3b867223136a42f9ac92b28fd2953708",
              "version_minor": 0,
              "version_major": 2
            },
            "text/plain": [
              "HBox(children=(HTML(value='Running Evaluation'), FloatProgress(value=0.0, max=250.0), HTML(value='')))"
            ]
          },
          "metadata": {
            "tags": []
          }
        },
        {
          "output_type": "stream",
          "text": [
            "\n"
          ],
          "name": "stdout"
        },
        {
          "output_type": "display_data",
          "data": {
            "application/vnd.jupyter.widget-view+json": {
              "model_id": "0f4ccc57548046a6bef8369e32903314",
              "version_minor": 0,
              "version_major": 2
            },
            "text/plain": [
              "HBox(children=(HTML(value='Running Epoch 11 of 16'), FloatProgress(value=0.0, max=1125.0), HTML(value='')))"
            ]
          },
          "metadata": {
            "tags": []
          }
        },
        {
          "output_type": "stream",
          "text": [
            "\n"
          ],
          "name": "stdout"
        },
        {
          "output_type": "display_data",
          "data": {
            "application/vnd.jupyter.widget-view+json": {
              "model_id": "de3edfa572544e78bab8febde4137eec",
              "version_minor": 0,
              "version_major": 2
            },
            "text/plain": [
              "HBox(children=(HTML(value=''), FloatProgress(value=0.0, max=500.0), HTML(value='')))"
            ]
          },
          "metadata": {
            "tags": []
          }
        },
        {
          "output_type": "stream",
          "text": [
            "\n"
          ],
          "name": "stdout"
        },
        {
          "output_type": "display_data",
          "data": {
            "application/vnd.jupyter.widget-view+json": {
              "model_id": "5ded6881e41e4f5c91c517e508900a0b",
              "version_minor": 0,
              "version_major": 2
            },
            "text/plain": [
              "HBox(children=(HTML(value='Running Evaluation'), FloatProgress(value=0.0, max=250.0), HTML(value='')))"
            ]
          },
          "metadata": {
            "tags": []
          }
        },
        {
          "output_type": "stream",
          "text": [
            "\n"
          ],
          "name": "stdout"
        },
        {
          "output_type": "display_data",
          "data": {
            "application/vnd.jupyter.widget-view+json": {
              "model_id": "c005d153161e44b5b246f90852c8881f",
              "version_minor": 0,
              "version_major": 2
            },
            "text/plain": [
              "HBox(children=(HTML(value='Running Epoch 12 of 16'), FloatProgress(value=0.0, max=1125.0), HTML(value='')))"
            ]
          },
          "metadata": {
            "tags": []
          }
        },
        {
          "output_type": "display_data",
          "data": {
            "application/vnd.jupyter.widget-view+json": {
              "model_id": "81808efae4214f238452db8e5a149065",
              "version_minor": 0,
              "version_major": 2
            },
            "text/plain": [
              "HBox(children=(HTML(value=''), FloatProgress(value=0.0, max=500.0), HTML(value='')))"
            ]
          },
          "metadata": {
            "tags": []
          }
        },
        {
          "output_type": "stream",
          "text": [
            "\n"
          ],
          "name": "stdout"
        },
        {
          "output_type": "display_data",
          "data": {
            "application/vnd.jupyter.widget-view+json": {
              "model_id": "cd5de3be50394b2eb48efc83b0fa3516",
              "version_minor": 0,
              "version_major": 2
            },
            "text/plain": [
              "HBox(children=(HTML(value='Running Evaluation'), FloatProgress(value=0.0, max=250.0), HTML(value='')))"
            ]
          },
          "metadata": {
            "tags": []
          }
        },
        {
          "output_type": "stream",
          "text": [
            "\n"
          ],
          "name": "stdout"
        },
        {
          "output_type": "stream",
          "text": [
            "INFO:simpletransformers.classification.classification_model: Patience of 5 steps reached\n",
            "INFO:simpletransformers.classification.classification_model: Training terminated.\n",
            "INFO:simpletransformers.classification.classification_model: Training of roberta model complete. Saved to outputs/.\n"
          ],
          "name": "stderr"
        },
        {
          "output_type": "stream",
          "text": [
            "\n",
            "\n"
          ],
          "name": "stdout"
        },
        {
          "output_type": "display_data",
          "data": {
            "text/html": [
              "<br/>Waiting for W&B process to finish, PID 366<br/>Program ended successfully."
            ],
            "text/plain": [
              "<IPython.core.display.HTML object>"
            ]
          },
          "metadata": {
            "tags": []
          }
        },
        {
          "output_type": "display_data",
          "data": {
            "application/vnd.jupyter.widget-view+json": {
              "model_id": "293b508e92414f02b61ead811507e020",
              "version_minor": 0,
              "version_major": 2
            },
            "text/plain": [
              "VBox(children=(Label(value=' 0.00MB of 0.00MB uploaded (0.00MB deduped)\\r'), FloatProgress(value=1.0, max=1.0)…"
            ]
          },
          "metadata": {
            "tags": []
          }
        },
        {
          "output_type": "display_data",
          "data": {
            "text/html": [
              "Find user logs for this run at: <code>/content/gdrive/My Drive/TxtClassComp_MattzeePrivate/wandb/run-20201210_185423-0bjub8ob/logs/debug.log</code>"
            ],
            "text/plain": [
              "<IPython.core.display.HTML object>"
            ]
          },
          "metadata": {
            "tags": []
          }
        },
        {
          "output_type": "display_data",
          "data": {
            "text/html": [
              "Find internal logs for this run at: <code>/content/gdrive/My Drive/TxtClassComp_MattzeePrivate/wandb/run-20201210_185423-0bjub8ob/logs/debug-internal.log</code>"
            ],
            "text/plain": [
              "<IPython.core.display.HTML object>"
            ]
          },
          "metadata": {
            "tags": []
          }
        },
        {
          "output_type": "display_data",
          "data": {
            "text/html": [
              "<h3>Run summary:</h3><br/><style>\n",
              "    table.wandb td:nth-child(1) { padding: 0 10px; text-align: right }\n",
              "    </style><table class=\"wandb\">\n",
              "<tr><td>Training loss</td><td>0.56237</td></tr><tr><td>lr</td><td>4e-05</td></tr><tr><td>global_step</td><td>7000</td></tr><tr><td>_step</td><td>158</td></tr><tr><td>_runtime</td><td>1780</td></tr><tr><td>_timestamp</td><td>1607628243</td></tr><tr><td>tp</td><td>167</td></tr><tr><td>tn</td><td>166</td></tr><tr><td>fp</td><td>99</td></tr><tr><td>fn</td><td>68</td></tr><tr><td>mcc</td><td>0.33714</td></tr><tr><td>train_loss</td><td>0.56237</td></tr><tr><td>eval_loss</td><td>0.6412</td></tr><tr><td>acc</td><td>0.666</td></tr></table>"
            ],
            "text/plain": [
              "<IPython.core.display.HTML object>"
            ]
          },
          "metadata": {
            "tags": []
          }
        },
        {
          "output_type": "display_data",
          "data": {
            "text/html": [
              "<h3>Run history:</h3><br/><style>\n",
              "    table.wandb td:nth-child(1) { padding: 0 10px; text-align: right }\n",
              "    </style><table class=\"wandb\">\n",
              "<tr><td>Training loss</td><td>▂▃▃▂█▅▃▁▃▄▄▃▂▁▁▄▂▂▃▁▃▃▂▃▂▂▃▃▁▄▁▃▃▅▃▄▂▃▃▂</td></tr><tr><td>lr</td><td>▁▃▆███▇▇▇▇▇▇▆▆▆▆▆▅▅▅▅▅▅▄▄▄▄▄▃▃▃▃▃▃▂▂▂▂▂▁</td></tr><tr><td>global_step</td><td>▁▁▁▂▂▂▂▂▂▃▃▃▃▃▄▄▄▄▄▄▅▅▅▅▅▅▆▆▆▆▆▇▇▇▇▇▇███</td></tr><tr><td>_step</td><td>▁▁▁▂▂▂▂▂▂▃▃▃▃▃▄▄▄▄▄▄▅▅▅▅▅▅▆▆▆▆▆▇▇▇▇▇▇███</td></tr><tr><td>_runtime</td><td>▁▁▁▂▂▂▂▂▂▃▃▃▃▃▄▄▄▄▄▄▅▅▅▅▅▅▆▆▆▆▆▇▇▇▇▇▇███</td></tr><tr><td>_timestamp</td><td>▁▁▁▂▂▂▂▂▂▃▃▃▃▃▄▄▄▄▄▄▅▅▅▅▅▅▆▆▆▆▆▇▇▇▇▇▇███</td></tr><tr><td>tp</td><td>▁██████████████████</td></tr><tr><td>tn</td><td>█▁▁▁▁▁▁▁▁▁▁▁▁▁▁▁▁▁▁</td></tr><tr><td>fp</td><td>▁██████████████████</td></tr><tr><td>fn</td><td>█▁▁▁▁▁▁▁▁▁▁▁▁▁▁▁▁▁▁</td></tr><tr><td>mcc</td><td>▁██████████████████</td></tr><tr><td>train_loss</td><td>▆▁▂█▅▂▄▅▅▂▇▄▂▄▆▁▄▆▃</td></tr><tr><td>eval_loss</td><td>█▂▁▂▁▁▁▂▁▁▁▂▂▁▂▁▂▁▂</td></tr><tr><td>acc</td><td>▁██████████████████</td></tr></table><br/>"
            ],
            "text/plain": [
              "<IPython.core.display.HTML object>"
            ]
          },
          "metadata": {
            "tags": []
          }
        },
        {
          "output_type": "display_data",
          "data": {
            "text/html": [
              "Synced 5 W&B file(s), 0 media file(s), 0 artifact file(s) and 0 other file(s)"
            ],
            "text/plain": [
              "<IPython.core.display.HTML object>"
            ]
          },
          "metadata": {
            "tags": []
          }
        },
        {
          "output_type": "display_data",
          "data": {
            "text/html": [
              "\n",
              "                    <br/>Synced <strong style=\"color:#cdcd00\">genial-sweep-1</strong>: <a href=\"https://wandb.ai/mattzee/TwitterSarcasmComp%20-%20Hyperparameter%20Optimization7/runs/0bjub8ob\" target=\"_blank\">https://wandb.ai/mattzee/TwitterSarcasmComp%20-%20Hyperparameter%20Optimization7/runs/0bjub8ob</a><br/>\n",
              "                "
            ],
            "text/plain": [
              "<IPython.core.display.HTML object>"
            ]
          },
          "metadata": {
            "tags": []
          }
        },
        {
          "output_type": "stream",
          "text": [
            "\u001b[34m\u001b[1mwandb\u001b[0m: Agent Starting Run: 1pfqkq9s with config:\n",
            "\u001b[34m\u001b[1mwandb\u001b[0m: \tlearning_rate: 0.00022961584847515764\n",
            "\u001b[34m\u001b[1mwandb\u001b[0m: \tnum_train_epochs: 17\n"
          ],
          "name": "stderr"
        },
        {
          "output_type": "display_data",
          "data": {
            "text/html": [
              "\n",
              "                Tracking run with wandb version 0.10.12<br/>\n",
              "                Syncing run <strong style=\"color:#cdcd00\">jumping-sweep-2</strong> to <a href=\"https://wandb.ai\" target=\"_blank\">Weights & Biases</a> <a href=\"https://docs.wandb.com/integrations/jupyter.html\" target=\"_blank\">(Documentation)</a>.<br/>\n",
              "                Project page: <a href=\"https://wandb.ai/mattzee/TwitterSarcasmComp%20-%20Hyperparameter%20Optimization7\" target=\"_blank\">https://wandb.ai/mattzee/TwitterSarcasmComp%20-%20Hyperparameter%20Optimization7</a><br/>\n",
              "                Sweep page: <a href=\"https://wandb.ai/mattzee/TwitterSarcasmComp%20-%20Hyperparameter%20Optimization7/sweeps/88svtgvp\" target=\"_blank\">https://wandb.ai/mattzee/TwitterSarcasmComp%20-%20Hyperparameter%20Optimization7/sweeps/88svtgvp</a><br/>\n",
              "Run page: <a href=\"https://wandb.ai/mattzee/TwitterSarcasmComp%20-%20Hyperparameter%20Optimization7/runs/1pfqkq9s\" target=\"_blank\">https://wandb.ai/mattzee/TwitterSarcasmComp%20-%20Hyperparameter%20Optimization7/runs/1pfqkq9s</a><br/>\n",
              "                Run data is saved locally in <code>/content/gdrive/My Drive/TxtClassComp_MattzeePrivate/wandb/run-20201210_192407-1pfqkq9s</code><br/><br/>\n",
              "            "
            ],
            "text/plain": [
              "<IPython.core.display.HTML object>"
            ]
          },
          "metadata": {
            "tags": []
          }
        },
        {
          "output_type": "stream",
          "text": [
            "Some weights of the model checkpoint at roberta-base were not used when initializing RobertaForSequenceClassification: ['lm_head.bias', 'lm_head.dense.weight', 'lm_head.dense.bias', 'lm_head.layer_norm.weight', 'lm_head.layer_norm.bias', 'lm_head.decoder.weight']\n",
            "- This IS expected if you are initializing RobertaForSequenceClassification from the checkpoint of a model trained on another task or with another architecture (e.g. initializing a BertForSequenceClassification model from a BertForPreTraining model).\n",
            "- This IS NOT expected if you are initializing RobertaForSequenceClassification from the checkpoint of a model that you expect to be exactly identical (initializing a BertForSequenceClassification model from a BertForSequenceClassification model).\n",
            "Some weights of RobertaForSequenceClassification were not initialized from the model checkpoint at roberta-base and are newly initialized: ['classifier.dense.weight', 'classifier.dense.bias', 'classifier.out_proj.weight', 'classifier.out_proj.bias']\n",
            "You should probably TRAIN this model on a down-stream task to be able to use it for predictions and inference.\n",
            "INFO:simpletransformers.classification.classification_model: Converting to features started. Cache is not used.\n"
          ],
          "name": "stderr"
        },
        {
          "output_type": "display_data",
          "data": {
            "application/vnd.jupyter.widget-view+json": {
              "model_id": "40046b7f5a954609ad925d0c5a63c3a8",
              "version_minor": 0,
              "version_major": 2
            },
            "text/plain": [
              "HBox(children=(HTML(value=''), FloatProgress(value=0.0, max=4500.0), HTML(value='')))"
            ]
          },
          "metadata": {
            "tags": []
          }
        },
        {
          "output_type": "stream",
          "text": [
            "\n"
          ],
          "name": "stdout"
        },
        {
          "output_type": "display_data",
          "data": {
            "application/vnd.jupyter.widget-view+json": {
              "model_id": "7145bb985448447b950f4d29bc01c739",
              "version_minor": 0,
              "version_major": 2
            },
            "text/plain": [
              "HBox(children=(HTML(value='Epoch'), FloatProgress(value=0.0, max=17.0), HTML(value='')))"
            ]
          },
          "metadata": {
            "tags": []
          }
        },
        {
          "output_type": "display_data",
          "data": {
            "application/vnd.jupyter.widget-view+json": {
              "model_id": "067537aea1af4502a8caf0ff948b5118",
              "version_minor": 0,
              "version_major": 2
            },
            "text/plain": [
              "HBox(children=(HTML(value='Running Epoch 0 of 17'), FloatProgress(value=0.0, max=1125.0), HTML(value='')))"
            ]
          },
          "metadata": {
            "tags": []
          }
        },
        {
          "output_type": "stream",
          "text": [
            "\n"
          ],
          "name": "stdout"
        },
        {
          "output_type": "display_data",
          "data": {
            "application/vnd.jupyter.widget-view+json": {
              "model_id": "dccd6b5e4bc549a5ab49ccbefe8ff5a3",
              "version_minor": 0,
              "version_major": 2
            },
            "text/plain": [
              "HBox(children=(HTML(value=''), FloatProgress(value=0.0, max=500.0), HTML(value='')))"
            ]
          },
          "metadata": {
            "tags": []
          }
        },
        {
          "output_type": "stream",
          "text": [
            "\n"
          ],
          "name": "stdout"
        },
        {
          "output_type": "display_data",
          "data": {
            "application/vnd.jupyter.widget-view+json": {
              "model_id": "3bee3ff42ce2467d98497b13425fdbcc",
              "version_minor": 0,
              "version_major": 2
            },
            "text/plain": [
              "HBox(children=(HTML(value='Running Evaluation'), FloatProgress(value=0.0, max=250.0), HTML(value='')))"
            ]
          },
          "metadata": {
            "tags": []
          }
        },
        {
          "output_type": "stream",
          "text": [
            "\n"
          ],
          "name": "stdout"
        },
        {
          "output_type": "display_data",
          "data": {
            "application/vnd.jupyter.widget-view+json": {
              "model_id": "652622833e8640678d414f7084b2a1cc",
              "version_minor": 0,
              "version_major": 2
            },
            "text/plain": [
              "HBox(children=(HTML(value='Running Epoch 1 of 17'), FloatProgress(value=0.0, max=1125.0), HTML(value='')))"
            ]
          },
          "metadata": {
            "tags": []
          }
        },
        {
          "output_type": "display_data",
          "data": {
            "application/vnd.jupyter.widget-view+json": {
              "model_id": "d83fccdb45324d53ab4697db71ce0865",
              "version_minor": 0,
              "version_major": 2
            },
            "text/plain": [
              "HBox(children=(HTML(value=''), FloatProgress(value=0.0, max=500.0), HTML(value='')))"
            ]
          },
          "metadata": {
            "tags": []
          }
        },
        {
          "output_type": "stream",
          "text": [
            "\n"
          ],
          "name": "stdout"
        },
        {
          "output_type": "display_data",
          "data": {
            "application/vnd.jupyter.widget-view+json": {
              "model_id": "c9260a0f9a4b4493a327ee5ac5a98e42",
              "version_minor": 0,
              "version_major": 2
            },
            "text/plain": [
              "HBox(children=(HTML(value='Running Evaluation'), FloatProgress(value=0.0, max=250.0), HTML(value='')))"
            ]
          },
          "metadata": {
            "tags": []
          }
        },
        {
          "output_type": "stream",
          "text": [
            "INFO:simpletransformers.classification.classification_model: No improvement in acc\n",
            "INFO:simpletransformers.classification.classification_model: Current step: 1\n",
            "INFO:simpletransformers.classification.classification_model: Early stopping patience: 5\n"
          ],
          "name": "stderr"
        },
        {
          "output_type": "stream",
          "text": [
            "\n",
            "\n"
          ],
          "name": "stdout"
        },
        {
          "output_type": "display_data",
          "data": {
            "application/vnd.jupyter.widget-view+json": {
              "model_id": "6f9a8a88052440a795ca5f56a50320fa",
              "version_minor": 0,
              "version_major": 2
            },
            "text/plain": [
              "HBox(children=(HTML(value=''), FloatProgress(value=0.0, max=500.0), HTML(value='')))"
            ]
          },
          "metadata": {
            "tags": []
          }
        },
        {
          "output_type": "stream",
          "text": [
            "\n"
          ],
          "name": "stdout"
        },
        {
          "output_type": "display_data",
          "data": {
            "application/vnd.jupyter.widget-view+json": {
              "model_id": "4326748ca607498d864c936d25e43c1e",
              "version_minor": 0,
              "version_major": 2
            },
            "text/plain": [
              "HBox(children=(HTML(value='Running Evaluation'), FloatProgress(value=0.0, max=250.0), HTML(value='')))"
            ]
          },
          "metadata": {
            "tags": []
          }
        },
        {
          "output_type": "stream",
          "text": [
            "\n"
          ],
          "name": "stdout"
        },
        {
          "output_type": "display_data",
          "data": {
            "application/vnd.jupyter.widget-view+json": {
              "model_id": "774968847b414309b2cc6473aa865b3b",
              "version_minor": 0,
              "version_major": 2
            },
            "text/plain": [
              "HBox(children=(HTML(value='Running Epoch 2 of 17'), FloatProgress(value=0.0, max=1125.0), HTML(value='')))"
            ]
          },
          "metadata": {
            "tags": []
          }
        },
        {
          "output_type": "stream",
          "text": [
            "\n"
          ],
          "name": "stdout"
        },
        {
          "output_type": "display_data",
          "data": {
            "application/vnd.jupyter.widget-view+json": {
              "model_id": "14f22c5b709b408295654f7a23ffd665",
              "version_minor": 0,
              "version_major": 2
            },
            "text/plain": [
              "HBox(children=(HTML(value=''), FloatProgress(value=0.0, max=500.0), HTML(value='')))"
            ]
          },
          "metadata": {
            "tags": []
          }
        },
        {
          "output_type": "stream",
          "text": [
            "\n"
          ],
          "name": "stdout"
        },
        {
          "output_type": "display_data",
          "data": {
            "application/vnd.jupyter.widget-view+json": {
              "model_id": "db8adbdcfeae468d84368e4b635b21a6",
              "version_minor": 0,
              "version_major": 2
            },
            "text/plain": [
              "HBox(children=(HTML(value='Running Evaluation'), FloatProgress(value=0.0, max=250.0), HTML(value='')))"
            ]
          },
          "metadata": {
            "tags": []
          }
        },
        {
          "output_type": "stream",
          "text": [
            "\n"
          ],
          "name": "stdout"
        },
        {
          "output_type": "display_data",
          "data": {
            "application/vnd.jupyter.widget-view+json": {
              "model_id": "560b95a9b6d7483095027f9bb08a4ec5",
              "version_minor": 0,
              "version_major": 2
            },
            "text/plain": [
              "HBox(children=(HTML(value='Running Epoch 3 of 17'), FloatProgress(value=0.0, max=1125.0), HTML(value='')))"
            ]
          },
          "metadata": {
            "tags": []
          }
        },
        {
          "output_type": "display_data",
          "data": {
            "application/vnd.jupyter.widget-view+json": {
              "model_id": "4d3fddca99be49bd836a86e7138b81c3",
              "version_minor": 0,
              "version_major": 2
            },
            "text/plain": [
              "HBox(children=(HTML(value=''), FloatProgress(value=0.0, max=500.0), HTML(value='')))"
            ]
          },
          "metadata": {
            "tags": []
          }
        },
        {
          "output_type": "stream",
          "text": [
            "\n"
          ],
          "name": "stdout"
        },
        {
          "output_type": "display_data",
          "data": {
            "application/vnd.jupyter.widget-view+json": {
              "model_id": "a8f35501e8af41449a7b3e4b96d44bee",
              "version_minor": 0,
              "version_major": 2
            },
            "text/plain": [
              "HBox(children=(HTML(value='Running Evaluation'), FloatProgress(value=0.0, max=250.0), HTML(value='')))"
            ]
          },
          "metadata": {
            "tags": []
          }
        },
        {
          "output_type": "stream",
          "text": [
            "INFO:simpletransformers.classification.classification_model: No improvement in acc\n",
            "INFO:simpletransformers.classification.classification_model: Current step: 2\n",
            "INFO:simpletransformers.classification.classification_model: Early stopping patience: 5\n"
          ],
          "name": "stderr"
        },
        {
          "output_type": "stream",
          "text": [
            "\n",
            "\n"
          ],
          "name": "stdout"
        },
        {
          "output_type": "display_data",
          "data": {
            "application/vnd.jupyter.widget-view+json": {
              "model_id": "0749dadc460f482da2d280699df335e5",
              "version_minor": 0,
              "version_major": 2
            },
            "text/plain": [
              "HBox(children=(HTML(value=''), FloatProgress(value=0.0, max=500.0), HTML(value='')))"
            ]
          },
          "metadata": {
            "tags": []
          }
        },
        {
          "output_type": "stream",
          "text": [
            "\n"
          ],
          "name": "stdout"
        },
        {
          "output_type": "display_data",
          "data": {
            "application/vnd.jupyter.widget-view+json": {
              "model_id": "b9b4f5d3f5cd450893bc7010456badce",
              "version_minor": 0,
              "version_major": 2
            },
            "text/plain": [
              "HBox(children=(HTML(value='Running Evaluation'), FloatProgress(value=0.0, max=250.0), HTML(value='')))"
            ]
          },
          "metadata": {
            "tags": []
          }
        },
        {
          "output_type": "stream",
          "text": [
            "\n"
          ],
          "name": "stdout"
        },
        {
          "output_type": "display_data",
          "data": {
            "application/vnd.jupyter.widget-view+json": {
              "model_id": "659890413fb34684b6d2f623877a530e",
              "version_minor": 0,
              "version_major": 2
            },
            "text/plain": [
              "HBox(children=(HTML(value='Running Epoch 4 of 17'), FloatProgress(value=0.0, max=1125.0), HTML(value='')))"
            ]
          },
          "metadata": {
            "tags": []
          }
        },
        {
          "output_type": "stream",
          "text": [
            "\n"
          ],
          "name": "stdout"
        },
        {
          "output_type": "display_data",
          "data": {
            "application/vnd.jupyter.widget-view+json": {
              "model_id": "5fabc807065f4c9eb86351b8ced7b75c",
              "version_minor": 0,
              "version_major": 2
            },
            "text/plain": [
              "HBox(children=(HTML(value=''), FloatProgress(value=0.0, max=500.0), HTML(value='')))"
            ]
          },
          "metadata": {
            "tags": []
          }
        },
        {
          "output_type": "stream",
          "text": [
            "\n"
          ],
          "name": "stdout"
        },
        {
          "output_type": "display_data",
          "data": {
            "application/vnd.jupyter.widget-view+json": {
              "model_id": "4b90f8a6c4b5458a9a4b2874e009781b",
              "version_minor": 0,
              "version_major": 2
            },
            "text/plain": [
              "HBox(children=(HTML(value='Running Evaluation'), FloatProgress(value=0.0, max=250.0), HTML(value='')))"
            ]
          },
          "metadata": {
            "tags": []
          }
        },
        {
          "output_type": "stream",
          "text": [
            "\n"
          ],
          "name": "stdout"
        },
        {
          "output_type": "display_data",
          "data": {
            "application/vnd.jupyter.widget-view+json": {
              "model_id": "b0993a764bc34b13aede71b8461e9055",
              "version_minor": 0,
              "version_major": 2
            },
            "text/plain": [
              "HBox(children=(HTML(value='Running Epoch 5 of 17'), FloatProgress(value=0.0, max=1125.0), HTML(value='')))"
            ]
          },
          "metadata": {
            "tags": []
          }
        },
        {
          "output_type": "display_data",
          "data": {
            "application/vnd.jupyter.widget-view+json": {
              "model_id": "132a89183c7944da8cc1a73c7f06bdfa",
              "version_minor": 0,
              "version_major": 2
            },
            "text/plain": [
              "HBox(children=(HTML(value=''), FloatProgress(value=0.0, max=500.0), HTML(value='')))"
            ]
          },
          "metadata": {
            "tags": []
          }
        },
        {
          "output_type": "stream",
          "text": [
            "\n"
          ],
          "name": "stdout"
        },
        {
          "output_type": "display_data",
          "data": {
            "application/vnd.jupyter.widget-view+json": {
              "model_id": "40de19583835406a98ab2063282e295d",
              "version_minor": 0,
              "version_major": 2
            },
            "text/plain": [
              "HBox(children=(HTML(value='Running Evaluation'), FloatProgress(value=0.0, max=250.0), HTML(value='')))"
            ]
          },
          "metadata": {
            "tags": []
          }
        },
        {
          "output_type": "stream",
          "text": [
            "INFO:simpletransformers.classification.classification_model: No improvement in acc\n",
            "INFO:simpletransformers.classification.classification_model: Current step: 3\n",
            "INFO:simpletransformers.classification.classification_model: Early stopping patience: 5\n"
          ],
          "name": "stderr"
        },
        {
          "output_type": "stream",
          "text": [
            "\n",
            "Buffered data was truncated after reaching the output size limit."
          ],
          "name": "stdout"
        }
      ]
    },
    {
      "cell_type": "markdown",
      "metadata": {
        "id": "FPPRteYT4o-7"
      },
      "source": [
        ""
      ]
    },
    {
      "cell_type": "markdown",
      "metadata": {
        "id": "TNmFY98W4o64"
      },
      "source": [
        ""
      ]
    }
  ]
}